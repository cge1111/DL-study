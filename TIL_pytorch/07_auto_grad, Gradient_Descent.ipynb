{
 "cells": [
  {
   "cell_type": "markdown",
   "id": "aec0193a",
   "metadata": {},
   "source": [
    "# auto_grad"
   ]
  },
  {
   "cell_type": "code",
   "execution_count": 1,
   "id": "e5aae0b9",
   "metadata": {
    "ExecuteTime": {
     "end_time": "2022-06-27T04:56:05.950624Z",
     "start_time": "2022-06-27T04:56:05.661770Z"
    }
   },
   "outputs": [],
   "source": [
    "import torch"
   ]
  },
  {
   "cell_type": "code",
   "execution_count": 2,
   "id": "0f42170d",
   "metadata": {
    "ExecuteTime": {
     "end_time": "2022-06-27T04:56:26.754198Z",
     "start_time": "2022-06-27T04:56:26.750807Z"
    }
   },
   "outputs": [],
   "source": [
    "x = torch.FloatTensor([[1, 2],\n",
    "                      [3, 4]]).requires_grad_(True)"
   ]
  },
  {
   "cell_type": "code",
   "execution_count": 4,
   "id": "31ba0fa3",
   "metadata": {
    "ExecuteTime": {
     "end_time": "2022-06-27T04:57:12.317524Z",
     "start_time": "2022-06-27T04:57:12.310638Z"
    }
   },
   "outputs": [
    {
     "name": "stdout",
     "output_type": "stream",
     "text": [
      "tensor([[3., 4.],\n",
      "        [5., 6.]], grad_fn=<AddBackward0>)\n",
      "tensor([[-1.,  0.],\n",
      "        [ 1.,  2.]], grad_fn=<SubBackward0>)\n",
      "tensor([[-3.,  0.],\n",
      "        [ 5., 12.]], grad_fn=<MulBackward0>)\n",
      "tensor(14., grad_fn=<SumBackward0>)\n"
     ]
    }
   ],
   "source": [
    "x1 = x + 2\n",
    "x2 = x - 2\n",
    "x3 = x1 * x2\n",
    "y = x3.sum()\n",
    "\n",
    "print(x1)\n",
    "print(x2)\n",
    "print(x3)\n",
    "print(y)"
   ]
  },
  {
   "cell_type": "code",
   "execution_count": 5,
   "id": "1263dac1",
   "metadata": {
    "ExecuteTime": {
     "end_time": "2022-06-27T04:58:15.445392Z",
     "start_time": "2022-06-27T04:58:15.424942Z"
    }
   },
   "outputs": [],
   "source": [
    "# 그래디언트(gradient)를 자동으로 구함\n",
    "y.backward()"
   ]
  },
  {
   "cell_type": "code",
   "execution_count": 7,
   "id": "6c34b264",
   "metadata": {
    "ExecuteTime": {
     "end_time": "2022-06-27T04:59:37.593525Z",
     "start_time": "2022-06-27T04:59:37.586946Z"
    }
   },
   "outputs": [
    {
     "data": {
      "text/plain": [
       "tensor([[2., 4.],\n",
       "        [6., 8.]])"
      ]
     },
     "execution_count": 7,
     "metadata": {},
     "output_type": "execute_result"
    }
   ],
   "source": [
    "x.grad"
   ]
  },
  {
   "cell_type": "code",
   "execution_count": 12,
   "id": "04b6b8b8",
   "metadata": {
    "ExecuteTime": {
     "end_time": "2022-06-27T05:00:56.957306Z",
     "start_time": "2022-06-27T05:00:56.952085Z"
    }
   },
   "outputs": [
    {
     "data": {
      "text/plain": [
       "array([[-3.,  0.],\n",
       "       [ 5., 12.]], dtype=float32)"
      ]
     },
     "execution_count": 12,
     "metadata": {},
     "output_type": "execute_result"
    }
   ],
   "source": [
    "x3.detach_().numpy()"
   ]
  },
  {
   "cell_type": "markdown",
   "id": "e1527a7f",
   "metadata": {},
   "source": [
    "# Gradient Descent\n",
    "\n",
    "|target| = (3, 3) <br>\n",
    "|x| = (3, 3) <br>\n",
    "L(x) = MSE(target, x) <br>\n",
    "$\\hat x = argmin L(x)$ <br>\n",
    "\n",
    "★x <- x - learning_rate(1)*``L`(X)``★ <br> \n",
    "``L`(X)``  -> loss.backword() -> x.grad\n",
    "\n",
    "![gd.png](gd.png)"
   ]
  },
  {
   "cell_type": "code",
   "execution_count": 13,
   "id": "fef731df",
   "metadata": {
    "ExecuteTime": {
     "end_time": "2022-06-27T05:01:59.702406Z",
     "start_time": "2022-06-27T05:01:59.699528Z"
    }
   },
   "outputs": [],
   "source": [
    "import torch.nn.functional as F"
   ]
  },
  {
   "cell_type": "code",
   "execution_count": 14,
   "id": "1394faed",
   "metadata": {
    "ExecuteTime": {
     "end_time": "2022-06-27T05:04:00.285070Z",
     "start_time": "2022-06-27T05:04:00.281703Z"
    }
   },
   "outputs": [],
   "source": [
    "target = torch.FloatTensor([[.1, .2, .3],\n",
    "                            [.4, .5, .6],\n",
    "                            [.7, .8, .9]])"
   ]
  },
  {
   "cell_type": "code",
   "execution_count": 16,
   "id": "9f6b6ea0",
   "metadata": {
    "ExecuteTime": {
     "end_time": "2022-06-27T05:04:45.531975Z",
     "start_time": "2022-06-27T05:04:45.522027Z"
    }
   },
   "outputs": [
    {
     "data": {
      "text/plain": [
       "tensor([[0.2140, 0.1768, 0.0149],\n",
       "        [0.0103, 0.5413, 0.3092],\n",
       "        [0.8338, 0.4860, 0.4857]], requires_grad=True)"
      ]
     },
     "execution_count": 16,
     "metadata": {},
     "output_type": "execute_result"
    }
   ],
   "source": [
    "x = torch.rand_like(target)\n",
    "x.requires_grad  = True\n",
    "x"
   ]
  },
  {
   "cell_type": "code",
   "execution_count": 17,
   "id": "2bcfcec6",
   "metadata": {
    "ExecuteTime": {
     "end_time": "2022-06-27T05:05:14.914722Z",
     "start_time": "2022-06-27T05:05:14.903456Z"
    }
   },
   "outputs": [
    {
     "data": {
      "text/plain": [
       "tensor(0.0690, grad_fn=<MseLossBackward0>)"
      ]
     },
     "execution_count": 17,
     "metadata": {},
     "output_type": "execute_result"
    }
   ],
   "source": [
    "loss = F.mse_loss(x, target)\n",
    "loss"
   ]
  },
  {
   "cell_type": "markdown",
   "id": "c320b882",
   "metadata": {
    "ExecuteTime": {
     "end_time": "2022-06-27T05:10:02.186235Z",
     "start_time": "2022-06-27T05:10:02.182036Z"
    }
   },
   "source": [
    "[learning rate](https://bioinformaticsandme.tistory.com/130)"
   ]
  },
  {
   "cell_type": "code",
   "execution_count": 18,
   "id": "3009c9ef",
   "metadata": {
    "ExecuteTime": {
     "end_time": "2022-06-27T05:07:52.932253Z",
     "start_time": "2022-06-27T05:07:52.913988Z"
    }
   },
   "outputs": [
    {
     "name": "stdout",
     "output_type": "stream",
     "text": [
      "1-th Loss: 4.1748e-02\n",
      "tensor([[0.1887, 0.1820, 0.0783],\n",
      "        [0.0969, 0.5321, 0.3738],\n",
      "        [0.8040, 0.5558, 0.5778]], requires_grad=True)\n",
      "2-th Loss: 2.5255e-02\n",
      "tensor([[0.1690, 0.1860, 0.1276],\n",
      "        [0.1642, 0.5250, 0.4241],\n",
      "        [0.7809, 0.6100, 0.6494]], requires_grad=True)\n",
      "3-th Loss: 1.5278e-02\n",
      "tensor([[0.1536, 0.1891, 0.1659],\n",
      "        [0.2166, 0.5194, 0.4632],\n",
      "        [0.7629, 0.6523, 0.7051]], requires_grad=True)\n",
      "4-th Loss: 9.2420e-03\n",
      "tensor([[0.1417, 0.1915, 0.1957],\n",
      "        [0.2574, 0.5151, 0.4936],\n",
      "        [0.7490, 0.6851, 0.7484]], requires_grad=True)\n",
      "5-th Loss: 5.5908e-03\n",
      "tensor([[0.1325, 0.1934, 0.2189],\n",
      "        [0.2891, 0.5118, 0.5172],\n",
      "        [0.7381, 0.7106, 0.7821]], requires_grad=True)\n",
      "6-th Loss: 3.3821e-03\n",
      "tensor([[0.1252, 0.1949, 0.2369],\n",
      "        [0.3137, 0.5091, 0.5356],\n",
      "        [0.7296, 0.7305, 0.8083]], requires_grad=True)\n",
      "7-th Loss: 2.0460e-03\n",
      "tensor([[0.1196, 0.1960, 0.2509],\n",
      "        [0.3329, 0.5071, 0.5499],\n",
      "        [0.7230, 0.7459, 0.8287]], requires_grad=True)\n",
      "8-th Loss: 1.2377e-03\n",
      "tensor([[0.1153, 0.1969, 0.2618],\n",
      "        [0.3478, 0.5055, 0.5611],\n",
      "        [0.7179, 0.7579, 0.8445]], requires_grad=True)\n",
      "9-th Loss: 7.4872e-04\n",
      "tensor([[0.1119, 0.1976, 0.2703],\n",
      "        [0.3594, 0.5043, 0.5697],\n",
      "        [0.7139, 0.7673, 0.8568]], requires_grad=True)\n",
      "10-th Loss: 4.5293e-04\n",
      "tensor([[0.1092, 0.1981, 0.2769],\n",
      "        [0.3684, 0.5033, 0.5764],\n",
      "        [0.7108, 0.7746, 0.8664]], requires_grad=True)\n",
      "11-th Loss: 2.7399e-04\n",
      "tensor([[0.1072, 0.1985, 0.2820],\n",
      "        [0.3754, 0.5026, 0.5817],\n",
      "        [0.7084, 0.7802, 0.8739]], requires_grad=True)\n",
      "12-th Loss: 1.6575e-04\n",
      "tensor([[0.1056, 0.1989, 0.2860],\n",
      "        [0.3809, 0.5020, 0.5857],\n",
      "        [0.7066, 0.7846, 0.8797]], requires_grad=True)\n",
      "13-th Loss: 1.0027e-04\n",
      "tensor([[0.1043, 0.1991, 0.2891],\n",
      "        [0.3851, 0.5016, 0.5889],\n",
      "        [0.7051, 0.7880, 0.8842]], requires_grad=True)\n",
      "14-th Loss: 6.0656e-05\n",
      "tensor([[0.1034, 0.1993, 0.2915],\n",
      "        [0.3884, 0.5012, 0.5914],\n",
      "        [0.7040, 0.7907, 0.8877]], requires_grad=True)\n",
      "15-th Loss: 3.6693e-05\n",
      "tensor([[0.1026, 0.1995, 0.2934],\n",
      "        [0.3910, 0.5010, 0.5933],\n",
      "        [0.7031, 0.7928, 0.8904]], requires_grad=True)\n",
      "16-th Loss: 2.2197e-05\n",
      "tensor([[0.1020, 0.1996, 0.2949],\n",
      "        [0.3930, 0.5007, 0.5948],\n",
      "        [0.7024, 0.7944, 0.8926]], requires_grad=True)\n",
      "17-th Loss: 1.3428e-05\n",
      "tensor([[0.1016, 0.1997, 0.2960],\n",
      "        [0.3946, 0.5006, 0.5959],\n",
      "        [0.7019, 0.7956, 0.8942]], requires_grad=True)\n",
      "18-th Loss: 8.1230e-06\n",
      "tensor([[0.1012, 0.1997, 0.2969],\n",
      "        [0.3958, 0.5004, 0.5968],\n",
      "        [0.7015, 0.7966, 0.8955]], requires_grad=True)\n"
     ]
    }
   ],
   "source": [
    "threshold = 1e-5\n",
    "learning_rate = 1.\n",
    "iter_cnt = 0\n",
    "\n",
    "while loss > threshold:\n",
    "    iter_cnt += 1\n",
    "    loss.backward()\n",
    "    \n",
    "    x = x - learning_rate * x.grad\n",
    "    x.detach_()\n",
    "    x.requires_grad_(True)\n",
    "    \n",
    "    loss = F.mse_loss(x, target)\n",
    "    \n",
    "    print('%d-th Loss: %.4e' % (iter_cnt, loss))\n",
    "    print(x)"
   ]
  },
  {
   "cell_type": "code",
   "execution_count": null,
   "id": "0a543783",
   "metadata": {},
   "outputs": [],
   "source": []
  }
 ],
 "metadata": {
  "kernelspec": {
   "display_name": "Python 3 (ipykernel)",
   "language": "python",
   "name": "python3"
  },
  "language_info": {
   "codemirror_mode": {
    "name": "ipython",
    "version": 3
   },
   "file_extension": ".py",
   "mimetype": "text/x-python",
   "name": "python",
   "nbconvert_exporter": "python",
   "pygments_lexer": "ipython3",
   "version": "3.9.13"
  }
 },
 "nbformat": 4,
 "nbformat_minor": 5
}
