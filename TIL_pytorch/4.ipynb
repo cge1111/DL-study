{
 "cells": [
  {
   "cell_type": "code",
   "execution_count": 1,
   "id": "8a01a00d",
   "metadata": {
    "ExecuteTime": {
     "end_time": "2022-06-24T07:04:00.928877Z",
     "start_time": "2022-06-24T07:04:00.649074Z"
    }
   },
   "outputs": [],
   "source": [
    "import torch"
   ]
  },
  {
   "cell_type": "code",
   "execution_count": 2,
   "id": "f1ac8f16",
   "metadata": {
    "ExecuteTime": {
     "end_time": "2022-06-24T08:44:19.642068Z",
     "start_time": "2022-06-24T08:44:19.625346Z"
    }
   },
   "outputs": [
    {
     "data": {
      "text/plain": [
       "torch.Size([2, 1, 2])"
      ]
     },
     "execution_count": 2,
     "metadata": {},
     "output_type": "execute_result"
    }
   ],
   "source": [
    "x = torch.FloatTensor([[[1, 2]],\n",
    "                      [[3, 4]]])\n",
    "x.size()"
   ]
  },
  {
   "cell_type": "code",
   "execution_count": 3,
   "id": "b21c7414",
   "metadata": {
    "ExecuteTime": {
     "end_time": "2022-06-24T08:44:49.926406Z",
     "start_time": "2022-06-24T08:44:49.920903Z"
    }
   },
   "outputs": [
    {
     "name": "stdout",
     "output_type": "stream",
     "text": [
      "tensor([[[1., 2.],\n",
      "         [1., 2.],\n",
      "         [1., 2.]],\n",
      "\n",
      "        [[3., 4.],\n",
      "         [3., 4.],\n",
      "         [3., 4.]]])\n",
      "torch.Size([2, 3, 2])\n"
     ]
    }
   ],
   "source": [
    "y = x.expand(*[2, 3, 2])\n",
    "print(y)\n",
    "print(y.size())"
   ]
  },
  {
   "cell_type": "code",
   "execution_count": 7,
   "id": "e426c8fc",
   "metadata": {
    "ExecuteTime": {
     "end_time": "2022-06-24T08:49:45.058609Z",
     "start_time": "2022-06-24T08:49:45.053639Z"
    }
   },
   "outputs": [
    {
     "name": "stdout",
     "output_type": "stream",
     "text": [
      "tensor([[[1., 2.],\n",
      "         [1., 2.],\n",
      "         [1., 2.]],\n",
      "\n",
      "        [[3., 4.],\n",
      "         [3., 4.],\n",
      "         [3., 4.]]])\n",
      "torch.Size([2, 3, 2])\n"
     ]
    }
   ],
   "source": [
    "y = torch.cat([x, x, x], dim = 1)\n",
    "print(y)\n",
    "print(y.size())"
   ]
  },
  {
   "cell_type": "code",
   "execution_count": 8,
   "id": "3928df2e",
   "metadata": {
    "ExecuteTime": {
     "end_time": "2022-06-24T08:50:18.535259Z",
     "start_time": "2022-06-24T08:50:18.529742Z"
    }
   },
   "outputs": [
    {
     "name": "stdout",
     "output_type": "stream",
     "text": [
      "tensor([5, 9, 8, 4, 3, 7, 0, 6, 1, 2])\n",
      "torch.Size([10])\n"
     ]
    }
   ],
   "source": [
    "x = torch.randperm(10)\n",
    "print(x)\n",
    "print(x.size())"
   ]
  },
  {
   "cell_type": "code",
   "execution_count": 9,
   "id": "7b323d19",
   "metadata": {
    "ExecuteTime": {
     "end_time": "2022-06-24T08:50:56.370260Z",
     "start_time": "2022-06-24T08:50:56.365214Z"
    }
   },
   "outputs": [
    {
     "name": "stdout",
     "output_type": "stream",
     "text": [
      "tensor([[[ 1,  9, 17],\n",
      "         [ 3, 18,  5],\n",
      "         [ 8,  7,  2]],\n",
      "\n",
      "        [[25,  0,  6],\n",
      "         [26, 20,  4],\n",
      "         [10, 16, 15]],\n",
      "\n",
      "        [[13, 21, 14],\n",
      "         [12, 24, 11],\n",
      "         [19, 22, 23]]])\n",
      "torch.Size([3, 3, 3])\n"
     ]
    }
   ],
   "source": [
    "x = torch.randperm(3**3).reshape(3, 3, -1)\n",
    "print(x)\n",
    "print(x.size())"
   ]
  },
  {
   "cell_type": "code",
   "execution_count": 10,
   "id": "cd2ce6dd",
   "metadata": {
    "ExecuteTime": {
     "end_time": "2022-06-24T08:51:25.720827Z",
     "start_time": "2022-06-24T08:51:25.714438Z"
    }
   },
   "outputs": [
    {
     "name": "stdout",
     "output_type": "stream",
     "text": [
      "tensor([[2, 1, 0],\n",
      "        [0, 0, 1],\n",
      "        [1, 1, 2]])\n",
      "torch.Size([3, 3])\n"
     ]
    }
   ],
   "source": [
    "y = x.argmax(dim = -1)\n",
    "print(y)\n",
    "print(y.size())"
   ]
  },
  {
   "cell_type": "code",
   "execution_count": 11,
   "id": "68c51dc0",
   "metadata": {
    "ExecuteTime": {
     "end_time": "2022-06-24T08:53:09.489514Z",
     "start_time": "2022-06-24T08:53:09.483979Z"
    }
   },
   "outputs": [
    {
     "name": "stdout",
     "output_type": "stream",
     "text": [
      "torch.Size([3, 3, 1])\n",
      "torch.Size([3, 3, 1])\n"
     ]
    }
   ],
   "source": [
    "values, indices = torch.topk(x, k = 1, dim = -1)\n",
    "print(values.size())\n",
    "print(indices.size())"
   ]
  },
  {
   "cell_type": "code",
   "execution_count": 12,
   "id": "82e6acb1",
   "metadata": {
    "ExecuteTime": {
     "end_time": "2022-06-24T08:56:48.021759Z",
     "start_time": "2022-06-24T08:56:48.015733Z"
    }
   },
   "outputs": [
    {
     "data": {
      "text/plain": [
       "tensor([[17, 18,  8],\n",
       "        [25, 26, 16],\n",
       "        [21, 24, 23]])"
      ]
     },
     "execution_count": 12,
     "metadata": {},
     "output_type": "execute_result"
    }
   ],
   "source": [
    "values.squeeze(-1)"
   ]
  },
  {
   "cell_type": "code",
   "execution_count": 13,
   "id": "4ce69074",
   "metadata": {
    "ExecuteTime": {
     "end_time": "2022-06-24T08:56:59.598320Z",
     "start_time": "2022-06-24T08:56:59.592799Z"
    }
   },
   "outputs": [
    {
     "data": {
      "text/plain": [
       "tensor([[2, 1, 0],\n",
       "        [0, 0, 1],\n",
       "        [1, 1, 2]])"
      ]
     },
     "execution_count": 13,
     "metadata": {},
     "output_type": "execute_result"
    }
   ],
   "source": [
    "indices.squeeze(-1)"
   ]
  },
  {
   "cell_type": "code",
   "execution_count": 14,
   "id": "27c36038",
   "metadata": {
    "ExecuteTime": {
     "end_time": "2022-06-24T08:57:32.381526Z",
     "start_time": "2022-06-24T08:57:32.373791Z"
    }
   },
   "outputs": [
    {
     "data": {
      "text/plain": [
       "tensor([[True, True, True],\n",
       "        [True, True, True],\n",
       "        [True, True, True]])"
      ]
     },
     "execution_count": 14,
     "metadata": {},
     "output_type": "execute_result"
    }
   ],
   "source": [
    "x.argmax(dim=-1) == indices.squeeze(-1)"
   ]
  },
  {
   "cell_type": "code",
   "execution_count": 15,
   "id": "70dcc6ef",
   "metadata": {
    "ExecuteTime": {
     "end_time": "2022-06-24T08:57:57.421803Z",
     "start_time": "2022-06-24T08:57:57.416521Z"
    }
   },
   "outputs": [
    {
     "data": {
      "text/plain": [
       "torch.Size([3, 3, 2])"
      ]
     },
     "execution_count": 15,
     "metadata": {},
     "output_type": "execute_result"
    }
   ],
   "source": [
    "_, indices = torch.topk(x, k = 2, dim = -1)\n",
    "indices.size()\n"
   ]
  },
  {
   "cell_type": "code",
   "execution_count": 16,
   "id": "6c86520f",
   "metadata": {
    "ExecuteTime": {
     "end_time": "2022-06-24T08:58:19.798931Z",
     "start_time": "2022-06-24T08:58:19.793468Z"
    }
   },
   "outputs": [
    {
     "data": {
      "text/plain": [
       "tensor([[True, True, True],\n",
       "        [True, True, True],\n",
       "        [True, True, True]])"
      ]
     },
     "execution_count": 16,
     "metadata": {},
     "output_type": "execute_result"
    }
   ],
   "source": [
    "x.argmax(dim = -1) == indices[:,:,0]"
   ]
  },
  {
   "cell_type": "code",
   "execution_count": 18,
   "id": "fb0fb76a",
   "metadata": {
    "ExecuteTime": {
     "end_time": "2022-06-24T08:59:21.952404Z",
     "start_time": "2022-06-24T08:59:21.947008Z"
    }
   },
   "outputs": [
    {
     "name": "stdout",
     "output_type": "stream",
     "text": [
      "tensor([[[17,  9,  1],\n",
      "         [18,  5,  3],\n",
      "         [ 8,  7,  2]],\n",
      "\n",
      "        [[25,  6,  0],\n",
      "         [26, 20,  4],\n",
      "         [16, 15, 10]],\n",
      "\n",
      "        [[21, 14, 13],\n",
      "         [24, 12, 11],\n",
      "         [23, 22, 19]]])\n"
     ]
    }
   ],
   "source": [
    "target_dim = -1\n",
    "values, indices = torch.topk(x,\n",
    "                             k=x.size(target_dim),\n",
    "                             largest=True)\n",
    "print(values)"
   ]
  },
  {
   "cell_type": "code",
   "execution_count": 21,
   "id": "cbee119c",
   "metadata": {
    "ExecuteTime": {
     "end_time": "2022-06-24T09:02:04.564580Z",
     "start_time": "2022-06-24T09:02:04.555654Z"
    }
   },
   "outputs": [
    {
     "name": "stdout",
     "output_type": "stream",
     "text": [
      "tensor([[ 9,  5,  7],\n",
      "        [ 6, 20, 15],\n",
      "        [14, 12, 22]])\n",
      "tensor([[ 9,  5,  7],\n",
      "        [ 6, 20, 15],\n",
      "        [14, 12, 22]])\n"
     ]
    }
   ],
   "source": [
    "k = 1 \n",
    "values, indices = torch.sort(x, dim = -1, descending = True)\n",
    "values, indices = values[:,:,k], indices[:,:,k]\n",
    "print(values.squeeze(-1))\n",
    "print(values.squeeze(-1))"
   ]
  },
  {
   "cell_type": "code",
   "execution_count": 22,
   "id": "41895f9d",
   "metadata": {
    "ExecuteTime": {
     "end_time": "2022-06-24T09:02:49.551576Z",
     "start_time": "2022-06-24T09:02:49.545274Z"
    }
   },
   "outputs": [
    {
     "name": "stdout",
     "output_type": "stream",
     "text": [
      "tensor([[0., 1., 2.],\n",
      "        [3., 4., 5.],\n",
      "        [6., 7., 8.]])\n",
      "torch.Size([3, 3])\n"
     ]
    }
   ],
   "source": [
    "x = torch.FloatTensor([i for i in range(3**2)]).reshape(3, -1)\n",
    "print(x)\n",
    "print(x.size())"
   ]
  },
  {
   "cell_type": "code",
   "execution_count": 23,
   "id": "083aed3f",
   "metadata": {
    "ExecuteTime": {
     "end_time": "2022-06-24T09:04:07.499180Z",
     "start_time": "2022-06-24T09:04:07.494025Z"
    }
   },
   "outputs": [
    {
     "data": {
      "text/plain": [
       "tensor([[False, False, False],\n",
       "        [False, False,  True],\n",
       "        [ True,  True,  True]])"
      ]
     },
     "execution_count": 23,
     "metadata": {},
     "output_type": "execute_result"
    }
   ],
   "source": [
    "mask = x > 4\n",
    "mask"
   ]
  },
  {
   "cell_type": "code",
   "execution_count": 26,
   "id": "c2ce4289",
   "metadata": {
    "ExecuteTime": {
     "end_time": "2022-06-24T09:04:43.907504Z",
     "start_time": "2022-06-24T09:04:43.901336Z"
    }
   },
   "outputs": [
    {
     "data": {
      "text/plain": [
       "tensor([[ 0.,  1.,  2.],\n",
       "        [ 3.,  4., -1.],\n",
       "        [-1., -1., -1.]])"
      ]
     },
     "execution_count": 26,
     "metadata": {},
     "output_type": "execute_result"
    }
   ],
   "source": [
    "y = x.masked_fill(mask, value = -1)\n",
    "y"
   ]
  },
  {
   "cell_type": "code",
   "execution_count": 27,
   "id": "65e857b0",
   "metadata": {
    "ExecuteTime": {
     "end_time": "2022-06-24T09:05:19.257626Z",
     "start_time": "2022-06-24T09:05:19.251672Z"
    }
   },
   "outputs": [
    {
     "name": "stdout",
     "output_type": "stream",
     "text": [
      "tensor([[1., 1., 1.],\n",
      "        [1., 1., 1.]])\n",
      "tensor([[0., 0., 0.],\n",
      "        [0., 0., 0.]])\n"
     ]
    }
   ],
   "source": [
    "print(torch.ones(2, 3))\n",
    "print(torch.zeros(2, 3))"
   ]
  },
  {
   "cell_type": "code",
   "execution_count": 28,
   "id": "1b3d8072",
   "metadata": {
    "ExecuteTime": {
     "end_time": "2022-06-24T09:05:41.335901Z",
     "start_time": "2022-06-24T09:05:41.330580Z"
    }
   },
   "outputs": [
    {
     "data": {
      "text/plain": [
       "torch.Size([2, 3])"
      ]
     },
     "execution_count": 28,
     "metadata": {},
     "output_type": "execute_result"
    }
   ],
   "source": [
    "x = torch.FloatTensor([[1,2,3],\n",
    "                      [4,5,6]])\n",
    "x.size()"
   ]
  },
  {
   "cell_type": "code",
   "execution_count": 29,
   "id": "bf895bf4",
   "metadata": {
    "ExecuteTime": {
     "end_time": "2022-06-24T09:06:18.350079Z",
     "start_time": "2022-06-24T09:06:18.343430Z"
    }
   },
   "outputs": [
    {
     "name": "stdout",
     "output_type": "stream",
     "text": [
      "tensor([[1., 1., 1.],\n",
      "        [1., 1., 1.]])\n",
      "tensor([[0., 0., 0.],\n",
      "        [0., 0., 0.]])\n"
     ]
    }
   ],
   "source": [
    "print(torch.ones_like(x))\n",
    "print(torch.zeros_like(x))"
   ]
  },
  {
   "cell_type": "code",
   "execution_count": null,
   "id": "fa55f46d",
   "metadata": {},
   "outputs": [],
   "source": []
  }
 ],
 "metadata": {
  "kernelspec": {
   "display_name": "Python 3 (ipykernel)",
   "language": "python",
   "name": "python3"
  },
  "language_info": {
   "codemirror_mode": {
    "name": "ipython",
    "version": 3
   },
   "file_extension": ".py",
   "mimetype": "text/x-python",
   "name": "python",
   "nbconvert_exporter": "python",
   "pygments_lexer": "ipython3",
   "version": "3.9.13"
  }
 },
 "nbformat": 4,
 "nbformat_minor": 5
}
