{
 "cells": [
  {
   "cell_type": "markdown",
   "id": "99f0edf2",
   "metadata": {
    "ExecuteTime": {
     "end_time": "2022-06-28T23:47:51.264445Z",
     "start_time": "2022-06-28T23:47:51.125456Z"
    }
   },
   "source": [
    "![image.png](attachment:image.png)"
   ]
  },
  {
   "cell_type": "markdown",
   "id": "6840f188",
   "metadata": {},
   "source": [
    "# TF1 Classification (2Layers baseline)\n",
    "## MNIST Introduction\n",
    "- MNIST (Mixed National Institute of Standards and Technology database)\n",
    "- **손글씨 숫자(0~9) 이미지 데이터**\n",
    "- 각 이미지는 **가로와 세로가 각각 28px, 흑백 이미지**로 만들어져 있음\n",
    "- Training data == 55,000장, Validation data == 5,000장, Test data = 10,000장"
   ]
  },
  {
   "cell_type": "markdown",
   "id": "48a84111",
   "metadata": {},
   "source": [
    "### Prepare the data"
   ]
  },
  {
   "cell_type": "code",
   "execution_count": 15,
   "id": "e0f16fc4",
   "metadata": {
    "ExecuteTime": {
     "end_time": "2022-06-29T00:24:57.659027Z",
     "start_time": "2022-06-29T00:24:53.453050Z"
    }
   },
   "outputs": [],
   "source": [
    "from tensorflow.keras import datasets # MNIST Data는 Tensorflow 2.x를 통해 가져올 수 있습니다.\n",
    "\n",
    "(train_data, train_label), (test_data, test_label) = datasets.mnist.load_data()"
   ]
  },
  {
   "cell_type": "code",
   "execution_count": 19,
   "id": "12e46cd8",
   "metadata": {
    "ExecuteTime": {
     "end_time": "2022-06-29T00:26:04.026901Z",
     "start_time": "2022-06-29T00:26:04.018843Z"
    }
   },
   "outputs": [
    {
     "name": "stdout",
     "output_type": "stream",
     "text": [
      "(60000, 28, 28)\n",
      "(10000, 28, 28)\n"
     ]
    }
   ],
   "source": [
    "print(train_data.shape)# # of training data == 60000, each data = 28px * 28px\n",
    "print(test_data.shape) # # of test data == 10000"
   ]
  },
  {
   "cell_type": "code",
   "execution_count": 22,
   "id": "1a90bf14",
   "metadata": {
    "ExecuteTime": {
     "end_time": "2022-06-29T00:27:31.068315Z",
     "start_time": "2022-06-29T00:27:31.038555Z"
    }
   },
   "outputs": [],
   "source": [
    "import pandas as pd\n",
    "\n",
    "# pd.DataFrame(train_data[0])"
   ]
  },
  {
   "cell_type": "code",
   "execution_count": 23,
   "id": "5f22093b",
   "metadata": {
    "ExecuteTime": {
     "end_time": "2022-06-29T00:28:37.032919Z",
     "start_time": "2022-06-29T00:28:36.440168Z"
    }
   },
   "outputs": [
    {
     "data": {
      "text/plain": [
       "<matplotlib.image.AxesImage at 0x2b6eb0b50>"
      ]
     },
     "execution_count": 23,
     "metadata": {},
     "output_type": "execute_result"
    },
    {
     "data": {
      "image/png": "[encoded data removed]",
      "text/plain": [
       "<Figure size 432x288 with 1 Axes>"
      ]
     },
     "metadata": {
      "needs_background": "light"
     },
     "output_type": "display_data"
    }
   ],
   "source": [
    "import matplotlib.pyplot as plt\n",
    "\n",
    "plt.imshow(train_data[0], cmap='gray') # 60000장의 train data 중 첫번째 data"
   ]
  },
  {
   "cell_type": "markdown",
   "id": "4ef90858",
   "metadata": {},
   "source": [
    "### Normalization"
   ]
  },
  {
   "cell_type": "code",
   "execution_count": 24,
   "id": "10f6eb98",
   "metadata": {
    "ExecuteTime": {
     "end_time": "2022-06-29T00:30:10.807420Z",
     "start_time": "2022-06-29T00:30:10.680455Z"
    }
   },
   "outputs": [
    {
     "name": "stdout",
     "output_type": "stream",
     "text": [
      "0\n",
      "255\n"
     ]
    }
   ],
   "source": [
    "# 각 이미지(28px * 28px)는 0~255 사이의 숫자로 이루어져 있습니다.\n",
    "\n",
    "print(train_data.min())\n",
    "print(train_data.max()) "
   ]
  },
  {
   "cell_type": "code",
   "execution_count": 25,
   "id": "dd0bc33c",
   "metadata": {
    "ExecuteTime": {
     "end_time": "2022-06-29T00:30:19.938372Z",
     "start_time": "2022-06-29T00:30:19.833708Z"
    }
   },
   "outputs": [],
   "source": [
    "# 각 이미지를 [28행 x 28열]에서 [1행 x 784열]로 펼쳐줍니다. \n",
    "# 각 이미지 내의 pixel 값을 [0~255]에서 [0~1]로 바꿔줍니다.\n",
    "\n",
    "train_data = train_data.reshape(60000, 784) / 255.0\n",
    "test_data = test_data.reshape(10000, 784) / 255.0"
   ]
  },
  {
   "cell_type": "code",
   "execution_count": 26,
   "id": "a57e1928",
   "metadata": {
    "ExecuteTime": {
     "end_time": "2022-06-29T00:30:31.342481Z",
     "start_time": "2022-06-29T00:30:31.331835Z"
    }
   },
   "outputs": [
    {
     "data": {
      "text/plain": [
       "(60000, 784)"
      ]
     },
     "execution_count": 26,
     "metadata": {},
     "output_type": "execute_result"
    }
   ],
   "source": [
    "train_data.shape"
   ]
  },
  {
   "cell_type": "markdown",
   "id": "9cf1b64c",
   "metadata": {},
   "source": [
    "###  One-hot encoding"
   ]
  },
  {
   "cell_type": "code",
   "execution_count": 27,
   "id": "251ddede",
   "metadata": {
    "ExecuteTime": {
     "end_time": "2022-06-29T00:31:41.470642Z",
     "start_time": "2022-06-29T00:31:41.461256Z"
    }
   },
   "outputs": [
    {
     "data": {
      "text/plain": [
       "array([5, 0, 4, ..., 5, 6, 8], dtype=uint8)"
      ]
     },
     "execution_count": 27,
     "metadata": {},
     "output_type": "execute_result"
    }
   ],
   "source": [
    "# 각 이미지에 대한 label은 integer value로 이루어져 있습니다. (정답)\n",
    "\n",
    "train_label"
   ]
  },
  {
   "cell_type": "code",
   "execution_count": 28,
   "id": "12d775ce",
   "metadata": {
    "ExecuteTime": {
     "end_time": "2022-06-29T00:32:25.629970Z",
     "start_time": "2022-06-29T00:32:25.620352Z"
    }
   },
   "outputs": [],
   "source": [
    "# 각 label을 integer value에서 one-hot vector로 변경해줍니다. (Tensorflow 2.x 활용)\n",
    "\n",
    "from tensorflow.keras import utils\n",
    "\n",
    "train_label = utils.to_categorical(train_label) # 0~9 -> one-hot vector\n",
    "test_label = utils.to_categorical(test_label) # 0~9 -> one-hot vector"
   ]
  },
  {
   "cell_type": "code",
   "execution_count": 29,
   "id": "5443ec1d",
   "metadata": {
    "ExecuteTime": {
     "end_time": "2022-06-29T00:32:33.078753Z",
     "start_time": "2022-06-29T00:32:33.068515Z"
    }
   },
   "outputs": [
    {
     "data": {
      "text/plain": [
       "(60000, 10)"
      ]
     },
     "execution_count": 29,
     "metadata": {},
     "output_type": "execute_result"
    }
   ],
   "source": [
    "train_label.shape"
   ]
  },
  {
   "cell_type": "code",
   "execution_count": 30,
   "id": "71bc675d",
   "metadata": {
    "ExecuteTime": {
     "end_time": "2022-06-29T00:32:46.074611Z",
     "start_time": "2022-06-29T00:32:46.048304Z"
    }
   },
   "outputs": [
    {
     "data": {
      "text/html": [
       "<div>\n",
       "<style scoped>\n",
       "    .dataframe tbody tr th:only-of-type {\n",
       "        vertical-align: middle;\n",
       "    }\n",
       "\n",
       "    .dataframe tbody tr th {\n",
       "        vertical-align: top;\n",
       "    }\n",
       "\n",
       "    .dataframe thead th {\n",
       "        text-align: right;\n",
       "    }\n",
       "</style>\n",
       "<table border=\"1\" class=\"dataframe\">\n",
       "  <thead>\n",
       "    <tr style=\"text-align: right;\">\n",
       "      <th></th>\n",
       "      <th>0</th>\n",
       "      <th>1</th>\n",
       "      <th>2</th>\n",
       "      <th>3</th>\n",
       "      <th>4</th>\n",
       "      <th>5</th>\n",
       "      <th>6</th>\n",
       "      <th>7</th>\n",
       "      <th>8</th>\n",
       "      <th>9</th>\n",
       "    </tr>\n",
       "  </thead>\n",
       "  <tbody>\n",
       "    <tr>\n",
       "      <th>0</th>\n",
       "      <td>0.0</td>\n",
       "      <td>0.0</td>\n",
       "      <td>0.0</td>\n",
       "      <td>0.0</td>\n",
       "      <td>0.0</td>\n",
       "      <td>1.0</td>\n",
       "      <td>0.0</td>\n",
       "      <td>0.0</td>\n",
       "      <td>0.0</td>\n",
       "      <td>0.0</td>\n",
       "    </tr>\n",
       "    <tr>\n",
       "      <th>1</th>\n",
       "      <td>1.0</td>\n",
       "      <td>0.0</td>\n",
       "      <td>0.0</td>\n",
       "      <td>0.0</td>\n",
       "      <td>0.0</td>\n",
       "      <td>0.0</td>\n",
       "      <td>0.0</td>\n",
       "      <td>0.0</td>\n",
       "      <td>0.0</td>\n",
       "      <td>0.0</td>\n",
       "    </tr>\n",
       "    <tr>\n",
       "      <th>2</th>\n",
       "      <td>0.0</td>\n",
       "      <td>0.0</td>\n",
       "      <td>0.0</td>\n",
       "      <td>0.0</td>\n",
       "      <td>1.0</td>\n",
       "      <td>0.0</td>\n",
       "      <td>0.0</td>\n",
       "      <td>0.0</td>\n",
       "      <td>0.0</td>\n",
       "      <td>0.0</td>\n",
       "    </tr>\n",
       "  </tbody>\n",
       "</table>\n",
       "</div>"
      ],
      "text/plain": [
       "     0    1    2    3    4    5    6    7    8    9\n",
       "0  0.0  0.0  0.0  0.0  0.0  1.0  0.0  0.0  0.0  0.0\n",
       "1  1.0  0.0  0.0  0.0  0.0  0.0  0.0  0.0  0.0  0.0\n",
       "2  0.0  0.0  0.0  0.0  1.0  0.0  0.0  0.0  0.0  0.0"
      ]
     },
     "execution_count": 30,
     "metadata": {},
     "output_type": "execute_result"
    }
   ],
   "source": [
    "# 기존의 integer label들이 아래와 같은 one-hot vector들로 변경된 것을 확인할 수 있습니다.\n",
    "\n",
    "import pandas as pd\n",
    "\n",
    "pd.DataFrame(train_label).head(3)"
   ]
  },
  {
   "cell_type": "code",
   "execution_count": 31,
   "id": "322f16db",
   "metadata": {
    "ExecuteTime": {
     "end_time": "2022-06-29T00:33:00.514729Z",
     "start_time": "2022-06-29T00:33:00.506210Z"
    }
   },
   "outputs": [
    {
     "data": {
      "text/plain": [
       "array([0., 0., 0., 0., 0., 1., 0., 0., 0., 0.], dtype=float32)"
      ]
     },
     "execution_count": 31,
     "metadata": {},
     "output_type": "execute_result"
    }
   ],
   "source": [
    "train_label[0]"
   ]
  },
  {
   "cell_type": "markdown",
   "id": "a64f8931",
   "metadata": {},
   "source": [
    "### Build the model"
   ]
  },
  {
   "cell_type": "code",
   "execution_count": 32,
   "id": "d09125ae",
   "metadata": {
    "ExecuteTime": {
     "end_time": "2022-06-29T00:35:42.342159Z",
     "start_time": "2022-06-29T00:35:42.333416Z"
    }
   },
   "outputs": [
    {
     "name": "stdout",
     "output_type": "stream",
     "text": [
      "WARNING:tensorflow:From /Users/cge/miniforge3/envs/tf/lib/python3.8/site-packages/tensorflow/python/compat/v2_compat.py:107: disable_resource_variables (from tensorflow.python.ops.variable_scope) is deprecated and will be removed in a future version.\n",
      "Instructions for updating:\n",
      "non-resource variables are not supported in the long term\n"
     ]
    }
   ],
   "source": [
    "# import tensorflow as tf\n",
    "\n",
    "import tensorflow.compat.v1 as tf\n",
    "tf.disable_v2_behavior()\n",
    "\n",
    "import os\n",
    "os.environ['TF_CPP_MIN_LOG_LEVEL'] = '2' # https://stackoverflow.com/questions/35911252/disable-tensorflow-debugging-information\n",
    "tf.logging.set_verbosity(tf.logging.ERROR)"
   ]
  },
  {
   "cell_type": "code",
   "execution_count": 33,
   "id": "59f92710",
   "metadata": {
    "ExecuteTime": {
     "end_time": "2022-06-29T00:37:23.579444Z",
     "start_time": "2022-06-29T00:37:23.565531Z"
    }
   },
   "outputs": [],
   "source": [
    "# 데이터가 흘러들어올 접시(placeholder) 만들기 \n",
    "\n",
    "X = tf.placeholder(tf.float32, [None, 784]) # [# of batch data, # of features(columns) == 총 784(28*28)개의 열]\n",
    "Y = tf.placeholder(tf.float32, [None, 10]) # 0~9 == 총 10개의 열"
   ]
  },
  {
   "cell_type": "code",
   "execution_count": 34,
   "id": "329e427d",
   "metadata": {
    "ExecuteTime": {
     "end_time": "2022-06-29T00:48:39.710348Z",
     "start_time": "2022-06-29T00:48:39.677572Z"
    }
   },
   "outputs": [],
   "source": [
    "# 모든 Parameter Theta는 Variable로 선언\n",
    "\n",
    "W1 = tf.Variable(tf.random_normal([784, 256], stddev=0.01)) # weight\n",
    "L1 = tf.nn.relu(tf.matmul(X, W1)) # hidden layer\n",
    "# [none, 256]"
   ]
  },
  {
   "cell_type": "code",
   "execution_count": 35,
   "id": "6e422ade",
   "metadata": {
    "ExecuteTime": {
     "end_time": "2022-06-29T00:48:40.012085Z",
     "start_time": "2022-06-29T00:48:39.994694Z"
    }
   },
   "outputs": [],
   "source": [
    "W2 = tf.Variable(tf.random_normal([256, 256], stddev=0.01)) # weight, node(퍼셉트론) 수 = 256\n",
    "L2 = tf.nn.relu(tf.matmul(L1, W2)) # hidden layer\n",
    "# [none, 256]"
   ]
  },
  {
   "cell_type": "code",
   "execution_count": 36,
   "id": "2f8c4a1d",
   "metadata": {
    "ExecuteTime": {
     "end_time": "2022-06-29T00:48:40.384858Z",
     "start_time": "2022-06-29T00:48:40.372894Z"
    }
   },
   "outputs": [],
   "source": [
    "W3 = tf.Variable(tf.random_normal([256, 10], stddev=0.01)) # weight\n",
    "# [none, 10]\n",
    "model = tf.matmul(L2, W3) # 마지막 층도 행렬곱까지만 진행"
   ]
  },
  {
   "cell_type": "markdown",
   "id": "90b679a6",
   "metadata": {
    "ExecuteTime": {
     "end_time": "2022-06-29T00:44:58.352637Z",
     "start_time": "2022-06-29T00:44:58.345641Z"
    }
   },
   "source": [
    "### Set the criterion"
   ]
  },
  {
   "cell_type": "code",
   "execution_count": 37,
   "id": "ef2a22a8",
   "metadata": {
    "ExecuteTime": {
     "end_time": "2022-06-29T00:48:42.762737Z",
     "start_time": "2022-06-29T00:48:42.691880Z"
    }
   },
   "outputs": [],
   "source": [
    "# cost = tf.losses.mean_squared_error(Y, model) # for Regression\n",
    "\n",
    "cost = tf.losses.softmax_cross_entropy(Y, model) # for Classification, \"cross-entropy\" after \"softmax\"\n",
    "optimizer = tf.train.AdamOptimizer(0.001).minimize(cost) # Select optimizer & connect with cost function (recommended start : \"Adam\")"
   ]
  },
  {
   "cell_type": "markdown",
   "id": "f63d10ab",
   "metadata": {},
   "source": [
    "### Train the model"
   ]
  },
  {
   "cell_type": "code",
   "execution_count": 39,
   "id": "ce46087a",
   "metadata": {},
   "outputs": [],
   "source": [
    "init = tf.global_variables_initializer()  # Initialize all global variables (Parameter Theta)\n",
    "sess = tf.Session()\n",
    "sess.run(init)"
   ]
  },
  {
   "cell_type": "code",
   "execution_count": 40,
   "id": "b7abfe6c",
   "metadata": {},
   "outputs": [
    {
     "name": "stdout",
     "output_type": "stream",
     "text": [
      "600\n"
     ]
    }
   ],
   "source": [
    "# Gradient descent를 적용하기 전까지 한번에 밀어넣는 데이터의 수 지정 (Batch size == 하나의 데이터 덩어리 내 데이터 수)\n",
    "\n",
    "batch_size = 100\n",
    "total_batch = int(len(train_data) / batch_size)\n",
    "print(total_batch)"
   ]
  },
  {
   "cell_type": "code",
   "execution_count": 41,
   "id": "e066e86e",
   "metadata": {},
   "outputs": [
    {
     "name": "stdout",
     "output_type": "stream",
     "text": [
      "Epoch: 1 || Avg. Training cost = 0.393 || Current Test cost = 0.200\n",
      "Epoch: 2 || Avg. Training cost = 0.144 || Current Test cost = 0.123\n",
      "Epoch: 3 || Avg. Training cost = 0.089 || Current Test cost = 0.116\n",
      "Epoch: 4 || Avg. Training cost = 0.060 || Current Test cost = 0.114\n",
      "Epoch: 5 || Avg. Training cost = 0.042 || Current Test cost = 0.103\n",
      "Epoch: 6 || Avg. Training cost = 0.029 || Current Test cost = 0.120\n",
      "Epoch: 7 || Avg. Training cost = 0.021 || Current Test cost = 0.113\n",
      "Epoch: 8 || Avg. Training cost = 0.016 || Current Test cost = 0.092\n",
      "Epoch: 9 || Avg. Training cost = 0.013 || Current Test cost = 0.084\n",
      "Epoch: 10 || Avg. Training cost = 0.011 || Current Test cost = 0.101\n",
      "Epoch: 11 || Avg. Training cost = 0.008 || Current Test cost = 0.095\n",
      "Epoch: 12 || Avg. Training cost = 0.006 || Current Test cost = 0.097\n",
      "Epoch: 13 || Avg. Training cost = 0.006 || Current Test cost = 0.089\n",
      "Epoch: 14 || Avg. Training cost = 0.004 || Current Test cost = 0.119\n",
      "Epoch: 15 || Avg. Training cost = 0.003 || Current Test cost = 0.102\n",
      "Learning process is completed!\n"
     ]
    }
   ],
   "source": [
    "# import tqdm \n",
    "# for epoch in tqdm.notebook.tqdm(range(15)):\n",
    "\n",
    "for epoch in range(15):\n",
    "    \n",
    "    \n",
    "    total_cost = 0 # 매 epoch 마다의 평균 에러 값 계산을 위해 활용됩니다.\n",
    "    batch_idx = 0 # 매 batch 마다 꺼낼 데이터의 시작 index 값 지정을 위해 활용됩니다.\n",
    "    \n",
    "    for i in range(total_batch): # iterate over # of batches\n",
    "        \n",
    "        # Training data(60000장)에서 batch_size(100개) 만큼 순서대로 꺼내어 학습에 활용해줍니다.\n",
    "        batch_x = train_data[ batch_idx : batch_idx + batch_size ]\n",
    "        batch_y = train_label[ batch_idx : batch_idx + batch_size ]\n",
    "        \n",
    "        sess.run(optimizer, feed_dict={X: batch_x, Y: batch_y}) # 먹여줄(feed) 딕셔너리(dict)\n",
    "        \n",
    "        # 이번 batch를 기준으로 계산이 끝난 Cross-entropy 값을 total_cost에 더해줍니다. (epoch 종료 후 평균을 냅니다.)\n",
    "        batch_cost = sess.run(cost, feed_dict={X: batch_x, Y: batch_y})\n",
    "        total_cost = total_cost + batch_cost\n",
    "        \n",
    "        # 다음 for loop에서 꺼낼 데이터의 시작 index 번호를 batch_size(100) 만큼 증가시킵니다.\n",
    "        batch_idx += batch_size\n",
    "    \n",
    "    \n",
    "    # (이번 epoch가 종료되었을 시점의) training data 기준 Cross-entropy 값을 계산합니다.\n",
    "    training_cost = total_cost / total_batch\n",
    "    \n",
    "    # (이번 epoch가 종료되었을 시점의) test data 기준 Cross-entropy 값을 계산합니다.\n",
    "    test_cost = sess.run(cost, feed_dict={X: test_data, Y: test_label}) \n",
    "    \n",
    "    \n",
    "    print('Epoch: {}'.format(epoch + 1), \n",
    "          '|| Avg. Training cost = {:.3f}'.format(training_cost), \n",
    "          '|| Current Test cost = {:.3f}'.format(test_cost))\n",
    "\n",
    "print('Learning process is completed!')"
   ]
  },
  {
   "cell_type": "markdown",
   "id": "c91dfbda",
   "metadata": {},
   "source": [
    "#### 5. Test the model"
   ]
  },
  {
   "cell_type": "code",
   "execution_count": 42,
   "id": "976d0ae1",
   "metadata": {},
   "outputs": [
    {
     "data": {
      "text/plain": [
       "(1, 784)"
      ]
     },
     "execution_count": 42,
     "metadata": {},
     "output_type": "execute_result"
    }
   ],
   "source": [
    "# Test data에서 첫번째 행(1행 x 784열)을 꺼내는 코드입니다.\n",
    "# (Scikit-learn의 첫번째 실습이었던 Linear-regression 실습에서 하나의 열을 꺼낼 때 행렬 형태로 꺼내던 방법을 떠올려보세요.)\n",
    "\n",
    "test_data[0:1, :].shape "
   ]
  },
  {
   "cell_type": "code",
   "execution_count": 43,
   "id": "69ab4112",
   "metadata": {},
   "outputs": [
    {
     "data": {
      "text/plain": [
       "array([[-10.510924 ,   1.5198282,  -8.211631 ,  -8.1563015, -11.881819 ,\n",
       "        -22.102556 , -42.188187 ,  19.739374 , -14.385106 ,  -3.5091398]],\n",
       "      dtype=float32)"
      ]
     },
     "execution_count": 43,
     "metadata": {},
     "output_type": "execute_result"
    }
   ],
   "source": [
    "# 데이터 1건에 대하여 마지막 output layer의 출력값을 얻을 수 있습니다. (softmax 적용 전의 10개 숫자)\n",
    "\n",
    "sess.run(model, feed_dict={X: test_data[0:1, :]}) "
   ]
  },
  {
   "cell_type": "code",
   "execution_count": 44,
   "id": "0c52ad64",
   "metadata": {},
   "outputs": [
    {
     "data": {
      "text/plain": [
       "array([7])"
      ]
     },
     "execution_count": 44,
     "metadata": {},
     "output_type": "execute_result"
    }
   ],
   "source": [
    "# 위 10개의 숫자 중 가장 큰 값의 index 번호를 얻어냅니다 (np.argmax와 동일)\n",
    "\n",
    "sess.run(tf.argmax(model, 1), feed_dict={X: test_data[0:1, :]}) # argmax 함수의 두번째 argument \"1\"은 행 방향을 의미합니다."
   ]
  },
  {
   "cell_type": "code",
   "execution_count": 45,
   "id": "19980ebd",
   "metadata": {},
   "outputs": [
    {
     "data": {
      "text/plain": [
       "array([7])"
      ]
     },
     "execution_count": 45,
     "metadata": {},
     "output_type": "execute_result"
    }
   ],
   "source": [
    "# 실제 정답인 test label 중 첫번째 행의 가장 큰 값의 index 번호를 얻어내어 비교함으로써 모델이 맞췄는지 확인이 가능합니다. \n",
    "\n",
    "sess.run(tf.argmax(Y, 1), feed_dict={Y: test_label[0:1, :]})"
   ]
  },
  {
   "cell_type": "markdown",
   "id": "85d3115f",
   "metadata": {},
   "source": [
    "#### 정확도 계산 (tf.argmax / tf.equal / tf.cast / tf.reduce_mean 활용)"
   ]
  },
  {
   "cell_type": "code",
   "execution_count": 47,
   "id": "f662e3ec",
   "metadata": {},
   "outputs": [],
   "source": [
    "# tf.argmax([0.1 0 0 0.7 0 0.2 0 0 0 0]) -> 3 (가장 큰 값의 index를 return)\n",
    "\n",
    "is_correct = tf.equal(tf.argmax(model, 1), tf.argmax(Y, 1)) # model : 예측값, Y : 실제 정답\n",
    "accuracy = tf.reduce_mean(tf.cast(is_correct, tf.float32)) # 자료형 변환(type-\"cast\") 후, 차원을 줄이면서(reduce) 평균(mean) 계산"
   ]
  },
  {
   "cell_type": "code",
   "execution_count": 48,
   "id": "84852ede",
   "metadata": {},
   "outputs": [
    {
     "name": "stdout",
     "output_type": "stream",
     "text": [
      "정확도 : 0.9815\n"
     ]
    }
   ],
   "source": [
    "# 10,000건의 Test data 전체에 대해 모델의 정확도를 계산합니다.\n",
    "\n",
    "print('정확도 :', sess.run(accuracy,\n",
    "                        feed_dict={X: test_data,\n",
    "                                   Y: test_label}))"
   ]
  },
  {
   "cell_type": "code",
   "execution_count": 49,
   "id": "5d845095",
   "metadata": {},
   "outputs": [
    {
     "name": "stdout",
     "output_type": "stream",
     "text": [
      "[7, 2, 1, 0, 4, 1, 4, 9, 5, 9]\n"
     ]
    }
   ],
   "source": [
    "# 모델 예측 결과값\n",
    "\n",
    "predicted_labels = sess.run(tf.argmax(model, 1), feed_dict={X: test_data, Y: test_label})\n",
    "print(list(predicted_labels)[:10])"
   ]
  },
  {
   "cell_type": "code",
   "execution_count": 50,
   "id": "b7d50add",
   "metadata": {},
   "outputs": [
    {
     "name": "stdout",
     "output_type": "stream",
     "text": [
      "[7 2 1 0 4 1 4 9 5 9]\n"
     ]
    }
   ],
   "source": [
    "# 실제 정답 \n",
    "\n",
    "import numpy as np\n",
    "print(np.argmax(test_label, 1)[:10])"
   ]
  },
  {
   "cell_type": "markdown",
   "id": "1be5aee5",
   "metadata": {},
   "source": [
    "# Dropout"
   ]
  },
  {
   "cell_type": "markdown",
   "id": "0736bc38",
   "metadata": {},
   "source": [
    "## Prepare the data"
   ]
  },
  {
   "cell_type": "code",
   "execution_count": 64,
   "id": "0a78fb14",
   "metadata": {},
   "outputs": [],
   "source": [
    "from tensorflow.keras import datasets, utils\n",
    "\n",
    "(train_data, train_label), (test_data, test_label) = datasets.mnist.load_data()\n",
    "\n",
    "train_data = train_data.reshape(60000, 784) / 255.0\n",
    "test_data = test_data.reshape(10000, 784) / 255.0\n",
    "\n",
    "train_label = utils.to_categorical(train_label) # 0~9 -> one-hot vector\n",
    "test_label = utils.to_categorical(test_label) # 0~9 -> one-hot vector"
   ]
  },
  {
   "cell_type": "markdown",
   "id": "9e5fe137",
   "metadata": {},
   "source": [
    "## Bulid the model"
   ]
  },
  {
   "cell_type": "code",
   "execution_count": 65,
   "id": "c711faad",
   "metadata": {},
   "outputs": [],
   "source": [
    "X = tf.placeholder(tf.float32, [None, 784])\n",
    "y = tf.placeholder(tf.float32, [None, 10])\n",
    "\n",
    "keep_prob = tf.placeholder(tf.float32) # 살려줄  node의 비율"
   ]
  },
  {
   "cell_type": "code",
   "execution_count": 66,
   "id": "1ded47e7",
   "metadata": {},
   "outputs": [],
   "source": [
    "W1 = tf.Variable(tf.random_normal([784, 256], stddev= 0.01))\n",
    "L1 = tf.nn.relu(tf.matmul(X, W1))\n",
    "L1 = tf.nn.dropout(L1, keep_prob) # Dropout을 적용할 layer & 살릴 비율"
   ]
  },
  {
   "cell_type": "code",
   "execution_count": 67,
   "id": "54516d07",
   "metadata": {},
   "outputs": [],
   "source": [
    "W2 = tf.Variable(tf.random_normal([256, 256], stddev= 0.01))\n",
    "L2 = tf.nn.relu(tf.matmul(L1, W2))\n",
    "L2 = tf.nn.dropout(L2, keep_prob) # Dropout을 적용할 layer & 살릴 비율"
   ]
  },
  {
   "cell_type": "code",
   "execution_count": 68,
   "id": "e1647f26",
   "metadata": {},
   "outputs": [],
   "source": [
    "W3 = tf.Variable(tf.random_normal([256, 10], stddev= 0.01))\n",
    "model = tf.matmul(L2, W3)"
   ]
  },
  {
   "cell_type": "markdown",
   "id": "f168810c",
   "metadata": {},
   "source": [
    "## See the criterion"
   ]
  },
  {
   "cell_type": "code",
   "execution_count": 69,
   "id": "2d1e1a24",
   "metadata": {},
   "outputs": [],
   "source": [
    "cost = tf.losses.softmax_cross_entropy(y, model)\n",
    "optimizer = tf.train.AdamOptimizer(0.001).minimize(cost)"
   ]
  },
  {
   "cell_type": "markdown",
   "id": "78faa6ab",
   "metadata": {},
   "source": [
    "## Train the model"
   ]
  },
  {
   "cell_type": "code",
   "execution_count": 70,
   "id": "aada00ba",
   "metadata": {},
   "outputs": [],
   "source": [
    "init = tf.global_variables_initializer()\n",
    "sess = tf.Session()\n",
    "sess.run(init)"
   ]
  },
  {
   "cell_type": "code",
   "execution_count": 71,
   "id": "bb26fbd6",
   "metadata": {},
   "outputs": [
    {
     "name": "stdout",
     "output_type": "stream",
     "text": [
      "600\n"
     ]
    }
   ],
   "source": [
    "batch_size = 100\n",
    "total_batch = int(len(train_data) / batch_size)\n",
    "print(total_batch)"
   ]
  },
  {
   "cell_type": "code",
   "execution_count": 72,
   "id": "88b2bbb4",
   "metadata": {},
   "outputs": [
    {
     "name": "stdout",
     "output_type": "stream",
     "text": [
      "Epoch: 1 || Avg. Training cost = 0.409\n",
      "Epoch: 2 || Avg. Training cost = 0.155\n",
      "Epoch: 3 || Avg. Training cost = 0.104\n",
      "Epoch: 4 || Avg. Training cost = 0.079\n",
      "Epoch: 5 || Avg. Training cost = 0.064\n",
      "Epoch: 6 || Avg. Training cost = 0.051\n",
      "Epoch: 7 || Avg. Training cost = 0.044\n",
      "Epoch: 8 || Avg. Training cost = 0.040\n",
      "Epoch: 9 || Avg. Training cost = 0.033\n",
      "Epoch: 10 || Avg. Training cost = 0.032\n",
      "Epoch: 11 || Avg. Training cost = 0.029\n",
      "Epoch: 12 || Avg. Training cost = 0.027\n",
      "Epoch: 13 || Avg. Training cost = 0.025\n",
      "Epoch: 14 || Avg. Training cost = 0.023\n",
      "Epoch: 15 || Avg. Training cost = 0.023\n",
      "Learning process is completed!\n"
     ]
    }
   ],
   "source": [
    "for epoch in range(15):\n",
    "    \n",
    "    \n",
    "    total_cost = 0\n",
    "    batch_idx = 0\n",
    "    \n",
    "    for i in range(total_batch):\n",
    "        \n",
    "        batch_x = train_data[ batch_idx : batch_idx + batch_size ]\n",
    "        batch_y = train_label[ batch_idx : batch_idx + batch_size ]\n",
    "        \n",
    "        sess.run(optimizer, feed_dict={X: batch_x, \n",
    "                                       y: batch_y, \n",
    "                                       keep_prob: 0.8}) # node 중 80%만 유지하고 20%를 train 시마다 off\n",
    "        \n",
    "        batch_cost = sess.run(cost, feed_dict={X: batch_x, \n",
    "                                               y: batch_y, \n",
    "                                               keep_prob: 0.8})\n",
    "        total_cost = total_cost + batch_cost\n",
    "        \n",
    "        batch_idx += batch_size\n",
    "    \n",
    "    \n",
    "    training_cost = total_cost / total_batch\n",
    "    \n",
    "    \n",
    "    print('Epoch: {}'.format(epoch + 1), \n",
    "          '|| Avg. Training cost = {:.3f}'.format(training_cost))\n",
    "\n",
    "print('Learning process is completed!')"
   ]
  },
  {
   "cell_type": "markdown",
   "id": "cc72ac6d",
   "metadata": {},
   "source": [
    "## Test the model"
   ]
  },
  {
   "cell_type": "code",
   "execution_count": 73,
   "id": "8a18972c",
   "metadata": {},
   "outputs": [],
   "source": [
    "is_correct = tf.equal(tf.argmax(model, 1), tf.argmax(y, 1))\n",
    "accuracy = tf.reduce_mean(tf.cast(is_correct, tf.float32))"
   ]
  },
  {
   "cell_type": "code",
   "execution_count": 75,
   "id": "dd2207d8",
   "metadata": {},
   "outputs": [
    {
     "name": "stdout",
     "output_type": "stream",
     "text": [
      "정확도: 0.9786\n"
     ]
    }
   ],
   "source": [
    "print('정확도:', sess.run(accuracy,\n",
    "                      feed_dict= {X:test_data,\n",
    "                                 y : test_label,\n",
    "                                 keep_prob : 1})) # 정확도를 측정하는 Test 단계에서는 전체 Node를 살려줘야 합니다."
   ]
  },
  {
   "cell_type": "markdown",
   "id": "da8a4067",
   "metadata": {},
   "source": [
    "## Appendix. Save the predicted values"
   ]
  },
  {
   "cell_type": "code",
   "execution_count": 76,
   "id": "65bd5200",
   "metadata": {},
   "outputs": [
    {
     "data": {
      "text/plain": [
       "array([7, 2, 1, ..., 4, 5, 6])"
      ]
     },
     "execution_count": 76,
     "metadata": {},
     "output_type": "execute_result"
    }
   ],
   "source": [
    "# 모델의 예측값을 labels에 저장\n",
    "label = sess.run(tf.argmax(model, 1 ), feed_dict= {X : test_data, y : test_label, keep_prob : 1})\n",
    "\n",
    "label"
   ]
  },
  {
   "cell_type": "code",
   "execution_count": 78,
   "id": "92e80f4d",
   "metadata": {},
   "outputs": [
    {
     "name": "stdout",
     "output_type": "stream",
     "text": [
      "[7 2 1 ... 4 5 6]\n"
     ]
    }
   ],
   "source": [
    "print(np.argmax(test_label, 1))"
   ]
  },
  {
   "cell_type": "code",
   "execution_count": 80,
   "id": "b9a6aadd",
   "metadata": {},
   "outputs": [
    {
     "data": {
      "image/png": "[encoded data removed]",
      "text/plain": [
       "<Figure size 720x720 with 10 Axes>"
      ]
     },
     "metadata": {},
     "output_type": "display_data"
    }
   ],
   "source": [
    "fig = plt.figure(figsize=(10, 10))\n",
    "\n",
    "for i in range(10):\n",
    "    subplot = fig.add_subplot(2, 5, i + 1)\n",
    "    subplot.set_xticks([])\n",
    "    subplot.set_yticks([])\n",
    "    subplot.set_title('%d' % label[i])\n",
    "    subplot.imshow(test_data[i].reshape((28, 28)),\n",
    "                   cmap=plt.cm.gray_r)\n",
    "\n",
    "plt.show() # 상단의 번호가 예측된 숫자, 아래의 이미지가 실제 데이터(이미지 내 숫자)"
   ]
  },
  {
   "cell_type": "code",
   "execution_count": null,
   "id": "3efae40c",
   "metadata": {},
   "outputs": [],
   "source": []
  }
 ],
 "metadata": {
  "kernelspec": {
   "display_name": "Python 3 (ipykernel)",
   "language": "python",
   "name": "python3"
  },
  "language_info": {
   "codemirror_mode": {
    "name": "ipython",
    "version": 3
   },
   "file_extension": ".py",
   "mimetype": "text/x-python",
   "name": "python",
   "nbconvert_exporter": "python",
   "pygments_lexer": "ipython3",
   "version": "3.8.13"
  },
  "toc": {
   "base_numbering": 1,
   "nav_menu": {},
   "number_sections": true,
   "sideBar": true,
   "skip_h1_title": false,
   "title_cell": "Table of Contents",
   "title_sidebar": "Contents",
   "toc_cell": false,
   "toc_position": {},
   "toc_section_display": true,
   "toc_window_display": false
  }
 },
 "nbformat": 4,
 "nbformat_minor": 5
}
