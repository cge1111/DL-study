{
 "cells": [
  {
   "cell_type": "markdown",
   "id": "bea2f4a6",
   "metadata": {},
   "source": [
    "# Classification with Keras (Titanic dataset)\n",
    "#### 참고 : tensorflow.keras 공식 문서 (Official API Docs) @ https://www.tensorflow.org/api_docs/python/tf/keras"
   ]
  },
  {
   "cell_type": "markdown",
   "id": "c1051031",
   "metadata": {},
   "source": [
    "## Data loading & preprocessing"
   ]
  },
  {
   "cell_type": "code",
   "execution_count": 2,
   "id": "8ab4256f",
   "metadata": {
    "ExecuteTime": {
     "end_time": "2022-07-06T11:49:15.115054Z",
     "start_time": "2022-07-06T11:49:14.758520Z"
    }
   },
   "outputs": [],
   "source": [
    "import pandas as pd\n",
    "import numpy as np\n",
    "import matplotlib.pyplot as plt"
   ]
  },
  {
   "cell_type": "code",
   "execution_count": 16,
   "id": "2dc80489",
   "metadata": {
    "ExecuteTime": {
     "end_time": "2022-07-06T11:55:19.726403Z",
     "start_time": "2022-07-06T11:55:19.707737Z"
    }
   },
   "outputs": [
    {
     "data": {
      "text/html": [
       "<div>\n",
       "<style scoped>\n",
       "    .dataframe tbody tr th:only-of-type {\n",
       "        vertical-align: middle;\n",
       "    }\n",
       "\n",
       "    .dataframe tbody tr th {\n",
       "        vertical-align: top;\n",
       "    }\n",
       "\n",
       "    .dataframe thead th {\n",
       "        text-align: right;\n",
       "    }\n",
       "</style>\n",
       "<table border=\"1\" class=\"dataframe\">\n",
       "  <thead>\n",
       "    <tr style=\"text-align: right;\">\n",
       "      <th></th>\n",
       "      <th>PassengerId</th>\n",
       "      <th>Survived</th>\n",
       "      <th>Pclass</th>\n",
       "      <th>Name</th>\n",
       "      <th>Sex</th>\n",
       "      <th>Age</th>\n",
       "      <th>SibSp</th>\n",
       "      <th>Parch</th>\n",
       "      <th>Ticket</th>\n",
       "      <th>Fare</th>\n",
       "      <th>Cabin</th>\n",
       "      <th>Embarked</th>\n",
       "    </tr>\n",
       "  </thead>\n",
       "  <tbody>\n",
       "    <tr>\n",
       "      <th>0</th>\n",
       "      <td>1</td>\n",
       "      <td>0</td>\n",
       "      <td>3</td>\n",
       "      <td>Braund, Mr. Owen Harris</td>\n",
       "      <td>male</td>\n",
       "      <td>22.0</td>\n",
       "      <td>1</td>\n",
       "      <td>0</td>\n",
       "      <td>A/5 21171</td>\n",
       "      <td>7.2500</td>\n",
       "      <td>NaN</td>\n",
       "      <td>S</td>\n",
       "    </tr>\n",
       "    <tr>\n",
       "      <th>1</th>\n",
       "      <td>2</td>\n",
       "      <td>1</td>\n",
       "      <td>1</td>\n",
       "      <td>Cumings, Mrs. John Bradley (Florence Briggs Th...</td>\n",
       "      <td>female</td>\n",
       "      <td>38.0</td>\n",
       "      <td>1</td>\n",
       "      <td>0</td>\n",
       "      <td>PC 17599</td>\n",
       "      <td>71.2833</td>\n",
       "      <td>C85</td>\n",
       "      <td>C</td>\n",
       "    </tr>\n",
       "  </tbody>\n",
       "</table>\n",
       "</div>"
      ],
      "text/plain": [
       "   PassengerId  Survived  Pclass  \\\n",
       "0            1         0       3   \n",
       "1            2         1       1   \n",
       "\n",
       "                                                Name     Sex   Age  SibSp  \\\n",
       "0                            Braund, Mr. Owen Harris    male  22.0      1   \n",
       "1  Cumings, Mrs. John Bradley (Florence Briggs Th...  female  38.0      1   \n",
       "\n",
       "   Parch     Ticket     Fare Cabin Embarked  \n",
       "0      0  A/5 21171   7.2500   NaN        S  \n",
       "1      0   PC 17599  71.2833   C85        C  "
      ]
     },
     "execution_count": 16,
     "metadata": {},
     "output_type": "execute_result"
    }
   ],
   "source": [
    "titanic_df = pd.read_csv('../titanic.csv')\n",
    "titanic_df.head(2)"
   ]
  },
  {
   "cell_type": "code",
   "execution_count": 17,
   "id": "aaec7853",
   "metadata": {
    "ExecuteTime": {
     "end_time": "2022-07-06T11:55:20.370140Z",
     "start_time": "2022-07-06T11:55:20.349121Z"
    }
   },
   "outputs": [
    {
     "name": "stdout",
     "output_type": "stream",
     "text": [
      "<class 'pandas.core.frame.DataFrame'>\n",
      "RangeIndex: 891 entries, 0 to 890\n",
      "Data columns (total 12 columns):\n",
      " #   Column       Non-Null Count  Dtype  \n",
      "---  ------       --------------  -----  \n",
      " 0   PassengerId  891 non-null    int64  \n",
      " 1   Survived     891 non-null    int64  \n",
      " 2   Pclass       891 non-null    int64  \n",
      " 3   Name         891 non-null    object \n",
      " 4   Sex          891 non-null    object \n",
      " 5   Age          714 non-null    float64\n",
      " 6   SibSp        891 non-null    int64  \n",
      " 7   Parch        891 non-null    int64  \n",
      " 8   Ticket       891 non-null    object \n",
      " 9   Fare         891 non-null    float64\n",
      " 10  Cabin        204 non-null    object \n",
      " 11  Embarked     889 non-null    object \n",
      "dtypes: float64(2), int64(5), object(5)\n",
      "memory usage: 83.7+ KB\n"
     ]
    }
   ],
   "source": [
    "titanic_df.info()"
   ]
  },
  {
   "cell_type": "code",
   "execution_count": 6,
   "id": "6353d46a",
   "metadata": {
    "ExecuteTime": {
     "end_time": "2022-07-06T11:50:39.620466Z",
     "start_time": "2022-07-06T11:50:39.603465Z"
    }
   },
   "outputs": [
    {
     "data": {
      "text/plain": [
       "PassengerId    0.000000\n",
       "Survived       0.000000\n",
       "Pclass         0.000000\n",
       "Name           0.000000\n",
       "Sex            0.000000\n",
       "Age            0.198653\n",
       "SibSp          0.000000\n",
       "Parch          0.000000\n",
       "Ticket         0.000000\n",
       "Fare           0.000000\n",
       "Cabin          0.771044\n",
       "Embarked       0.002245\n",
       "dtype: float64"
      ]
     },
     "execution_count": 6,
     "metadata": {},
     "output_type": "execute_result"
    }
   ],
   "source": [
    "titanic_df.isna().sum()/len(titanic_df)"
   ]
  },
  {
   "cell_type": "code",
   "execution_count": 19,
   "id": "d7404d84",
   "metadata": {
    "ExecuteTime": {
     "end_time": "2022-07-06T11:55:27.231563Z",
     "start_time": "2022-07-06T11:55:27.219988Z"
    }
   },
   "outputs": [
    {
     "data": {
      "text/plain": [
       "0           A/5 21171\n",
       "1            PC 17599\n",
       "2    STON/O2. 3101282\n",
       "Name: Ticket, dtype: object"
      ]
     },
     "execution_count": 19,
     "metadata": {},
     "output_type": "execute_result"
    }
   ],
   "source": [
    "titanic_df.Ticket[:3]"
   ]
  },
  {
   "cell_type": "code",
   "execution_count": 12,
   "id": "3bccf2df",
   "metadata": {
    "ExecuteTime": {
     "end_time": "2022-07-06T11:53:06.087174Z",
     "start_time": "2022-07-06T11:53:06.076443Z"
    }
   },
   "outputs": [
    {
     "data": {
      "text/plain": [
       "0.7643097643097643"
      ]
     },
     "execution_count": 12,
     "metadata": {},
     "output_type": "execute_result"
    }
   ],
   "source": [
    "# 티켓의 고유값이 76%로 패턴 파악 어려움!\n",
    "titanic_df.Ticket.nunique()/len(titanic_df)"
   ]
  },
  {
   "cell_type": "markdown",
   "id": "4d199b9b",
   "metadata": {},
   "source": [
    "## drop column\n",
    "cabin - 너무 많은 결측치가 존재(70%이상) <br>\n",
    "PassengerId - PassengerId는 일련번호로 의미 파악 어려워 drop<br>\n",
    "Ticket - ticket 번호에서 패턴파악 어려움<br>\n",
    "Name - 호칭만 남김<br>"
   ]
  },
  {
   "cell_type": "code",
   "execution_count": 20,
   "id": "bb576b39",
   "metadata": {
    "ExecuteTime": {
     "end_time": "2022-07-06T11:56:34.756837Z",
     "start_time": "2022-07-06T11:56:34.740080Z"
    }
   },
   "outputs": [],
   "source": [
    "del titanic_df['Cabin'] \n",
    "del titanic_df['PassengerId'] \n",
    "del titanic_df['Ticket'] \n",
    "\n",
    "titanic_df['Title'] = titanic_df['Name'].str.extract('([A-Za-z]+)\\.', expand=False)\n",
    "del titanic_df['Name']"
   ]
  },
  {
   "cell_type": "code",
   "execution_count": 24,
   "id": "be9dd2db",
   "metadata": {
    "ExecuteTime": {
     "end_time": "2022-07-06T12:00:10.062314Z",
     "start_time": "2022-07-06T12:00:10.051379Z"
    }
   },
   "outputs": [
    {
     "data": {
      "text/plain": [
       "Index(['Survived', 'Pclass', 'Sex', 'Age', 'SibSp', 'Parch', 'Fare',\n",
       "       'Embarked', 'Title'],\n",
       "      dtype='object')"
      ]
     },
     "execution_count": 24,
     "metadata": {},
     "output_type": "execute_result"
    }
   ],
   "source": [
    "titanic_df.columns"
   ]
  },
  {
   "cell_type": "code",
   "execution_count": 25,
   "id": "8c008b8f",
   "metadata": {
    "ExecuteTime": {
     "end_time": "2022-07-06T12:01:53.398032Z",
     "start_time": "2022-07-06T12:01:53.358710Z"
    }
   },
   "outputs": [
    {
     "data": {
      "text/html": [
       "<div>\n",
       "<style scoped>\n",
       "    .dataframe tbody tr th:only-of-type {\n",
       "        vertical-align: middle;\n",
       "    }\n",
       "\n",
       "    .dataframe tbody tr th {\n",
       "        vertical-align: top;\n",
       "    }\n",
       "\n",
       "    .dataframe thead th {\n",
       "        text-align: right;\n",
       "    }\n",
       "</style>\n",
       "<table border=\"1\" class=\"dataframe\">\n",
       "  <thead>\n",
       "    <tr style=\"text-align: right;\">\n",
       "      <th></th>\n",
       "      <th>Survived</th>\n",
       "      <th>Pclass</th>\n",
       "      <th>Sex</th>\n",
       "      <th>Age</th>\n",
       "      <th>Fare</th>\n",
       "      <th>Embarked</th>\n",
       "      <th>Title</th>\n",
       "      <th>FamilySize</th>\n",
       "      <th>isAlone</th>\n",
       "    </tr>\n",
       "  </thead>\n",
       "  <tbody>\n",
       "    <tr>\n",
       "      <th>0</th>\n",
       "      <td>0</td>\n",
       "      <td>3</td>\n",
       "      <td>0</td>\n",
       "      <td>1.0</td>\n",
       "      <td>0.0</td>\n",
       "      <td>0</td>\n",
       "      <td>3</td>\n",
       "      <td>0.4</td>\n",
       "      <td>0</td>\n",
       "    </tr>\n",
       "    <tr>\n",
       "      <th>1</th>\n",
       "      <td>1</td>\n",
       "      <td>1</td>\n",
       "      <td>1</td>\n",
       "      <td>2.0</td>\n",
       "      <td>0.0</td>\n",
       "      <td>2</td>\n",
       "      <td>4</td>\n",
       "      <td>0.4</td>\n",
       "      <td>0</td>\n",
       "    </tr>\n",
       "    <tr>\n",
       "      <th>2</th>\n",
       "      <td>1</td>\n",
       "      <td>3</td>\n",
       "      <td>1</td>\n",
       "      <td>1.0</td>\n",
       "      <td>0.0</td>\n",
       "      <td>0</td>\n",
       "      <td>2</td>\n",
       "      <td>0.0</td>\n",
       "      <td>1</td>\n",
       "    </tr>\n",
       "  </tbody>\n",
       "</table>\n",
       "</div>"
      ],
      "text/plain": [
       "   Survived  Pclass  Sex  Age  Fare  Embarked  Title  FamilySize  isAlone\n",
       "0         0       3    0  1.0   0.0         0      3         0.4        0\n",
       "1         1       1    1  2.0   0.0         2      4         0.4        0\n",
       "2         1       3    1  1.0   0.0         0      2         0.0        1"
      ]
     },
     "execution_count": 25,
     "metadata": {},
     "output_type": "execute_result"
    }
   ],
   "source": [
    "rare_title = []\n",
    "for title in set(titanic_df['Title']):\n",
    "    if list(titanic_df['Title']).count(title) < 10:\n",
    "        rare_title.append(title)\n",
    "\n",
    "titanic_df['Title'] = titanic_df['Title'].replace('Mlle', 'Miss') # Mademoiselle\n",
    "titanic_df['Title'] = titanic_df['Title'].replace('Ms', 'Miss') \n",
    "titanic_df['Title'] = titanic_df['Title'].replace('Mme', 'Mrs') # Madame\n",
    "titanic_df['Title'] = titanic_df['Title'].replace(rare_title, 'Rare')\n",
    "\n",
    "title_mapping = {\"Master\":1, \"Miss\":2, \"Mr\":3, \"Mrs\":4, \"Rare\":5 }\n",
    "titanic_df['Title'] = titanic_df['Title'].map(title_mapping)\n",
    "titanic_df['Title'] = titanic_df['Title'].fillna(0)\n",
    "titanic_df['Title'].astype(int)\n",
    "\n",
    "\n",
    "sex_mapping = {\"male\": 0 , \"female\":1} \n",
    "titanic_df['Sex'] = titanic_df['Sex'].map(sex_mapping)\n",
    "\n",
    "\n",
    "titanic_df['Embarked'] = titanic_df['Embarked'].fillna('S')\n",
    "mapping_data ={\"S\":0, \"Q\":1, \"C\":2}\n",
    "titanic_df[\"Embarked\"] = titanic_df[\"Embarked\"].map(mapping_data)\n",
    "\n",
    "\n",
    "titanic_df.loc[ titanic_df['Fare'] <= 102, 'Fare'] = 0\n",
    "titanic_df.loc[(titanic_df['Fare'] > 102) & (titanic_df['Fare'] <= 204), 'Fare'] = 1\n",
    "titanic_df.loc[(titanic_df['Fare'] > 204) & (titanic_df['Fare'] <= 307), 'Fare'] = 2\n",
    "titanic_df.loc[ titanic_df['Fare'] > 307, 'Fare'] = 4\n",
    "\n",
    "\n",
    "titanic_df[\"FamilySize\"] = titanic_df[\"SibSp\"] + titanic_df[\"Parch\"] +1\n",
    "del titanic_df['SibSp']\n",
    "del titanic_df['Parch']\n",
    "\n",
    "titanic_df['isAlone'] = 0\n",
    "titanic_df.loc[titanic_df['FamilySize'] == 1, 'isAlone'] = 1\n",
    "\n",
    "family_mapping = {1: 0, 2: 0.4, 3: 0.8, 4: 1.2, 5: 1.6, 6: 2, 7: 2.4, 8: 2.8, 9: 3.2, 10: 3.6, 11: 4}\n",
    "titanic_df['FamilySize'] = titanic_df['FamilySize'].map(family_mapping)\n",
    "\n",
    "\n",
    "titanic_df[\"Age\"].fillna(titanic_df.groupby(\"Title\")[\"Age\"].transform(\"median\"), inplace=True)\n",
    "\n",
    "titanic_df.loc[ titanic_df['Age'] <= 16, 'Age'] = 0\n",
    "titanic_df.loc[(titanic_df['Age'] > 16) & (titanic_df['Age'] <= 32), 'Age'] = 1\n",
    "titanic_df.loc[(titanic_df['Age'] > 32) & (titanic_df['Age'] <= 48), 'Age'] = 2\n",
    "titanic_df.loc[(titanic_df['Age'] > 48) & (titanic_df['Age'] <= 64), 'Age'] = 3\n",
    "titanic_df.loc[ titanic_df['Age'] > 64, 'Age'] = 4\n",
    "\n",
    "titanic_df.head(3)"
   ]
  },
  {
   "cell_type": "markdown",
   "id": "e37555ed",
   "metadata": {},
   "source": [
    "## Devide dataframe into X & Y -> Train X / Test X / Train Y / Test Y"
   ]
  },
  {
   "cell_type": "code",
   "execution_count": 28,
   "id": "0bbdc833",
   "metadata": {
    "ExecuteTime": {
     "end_time": "2022-07-06T12:07:34.879475Z",
     "start_time": "2022-07-06T12:07:34.866823Z"
    }
   },
   "outputs": [],
   "source": [
    "titanic_target = titanic_df[['Survived']].copy()\n",
    "titanic_data = titanic_df.copy()\n",
    "\n",
    "del titanic_data['Survived']"
   ]
  },
  {
   "cell_type": "code",
   "execution_count": 29,
   "id": "c46fbb84",
   "metadata": {
    "ExecuteTime": {
     "end_time": "2022-07-06T12:07:48.310858Z",
     "start_time": "2022-07-06T12:07:48.223067Z"
    }
   },
   "outputs": [],
   "source": [
    "from sklearn import model_selection"
   ]
  },
  {
   "cell_type": "code",
   "execution_count": 30,
   "id": "3eb7aafd",
   "metadata": {
    "ExecuteTime": {
     "end_time": "2022-07-06T12:09:49.972597Z",
     "start_time": "2022-07-06T12:09:49.956373Z"
    }
   },
   "outputs": [
    {
     "data": {
      "text/plain": [
       "((623, 8), (268, 8), (623, 1), (268, 1))"
      ]
     },
     "execution_count": 30,
     "metadata": {},
     "output_type": "execute_result"
    }
   ],
   "source": [
    "train_data, test_data, train_label, test_label = model_selection.train_test_split(titanic_data, titanic_target,\n",
    "                                                                                 test_size= 0.3,\n",
    "                                                                                 random_state=42)\n",
    "train_data.shape, test_data.shape, train_label.shape, test_label.shape"
   ]
  },
  {
   "cell_type": "markdown",
   "id": "1f43762e",
   "metadata": {},
   "source": [
    "## Change normal labels to one-hot labels"
   ]
  },
  {
   "cell_type": "code",
   "execution_count": 33,
   "id": "7a86ac7c",
   "metadata": {
    "ExecuteTime": {
     "end_time": "2022-07-06T12:10:30.825308Z",
     "start_time": "2022-07-06T12:10:30.809975Z"
    }
   },
   "outputs": [
    {
     "data": {
      "text/html": [
       "<div>\n",
       "<style scoped>\n",
       "    .dataframe tbody tr th:only-of-type {\n",
       "        vertical-align: middle;\n",
       "    }\n",
       "\n",
       "    .dataframe tbody tr th {\n",
       "        vertical-align: top;\n",
       "    }\n",
       "\n",
       "    .dataframe thead th {\n",
       "        text-align: right;\n",
       "    }\n",
       "</style>\n",
       "<table border=\"1\" class=\"dataframe\">\n",
       "  <thead>\n",
       "    <tr style=\"text-align: right;\">\n",
       "      <th></th>\n",
       "      <th>Survived</th>\n",
       "    </tr>\n",
       "  </thead>\n",
       "  <tbody>\n",
       "    <tr>\n",
       "      <th>445</th>\n",
       "      <td>1</td>\n",
       "    </tr>\n",
       "    <tr>\n",
       "      <th>650</th>\n",
       "      <td>0</td>\n",
       "    </tr>\n",
       "    <tr>\n",
       "      <th>172</th>\n",
       "      <td>1</td>\n",
       "    </tr>\n",
       "    <tr>\n",
       "      <th>450</th>\n",
       "      <td>0</td>\n",
       "    </tr>\n",
       "    <tr>\n",
       "      <th>314</th>\n",
       "      <td>0</td>\n",
       "    </tr>\n",
       "  </tbody>\n",
       "</table>\n",
       "</div>"
      ],
      "text/plain": [
       "     Survived\n",
       "445         1\n",
       "650         0\n",
       "172         1\n",
       "450         0\n",
       "314         0"
      ]
     },
     "execution_count": 33,
     "metadata": {},
     "output_type": "execute_result"
    }
   ],
   "source": [
    "train_label[:5]"
   ]
  },
  {
   "cell_type": "code",
   "execution_count": 34,
   "id": "b6a5fe6d",
   "metadata": {
    "ExecuteTime": {
     "end_time": "2022-07-06T12:13:11.515663Z",
     "start_time": "2022-07-06T12:13:10.399438Z"
    }
   },
   "outputs": [
    {
     "data": {
      "text/plain": [
       "((623, 2), (268, 2))"
      ]
     },
     "execution_count": 34,
     "metadata": {},
     "output_type": "execute_result"
    }
   ],
   "source": [
    "from tensorflow.keras import utils\n",
    "\n",
    "train_label = utils.to_categorical(train_label) # 0 or 1 -> one-hot vector\n",
    "test_label = utils.to_categorical(test_label) # 0 or 1 -> one-hot vector\n",
    "\n",
    "train_label.shape, test_label.shape\n",
    "# from sklearn import preprocessing\n",
    "# enc = preprocessing.OneHotEncoder(categories='auto') # Apply 'One-hot encoding' on labels (Single integer to One-hot vector)\n",
    "# train_label = enc.fit_transform(train_label).toarray()\n",
    "# test_label = enc.fit_transform(test_label).toarray()"
   ]
  },
  {
   "cell_type": "code",
   "execution_count": 35,
   "id": "ac9f77c2",
   "metadata": {
    "ExecuteTime": {
     "end_time": "2022-07-06T12:13:22.489159Z",
     "start_time": "2022-07-06T12:13:22.479321Z"
    }
   },
   "outputs": [
    {
     "data": {
      "text/plain": [
       "array([[0., 1.],\n",
       "       [1., 0.]], dtype=float32)"
      ]
     },
     "execution_count": 35,
     "metadata": {},
     "output_type": "execute_result"
    }
   ],
   "source": [
    "train_label[:2]"
   ]
  },
  {
   "cell_type": "markdown",
   "id": "394c857a",
   "metadata": {},
   "source": [
    "## Bulid & Train the model"
   ]
  },
  {
   "cell_type": "code",
   "execution_count": 36,
   "id": "2b7edffa",
   "metadata": {
    "ExecuteTime": {
     "end_time": "2022-07-06T12:15:13.777777Z",
     "start_time": "2022-07-06T12:15:13.768815Z"
    }
   },
   "outputs": [],
   "source": [
    "import tensorflow as tf\n",
    "\n",
    "from tensorflow.keras import datasets, utils\n",
    "from tensorflow.keras import models, layers, activations, initializers, losses, optimizers, metrics"
   ]
  },
  {
   "cell_type": "code",
   "execution_count": 37,
   "id": "2b2a9f78",
   "metadata": {
    "ExecuteTime": {
     "end_time": "2022-07-06T12:15:31.837768Z",
     "start_time": "2022-07-06T12:15:31.831395Z"
    }
   },
   "outputs": [],
   "source": [
    "import os\n",
    "os.environ['TF_CPP_MIN_LOG_LEVEL'] = '2' # https://stackoverflow.com/questions/35911252/disable-tensorflow-debugging-information"
   ]
  },
  {
   "cell_type": "code",
   "execution_count": 38,
   "id": "629a13b2",
   "metadata": {
    "ExecuteTime": {
     "end_time": "2022-07-06T12:16:53.120290Z",
     "start_time": "2022-07-06T12:16:53.064598Z"
    }
   },
   "outputs": [],
   "source": [
    "model = models.Sequential() # Build up the \"Sequence\" of layers (Linear stack of layers), 바탕\n",
    "\n",
    "# Dense-layer (with he-initialization)\n",
    "model.add(layers.Dense(input_dim=8, units=256, activation=None, kernel_initializer=initializers.he_uniform())) # he-uniform initialization\n",
    "# model.add(layers.BatchNormalization()) # Use this line as if needed\n",
    "model.add(layers.Activation('elu')) # elu or relu (or layers.ELU / layers.LeakyReLU)\n",
    "\n",
    "model.add(layers.Dense(units=512, activation=None, kernel_initializer=initializers.he_uniform())) \n",
    "model.add(layers.Activation('elu')) \n",
    "\n",
    "model.add(layers.Dense(units=512, activation=None, kernel_initializer=initializers.he_uniform())) \n",
    "model.add(layers.Activation('elu'))\n",
    "\n",
    "model.add(layers.Dense(units=256, activation=None, kernel_initializer=initializers.he_uniform())) \n",
    "model.add(layers.Activation('elu')) \n",
    "model.add(layers.Dropout(rate=0.5)) # Dropout-layer\n",
    "\n",
    "model.add(layers.Dense(units=2, activation='softmax')) # Apply softmax function on model's output"
   ]
  },
  {
   "cell_type": "code",
   "execution_count": 39,
   "id": "b8e2f9c7",
   "metadata": {
    "ExecuteTime": {
     "end_time": "2022-07-06T12:17:32.566267Z",
     "start_time": "2022-07-06T12:17:32.543217Z"
    }
   },
   "outputs": [],
   "source": [
    "# \"Compile\" the model description (Configures the model for training)\n",
    "\n",
    "model.compile(optimizer=optimizers.Adam(), # Please try the Adam-optimizer\n",
    "              loss=losses.categorical_crossentropy,  # spase_categorical_crossentropy\n",
    "              metrics=[metrics.categorical_accuracy]) # Precision / Recall / F1-Score 적용하기 @ https://j.mp/3cf3lbi"
   ]
  },
  {
   "cell_type": "code",
   "execution_count": 40,
   "id": "325a72c5",
   "metadata": {
    "ExecuteTime": {
     "end_time": "2022-07-06T12:17:46.520534Z",
     "start_time": "2022-07-06T12:17:46.494075Z"
    }
   },
   "outputs": [
    {
     "name": "stdout",
     "output_type": "stream",
     "text": [
      "Model: \"sequential\"\n",
      "_________________________________________________________________\n",
      " Layer (type)                Output Shape              Param #   \n",
      "=================================================================\n",
      " dense (Dense)               (None, 256)               2304      \n",
      "                                                                 \n",
      " activation (Activation)     (None, 256)               0         \n",
      "                                                                 \n",
      " dense_1 (Dense)             (None, 512)               131584    \n",
      "                                                                 \n",
      " activation_1 (Activation)   (None, 512)               0         \n",
      "                                                                 \n",
      " dense_2 (Dense)             (None, 512)               262656    \n",
      "                                                                 \n",
      " activation_2 (Activation)   (None, 512)               0         \n",
      "                                                                 \n",
      " dense_3 (Dense)             (None, 256)               131328    \n",
      "                                                                 \n",
      " activation_3 (Activation)   (None, 256)               0         \n",
      "                                                                 \n",
      " dropout (Dropout)           (None, 256)               0         \n",
      "                                                                 \n",
      " dense_4 (Dense)             (None, 2)                 514       \n",
      "                                                                 \n",
      "=================================================================\n",
      "Total params: 528,386\n",
      "Trainable params: 528,386\n",
      "Non-trainable params: 0\n",
      "_________________________________________________________________\n"
     ]
    }
   ],
   "source": [
    "model.summary()"
   ]
  },
  {
   "cell_type": "code",
   "execution_count": 42,
   "id": "2380906e",
   "metadata": {
    "ExecuteTime": {
     "end_time": "2022-07-06T12:18:52.512612Z",
     "start_time": "2022-07-06T12:18:51.666517Z"
    },
    "scrolled": true
   },
   "outputs": [
    {
     "name": "stdout",
     "output_type": "stream",
     "text": [
      "Epoch 1/20\n",
      "5/5 [==============================] - 0s 20ms/step - loss: 2.4068 - categorical_accuracy: 0.6078 - val_loss: 0.9946 - val_categorical_accuracy: 0.7112\n",
      "Epoch 2/20\n",
      "5/5 [==============================] - 0s 6ms/step - loss: 1.1043 - categorical_accuracy: 0.7156 - val_loss: 0.6268 - val_categorical_accuracy: 0.7968\n",
      "Epoch 3/20\n",
      "5/5 [==============================] - 0s 6ms/step - loss: 0.8799 - categorical_accuracy: 0.7339 - val_loss: 0.4431 - val_categorical_accuracy: 0.8289\n",
      "Epoch 4/20\n",
      "5/5 [==============================] - 0s 6ms/step - loss: 0.6451 - categorical_accuracy: 0.7844 - val_loss: 0.4448 - val_categorical_accuracy: 0.8182\n",
      "Epoch 5/20\n",
      "5/5 [==============================] - 0s 6ms/step - loss: 0.7384 - categorical_accuracy: 0.7477 - val_loss: 0.6231 - val_categorical_accuracy: 0.7754\n",
      "Epoch 6/20\n",
      "5/5 [==============================] - 0s 6ms/step - loss: 0.7542 - categorical_accuracy: 0.7592 - val_loss: 0.5284 - val_categorical_accuracy: 0.8128\n",
      "Epoch 7/20\n",
      "5/5 [==============================] - 0s 6ms/step - loss: 0.6697 - categorical_accuracy: 0.7683 - val_loss: 0.4521 - val_categorical_accuracy: 0.8182\n",
      "Epoch 8/20\n",
      "5/5 [==============================] - 0s 6ms/step - loss: 0.6436 - categorical_accuracy: 0.7317 - val_loss: 0.4279 - val_categorical_accuracy: 0.8182\n",
      "Epoch 9/20\n",
      "5/5 [==============================] - 0s 6ms/step - loss: 0.5839 - categorical_accuracy: 0.7844 - val_loss: 0.4354 - val_categorical_accuracy: 0.8235\n",
      "Epoch 10/20\n",
      "5/5 [==============================] - 0s 6ms/step - loss: 0.6014 - categorical_accuracy: 0.7477 - val_loss: 0.4377 - val_categorical_accuracy: 0.7968\n",
      "Epoch 11/20\n",
      "5/5 [==============================] - 0s 6ms/step - loss: 0.5941 - categorical_accuracy: 0.7592 - val_loss: 0.4415 - val_categorical_accuracy: 0.8342\n",
      "Epoch 12/20\n",
      "5/5 [==============================] - 0s 6ms/step - loss: 0.5397 - categorical_accuracy: 0.7867 - val_loss: 0.4423 - val_categorical_accuracy: 0.8342\n",
      "Epoch 13/20\n",
      "5/5 [==============================] - 0s 6ms/step - loss: 0.4844 - categorical_accuracy: 0.8211 - val_loss: 0.4379 - val_categorical_accuracy: 0.8289\n",
      "Epoch 14/20\n",
      "5/5 [==============================] - 0s 6ms/step - loss: 0.5198 - categorical_accuracy: 0.8372 - val_loss: 0.4311 - val_categorical_accuracy: 0.8128\n",
      "Epoch 15/20\n",
      "5/5 [==============================] - 0s 6ms/step - loss: 0.5265 - categorical_accuracy: 0.7523 - val_loss: 0.4442 - val_categorical_accuracy: 0.8182\n",
      "Epoch 16/20\n",
      "5/5 [==============================] - 0s 6ms/step - loss: 0.5681 - categorical_accuracy: 0.8005 - val_loss: 0.4376 - val_categorical_accuracy: 0.8396\n",
      "Epoch 17/20\n",
      "5/5 [==============================] - 0s 6ms/step - loss: 0.5529 - categorical_accuracy: 0.8050 - val_loss: 0.4464 - val_categorical_accuracy: 0.8021\n",
      "Epoch 18/20\n",
      "5/5 [==============================] - 0s 6ms/step - loss: 0.5557 - categorical_accuracy: 0.7752 - val_loss: 0.4628 - val_categorical_accuracy: 0.8021\n",
      "Epoch 19/20\n",
      "5/5 [==============================] - 0s 6ms/step - loss: 0.5695 - categorical_accuracy: 0.7798 - val_loss: 0.4405 - val_categorical_accuracy: 0.8021\n",
      "Epoch 20/20\n",
      "5/5 [==============================] - 0s 6ms/step - loss: 0.5136 - categorical_accuracy: 0.8119 - val_loss: 0.3967 - val_categorical_accuracy: 0.8289\n"
     ]
    }
   ],
   "source": [
    "# \"Fit\" the model on training data\n",
    "\n",
    "history = model.fit(train_data, train_label, batch_size=100, epochs=20, validation_split=0.3)"
   ]
  },
  {
   "cell_type": "markdown",
   "id": "b548e201",
   "metadata": {},
   "source": [
    "## Evaluate\n",
    "### \"Evaluate\" the model on test data\n"
   ]
  },
  {
   "cell_type": "code",
   "execution_count": 43,
   "id": "84b0cb12",
   "metadata": {
    "ExecuteTime": {
     "end_time": "2022-07-06T12:20:11.195423Z",
     "start_time": "2022-07-06T12:20:11.134542Z"
    }
   },
   "outputs": [
    {
     "name": "stdout",
     "output_type": "stream",
     "text": [
      "9/9 [==============================] - 0s 1ms/step - loss: 0.4655 - categorical_accuracy: 0.8172\n",
      "loss (cross-entropy) : 0.46554526686668396\n",
      "test accuracy : 0.8171641826629639\n"
     ]
    }
   ],
   "source": [
    "result = model.evaluate(test_data, test_label)\n",
    "\n",
    "print('loss (cross-entropy) :', result[0])\n",
    "print('test accuracy :', result[1])"
   ]
  },
  {
   "cell_type": "code",
   "execution_count": 44,
   "id": "bcb2d157",
   "metadata": {
    "ExecuteTime": {
     "end_time": "2022-07-06T12:20:27.547815Z",
     "start_time": "2022-07-06T12:20:27.537957Z"
    }
   },
   "outputs": [
    {
     "data": {
      "text/plain": [
       "dict_keys(['loss', 'categorical_accuracy', 'val_loss', 'val_categorical_accuracy'])"
      ]
     },
     "execution_count": 44,
     "metadata": {},
     "output_type": "execute_result"
    }
   ],
   "source": [
    "history.history.keys()"
   ]
  },
  {
   "cell_type": "code",
   "execution_count": 45,
   "id": "f81ab256",
   "metadata": {
    "ExecuteTime": {
     "end_time": "2022-07-06T12:20:46.749017Z",
     "start_time": "2022-07-06T12:20:46.741438Z"
    }
   },
   "outputs": [
    {
     "name": "stdout",
     "output_type": "stream",
     "text": [
      "[0.607798159122467, 0.7155963182449341, 0.7339449524879456, 0.7844036817550659, 0.747706413269043, 0.7591742873191833, 0.7683486342430115, 0.7316513657569885, 0.7844036817550659, 0.747706413269043, 0.7591742873191833, 0.786697268486023, 0.8211008906364441, 0.8371559381484985, 0.752293586730957, 0.8004587292671204, 0.8050458431243896, 0.7752293348312378, 0.7798165082931519, 0.8119266033172607]\n"
     ]
    }
   ],
   "source": [
    "print(history.history['categorical_accuracy']) # y좌표"
   ]
  },
  {
   "cell_type": "code",
   "execution_count": 46,
   "id": "8914fe58",
   "metadata": {
    "ExecuteTime": {
     "end_time": "2022-07-06T12:21:02.353092Z",
     "start_time": "2022-07-06T12:21:02.257593Z"
    }
   },
   "outputs": [
    {
     "data": {
      "image/png": "[encoded data removed]",
      "text/plain": [
       "<Figure size 432x288 with 1 Axes>"
      ]
     },
     "metadata": {
      "needs_background": "light"
     },
     "output_type": "display_data"
    }
   ],
   "source": [
    "acc = history.history['categorical_accuracy'] # 20\n",
    "val_acc = history.history['val_categorical_accuracy'] # 20\n",
    "\n",
    "x_len = np.arange(len(acc)) # acc= = 20\n",
    "\n",
    "plt.plot(x_len, acc, marker='.', c='blue', label=\"Train-set Acc.\")\n",
    "plt.plot(x_len, val_acc, marker='.', c='red', label=\"Validation-set Acc.\")\n",
    "\n",
    "plt.legend(loc='upper right')\n",
    "plt.grid()\n",
    "plt.xlabel('epoch')\n",
    "plt.ylabel('Accuracy')\n",
    "plt.show()"
   ]
  },
  {
   "cell_type": "markdown",
   "id": "b4fd5bf4",
   "metadata": {},
   "source": [
    "### Predict on test data"
   ]
  },
  {
   "cell_type": "code",
   "execution_count": 47,
   "id": "b827bcf3",
   "metadata": {
    "ExecuteTime": {
     "end_time": "2022-07-06T12:21:48.699770Z",
     "start_time": "2022-07-06T12:21:48.609046Z"
    }
   },
   "outputs": [
    {
     "data": {
      "text/plain": [
       "array([[7.88420066e-02, 9.21157956e-01],\n",
       "       [9.28635120e-01, 7.13649094e-02],\n",
       "       [9.21054006e-01, 7.89460093e-02],\n",
       "       [3.26448604e-02, 9.67355192e-01],\n",
       "       [5.24565019e-02, 9.47543442e-01],\n",
       "       [4.09253349e-04, 9.99590814e-01],\n",
       "       [3.58440191e-01, 6.41559780e-01],\n",
       "       [8.33994865e-01, 1.66005135e-01],\n",
       "       [9.23033431e-02, 9.07696605e-01],\n",
       "       [1.60449184e-03, 9.98395503e-01],\n",
       "       [8.91757905e-01, 1.08242132e-01],\n",
       "       [9.63298082e-01, 3.67019400e-02],\n",
       "       [8.93698096e-01, 1.06301829e-01],\n",
       "       [9.02608216e-01, 9.73917842e-02],\n",
       "       [9.52375054e-01, 4.76249717e-02],\n",
       "       [7.28340878e-04, 9.99271691e-01],\n",
       "       [8.91757905e-01, 1.08242132e-01],\n",
       "       [3.58440191e-01, 6.41559780e-01],\n",
       "       [9.85505283e-01, 1.44947218e-02],\n",
       "       [9.20912445e-01, 7.90875703e-02],\n",
       "       [9.21054006e-01, 7.89460093e-02],\n",
       "       [9.20912445e-01, 7.90875703e-02],\n",
       "       [6.49688423e-01, 3.50311607e-01],\n",
       "       [9.21054006e-01, 7.89460093e-02],\n",
       "       [9.21054006e-01, 7.89460093e-02],\n",
       "       [8.98311794e-01, 1.01688243e-01],\n",
       "       [8.77698541e-01, 1.22301519e-01],\n",
       "       [9.28635120e-01, 7.13649094e-02],\n",
       "       [8.98311794e-01, 1.01688243e-01],\n",
       "       [5.30860066e-01, 4.69139963e-01],\n",
       "       [9.21054006e-01, 7.89460093e-02],\n",
       "       [5.30860066e-01, 4.69139963e-01],\n",
       "       [6.58372879e-01, 3.41627151e-01],\n",
       "       [5.30860066e-01, 4.69139963e-01],\n",
       "       [9.21054006e-01, 7.89460093e-02],\n",
       "       [8.11172724e-01, 1.88827321e-01],\n",
       "       [9.13386285e-01, 8.66137147e-02],\n",
       "       [3.58440191e-01, 6.41559780e-01],\n",
       "       [2.22726003e-03, 9.97772753e-01],\n",
       "       [9.21054006e-01, 7.89460093e-02],\n",
       "       [9.27082241e-01, 7.29178116e-02],\n",
       "       [9.19791937e-01, 8.02081227e-02],\n",
       "       [9.21054006e-01, 7.89460093e-02],\n",
       "       [9.18399215e-01, 8.16007704e-02],\n",
       "       [3.16040426e-01, 6.83959544e-01],\n",
       "       [9.28746879e-01, 7.12530985e-02],\n",
       "       [9.21054006e-01, 7.89460093e-02],\n",
       "       [9.21054006e-01, 7.89460093e-02],\n",
       "       [9.21054006e-01, 7.89460093e-02],\n",
       "       [3.90124977e-01, 6.09875023e-01],\n",
       "       [1.27962753e-01, 8.72037292e-01],\n",
       "       [1.32518476e-02, 9.86748219e-01],\n",
       "       [9.90638733e-01, 9.36130155e-03],\n",
       "       [5.59825301e-01, 4.40174699e-01],\n",
       "       [9.91745889e-01, 8.25415924e-03],\n",
       "       [1.60449184e-03, 9.98395503e-01],\n",
       "       [9.28635120e-01, 7.13649094e-02],\n",
       "       [1.70957074e-02, 9.82904255e-01],\n",
       "       [6.55027479e-02, 9.34497237e-01],\n",
       "       [3.58440191e-01, 6.41559780e-01],\n",
       "       [9.21054006e-01, 7.89460093e-02],\n",
       "       [3.26448604e-02, 9.67355192e-01],\n",
       "       [9.76257846e-02, 9.02374208e-01],\n",
       "       [9.13386285e-01, 8.66137147e-02],\n",
       "       [9.18399215e-01, 8.16007704e-02],\n",
       "       [8.27866420e-02, 9.17213380e-01],\n",
       "       [9.28635120e-01, 7.13649094e-02],\n",
       "       [9.21054006e-01, 7.89460093e-02],\n",
       "       [8.26275408e-01, 1.73724636e-01],\n",
       "       [3.05408612e-03, 9.96945918e-01],\n",
       "       [1.44150779e-01, 8.55849206e-01],\n",
       "       [2.22822651e-03, 9.97771800e-01],\n",
       "       [6.58372879e-01, 3.41627151e-01],\n",
       "       [1.53956923e-03, 9.98460412e-01],\n",
       "       [9.21054006e-01, 7.89460093e-02],\n",
       "       [9.64470565e-01, 3.55294943e-02],\n",
       "       [3.58440191e-01, 6.41559780e-01],\n",
       "       [2.03269563e-04, 9.99796808e-01],\n",
       "       [6.55027479e-02, 9.34497237e-01],\n",
       "       [6.95563853e-01, 3.04436147e-01],\n",
       "       [9.57237780e-01, 4.27622460e-02],\n",
       "       [6.27728775e-02, 9.37227070e-01],\n",
       "       [3.52216791e-03, 9.96477783e-01],\n",
       "       [9.18399215e-01, 8.16007704e-02],\n",
       "       [9.73230898e-01, 2.67690830e-02],\n",
       "       [9.83972192e-01, 1.60278548e-02],\n",
       "       [7.18584284e-04, 9.99281466e-01],\n",
       "       [2.22726003e-03, 9.97772753e-01],\n",
       "       [9.79814708e-01, 2.01852564e-02],\n",
       "       [9.21054006e-01, 7.89460093e-02],\n",
       "       [7.01012760e-02, 9.29898739e-01],\n",
       "       [9.15169537e-01, 8.48304406e-02],\n",
       "       [8.78541529e-01, 1.21458426e-01],\n",
       "       [9.18399215e-01, 8.16007704e-02],\n",
       "       [9.21054006e-01, 7.89460093e-02],\n",
       "       [9.21054006e-01, 7.89460093e-02],\n",
       "       [8.91757905e-01, 1.08242132e-01],\n",
       "       [9.63298082e-01, 3.67019400e-02],\n",
       "       [5.93791083e-02, 9.40620959e-01],\n",
       "       [9.21054006e-01, 7.89460093e-02],\n",
       "       [8.78541529e-01, 1.21458426e-01],\n",
       "       [9.63298082e-01, 3.67019400e-02],\n",
       "       [2.53442297e-04, 9.99746501e-01],\n",
       "       [9.63298082e-01, 3.67019400e-02],\n",
       "       [9.21054006e-01, 7.89460093e-02],\n",
       "       [9.19791937e-01, 8.02081227e-02],\n",
       "       [1.59475043e-01, 8.40524971e-01],\n",
       "       [9.20912445e-01, 7.90875703e-02],\n",
       "       [9.21054006e-01, 7.89460093e-02],\n",
       "       [9.16474283e-01, 8.35257098e-02],\n",
       "       [6.79162657e-03, 9.93208349e-01],\n",
       "       [9.21054006e-01, 7.89460093e-02],\n",
       "       [7.24664191e-04, 9.99275386e-01],\n",
       "       [9.20912445e-01, 7.90875703e-02],\n",
       "       [9.80614305e-01, 1.93857364e-02],\n",
       "       [9.21054006e-01, 7.89460093e-02],\n",
       "       [9.83972192e-01, 1.60278548e-02],\n",
       "       [9.61355686e-01, 3.86442915e-02],\n",
       "       [1.44150779e-01, 8.55849206e-01],\n",
       "       [8.75190675e-01, 1.24809392e-01],\n",
       "       [9.46178734e-01, 5.38212508e-02],\n",
       "       [2.22726003e-03, 9.97772753e-01],\n",
       "       [2.03563832e-03, 9.97964382e-01],\n",
       "       [6.22255914e-02, 9.37774420e-01],\n",
       "       [9.21054006e-01, 7.89460093e-02],\n",
       "       [9.16474283e-01, 8.35257098e-02],\n",
       "       [2.24724561e-02, 9.77527559e-01],\n",
       "       [6.58372879e-01, 3.41627151e-01],\n",
       "       [3.16040426e-01, 6.83959544e-01],\n",
       "       [9.21054006e-01, 7.89460093e-02],\n",
       "       [3.58440191e-01, 6.41559780e-01],\n",
       "       [7.88420066e-02, 9.21157956e-01],\n",
       "       [9.28635120e-01, 7.13649094e-02],\n",
       "       [1.80981696e-01, 8.19018304e-01],\n",
       "       [7.58537292e-01, 2.41462722e-01],\n",
       "       [9.63853970e-02, 9.03614640e-01],\n",
       "       [1.13674207e-02, 9.88632619e-01],\n",
       "       [9.21054006e-01, 7.89460093e-02],\n",
       "       [9.63298082e-01, 3.67019400e-02],\n",
       "       [5.39562523e-01, 4.60437506e-01],\n",
       "       [9.21054006e-01, 7.89460093e-02],\n",
       "       [1.05579264e-01, 8.94420683e-01],\n",
       "       [9.28635120e-01, 7.13649094e-02],\n",
       "       [9.44888532e-01, 5.51114455e-02],\n",
       "       [8.41820955e-01, 1.58179030e-01],\n",
       "       [1.59475043e-01, 8.40524971e-01],\n",
       "       [9.28635120e-01, 7.13649094e-02],\n",
       "       [9.40485418e-01, 5.95145859e-02],\n",
       "       [4.23565228e-03, 9.95764375e-01],\n",
       "       [9.63298082e-01, 3.67019400e-02],\n",
       "       [9.02608216e-01, 9.73917842e-02],\n",
       "       [9.21054006e-01, 7.89460093e-02],\n",
       "       [9.21054006e-01, 7.89460093e-02],\n",
       "       [4.30310190e-01, 5.69689810e-01],\n",
       "       [9.21054006e-01, 7.89460093e-02],\n",
       "       [9.21054006e-01, 7.89460093e-02],\n",
       "       [9.21054006e-01, 7.89460093e-02],\n",
       "       [3.58440191e-01, 6.41559780e-01],\n",
       "       [1.05579264e-01, 8.94420683e-01],\n",
       "       [4.71943200e-01, 5.28056800e-01],\n",
       "       [9.02608216e-01, 9.73917842e-02],\n",
       "       [9.13386285e-01, 8.66137147e-02],\n",
       "       [9.52375054e-01, 4.76249717e-02],\n",
       "       [7.24664191e-04, 9.99275386e-01],\n",
       "       [9.18399215e-01, 8.16007704e-02],\n",
       "       [6.38305485e-01, 3.61694574e-01],\n",
       "       [9.85505283e-01, 1.44947218e-02],\n",
       "       [6.79162657e-03, 9.93208349e-01],\n",
       "       [9.21054006e-01, 7.89460093e-02],\n",
       "       [9.63298082e-01, 3.67019400e-02],\n",
       "       [1.11344680e-01, 8.88655365e-01],\n",
       "       [1.27987921e-01, 8.72012079e-01],\n",
       "       [9.20912445e-01, 7.90875703e-02],\n",
       "       [7.66833872e-02, 9.23316538e-01],\n",
       "       [9.21054006e-01, 7.89460093e-02],\n",
       "       [9.02608216e-01, 9.73917842e-02],\n",
       "       [9.59573388e-01, 4.04266194e-02],\n",
       "       [3.83513682e-02, 9.61648643e-01],\n",
       "       [3.47058982e-01, 6.52940989e-01],\n",
       "       [9.20912445e-01, 7.90875703e-02],\n",
       "       [9.28635120e-01, 7.13649094e-02],\n",
       "       [9.21054006e-01, 7.89460093e-02],\n",
       "       [9.19791937e-01, 8.02081227e-02],\n",
       "       [9.15169537e-01, 8.48304406e-02],\n",
       "       [5.16103387e-01, 4.83896673e-01],\n",
       "       [9.79814708e-01, 2.01852564e-02],\n",
       "       [5.97407818e-01, 4.02592212e-01],\n",
       "       [9.21054006e-01, 7.89460093e-02],\n",
       "       [9.13386285e-01, 8.66137147e-02],\n",
       "       [5.93791083e-02, 9.40620959e-01],\n",
       "       [9.73010898e-01, 2.69890632e-02],\n",
       "       [9.52375054e-01, 4.76249717e-02],\n",
       "       [9.19791937e-01, 8.02081227e-02],\n",
       "       [9.21054006e-01, 7.89460093e-02],\n",
       "       [1.15877122e-01, 8.84122849e-01],\n",
       "       [6.79162657e-03, 9.93208349e-01],\n",
       "       [1.82705279e-02, 9.81729448e-01],\n",
       "       [9.52375054e-01, 4.76249717e-02],\n",
       "       [5.93063049e-03, 9.94069338e-01],\n",
       "       [9.15169537e-01, 8.48304406e-02],\n",
       "       [9.80555236e-01, 1.94447506e-02],\n",
       "       [5.30860066e-01, 4.69139963e-01],\n",
       "       [6.79615811e-02, 9.32038426e-01],\n",
       "       [5.25258780e-01, 4.74741220e-01],\n",
       "       [9.02608216e-01, 9.73917842e-02],\n",
       "       [3.64363551e-01, 6.35636449e-01],\n",
       "       [9.21054006e-01, 7.89460093e-02],\n",
       "       [9.72029746e-01, 2.79702842e-02],\n",
       "       [9.02608216e-01, 9.73917842e-02],\n",
       "       [9.80555236e-01, 1.94447506e-02],\n",
       "       [4.58575338e-01, 5.41424692e-01],\n",
       "       [9.21054006e-01, 7.89460093e-02],\n",
       "       [1.53360830e-03, 9.98466372e-01],\n",
       "       [9.18399215e-01, 8.16007704e-02],\n",
       "       [8.93698096e-01, 1.06301829e-01],\n",
       "       [6.48169935e-01, 3.51830095e-01],\n",
       "       [1.27987921e-01, 8.72012079e-01],\n",
       "       [4.57676530e-01, 5.42323530e-01],\n",
       "       [9.76257846e-02, 9.02374208e-01],\n",
       "       [9.21054006e-01, 7.89460093e-02],\n",
       "       [9.21054006e-01, 7.89460093e-02],\n",
       "       [3.83513682e-02, 9.61648643e-01],\n",
       "       [9.39131200e-01, 6.08687885e-02],\n",
       "       [9.13386285e-01, 8.66137147e-02],\n",
       "       [9.21054006e-01, 7.89460093e-02],\n",
       "       [1.44150779e-01, 8.55849206e-01],\n",
       "       [9.21054006e-01, 7.89460093e-02],\n",
       "       [5.59825301e-01, 4.40174699e-01],\n",
       "       [9.76257846e-02, 9.02374208e-01],\n",
       "       [5.30860066e-01, 4.69139963e-01],\n",
       "       [9.44888532e-01, 5.51114455e-02],\n",
       "       [2.22822651e-03, 9.97771800e-01],\n",
       "       [9.18399215e-01, 8.16007704e-02],\n",
       "       [3.43770534e-01, 6.56229377e-01],\n",
       "       [9.21054006e-01, 7.89460093e-02],\n",
       "       [5.30860066e-01, 4.69139963e-01],\n",
       "       [7.03068497e-03, 9.92969334e-01],\n",
       "       [5.30860066e-01, 4.69139963e-01],\n",
       "       [1.82705279e-02, 9.81729448e-01],\n",
       "       [9.86514032e-01, 1.34859318e-02],\n",
       "       [9.21054006e-01, 7.89460093e-02],\n",
       "       [1.05579264e-01, 8.94420683e-01],\n",
       "       [9.02608216e-01, 9.73917842e-02],\n",
       "       [5.30860066e-01, 4.69139963e-01],\n",
       "       [9.72392559e-01, 2.76074130e-02],\n",
       "       [9.21054006e-01, 7.89460093e-02],\n",
       "       [9.21054006e-01, 7.89460093e-02],\n",
       "       [9.21054006e-01, 7.89460093e-02],\n",
       "       [9.21054006e-01, 7.89460093e-02],\n",
       "       [9.79206204e-01, 2.07937583e-02],\n",
       "       [5.30860066e-01, 4.69139963e-01],\n",
       "       [9.55555081e-01, 4.44448851e-02],\n",
       "       [9.18399215e-01, 8.16007704e-02],\n",
       "       [9.02608216e-01, 9.73917842e-02],\n",
       "       [9.91256356e-01, 8.74370243e-03],\n",
       "       [9.21054006e-01, 7.89460093e-02],\n",
       "       [9.21054006e-01, 7.89460316e-02],\n",
       "       [8.62663705e-03, 9.91373360e-01],\n",
       "       [9.52375054e-01, 4.76249717e-02],\n",
       "       [9.76258516e-02, 9.02374148e-01],\n",
       "       [1.83477858e-03, 9.98165190e-01],\n",
       "       [5.13551474e-01, 4.86448526e-01],\n",
       "       [6.55027777e-02, 9.34497237e-01],\n",
       "       [9.21054006e-01, 7.89460316e-02],\n",
       "       [9.13386285e-01, 8.66137147e-02],\n",
       "       [8.26287687e-01, 1.73712283e-01],\n",
       "       [9.21054006e-01, 7.89460316e-02],\n",
       "       [9.13386285e-01, 8.66137147e-02]], dtype=float32)"
      ]
     },
     "execution_count": 47,
     "metadata": {},
     "output_type": "execute_result"
    }
   ],
   "source": [
    "model.predict(test_data)"
   ]
  },
  {
   "cell_type": "code",
   "execution_count": 49,
   "id": "00fa6651",
   "metadata": {
    "ExecuteTime": {
     "end_time": "2022-07-06T12:22:08.649799Z",
     "start_time": "2022-07-06T12:22:08.583343Z"
    }
   },
   "outputs": [
    {
     "data": {
      "text/plain": [
       "array([1, 0, 0, 1, 1, 1, 1, 0, 1, 1, 0, 0, 0, 0, 0, 1, 0, 1, 0, 0, 0, 0,\n",
       "       0, 0, 0, 0, 0, 0, 0, 0, 0, 0, 0, 0, 0, 0, 0, 1, 1, 0, 0, 0, 0, 0,\n",
       "       1, 0, 0, 0, 0, 1, 1, 1, 0, 0, 0, 1, 0, 1, 1, 1, 0, 1, 1, 0, 0, 1,\n",
       "       0, 0, 0, 1, 1, 1, 0, 1, 0, 0, 1, 1, 1, 0, 0, 1, 1, 0, 0, 0, 1, 1,\n",
       "       0, 0, 1, 0, 0, 0, 0, 0, 0, 0, 1, 0, 0, 0, 1, 0, 0, 0, 1, 0, 0, 0,\n",
       "       1, 0, 1, 0, 0, 0, 0, 0, 1, 0, 0, 1, 1, 1, 0, 0, 1, 0, 1, 0, 1, 1,\n",
       "       0, 1, 0, 1, 1, 0, 0, 0, 0, 1, 0, 0, 0, 1, 0, 0, 1, 0, 0, 0, 0, 1,\n",
       "       0, 0, 0, 1, 1, 1, 0, 0, 0, 1, 0, 0, 0, 1, 0, 0, 1, 1, 0, 1, 0, 0,\n",
       "       0, 1, 1, 0, 0, 0, 0, 0, 0, 0, 0, 0, 0, 1, 0, 0, 0, 0, 1, 1, 1, 0,\n",
       "       1, 0, 0, 0, 1, 0, 0, 1, 0, 0, 0, 0, 1, 0, 1, 0, 0, 0, 1, 1, 1, 0,\n",
       "       0, 1, 0, 0, 0, 1, 0, 0, 1, 0, 0, 1, 0, 1, 0, 0, 1, 0, 1, 0, 0, 1,\n",
       "       0, 0, 0, 0, 0, 0, 0, 0, 0, 0, 0, 0, 0, 0, 0, 1, 0, 1, 1, 0, 1, 0,\n",
       "       0, 0, 0, 0])"
      ]
     },
     "execution_count": 49,
     "metadata": {},
     "output_type": "execute_result"
    }
   ],
   "source": [
    "np.argmax(model.predict(test_data),axis = 1)"
   ]
  },
  {
   "cell_type": "code",
   "execution_count": 52,
   "id": "ae01b733",
   "metadata": {
    "ExecuteTime": {
     "end_time": "2022-07-06T12:23:19.531311Z",
     "start_time": "2022-07-06T12:23:19.467775Z"
    }
   },
   "outputs": [
    {
     "name": "stdout",
     "output_type": "stream",
     "text": [
      "(1, 8)\n",
      "[[0.9298308  0.07016917]]\n",
      "[0]\n"
     ]
    }
   ],
   "source": [
    "sample_data = np.array([[3, 0, 0.0, 0.0, 1, 1, 2.0, 0]]) \n",
    "\n",
    "print(sample_data.shape)\n",
    "print(model.predict(sample_data))\n",
    "print(np.argmax(model.predict(sample_data),axis = 1))"
   ]
  },
  {
   "cell_type": "code",
   "execution_count": 69,
   "id": "f4d1a36f",
   "metadata": {
    "ExecuteTime": {
     "end_time": "2022-07-06T12:34:26.323056Z",
     "start_time": "2022-07-06T12:34:26.316423Z"
    }
   },
   "outputs": [],
   "source": [
    "del train_data\n",
    "del train_label\n",
    "del test_data\n",
    "del test_label\n",
    "del model\n",
    "del history\n",
    "del result"
   ]
  },
  {
   "cell_type": "markdown",
   "id": "367a3e07",
   "metadata": {},
   "source": [
    "# Regression with Keras (Boston house price dataset)\n",
    "\n",
    "#### 참고 : tensorflow.keras 공식 문서 (Official API Docs) @ https://www.tensorflow.org/api_docs/python/tf/keras"
   ]
  },
  {
   "cell_type": "markdown",
   "id": "3a3bf1f1",
   "metadata": {},
   "source": [
    "## Data loading & preprocessing"
   ]
  },
  {
   "cell_type": "code",
   "execution_count": 54,
   "id": "6bb55096",
   "metadata": {
    "ExecuteTime": {
     "end_time": "2022-07-06T12:24:46.582977Z",
     "start_time": "2022-07-06T12:24:46.426569Z"
    }
   },
   "outputs": [],
   "source": [
    "from sklearn import datasets, preprocessing # Scikit-learn (sklearn)\n",
    "import warnings\n",
    "warnings.filterwarnings('ignore')"
   ]
  },
  {
   "cell_type": "code",
   "execution_count": 55,
   "id": "d4b99fa1",
   "metadata": {
    "ExecuteTime": {
     "end_time": "2022-07-06T12:25:04.980870Z",
     "start_time": "2022-07-06T12:25:04.962812Z"
    }
   },
   "outputs": [
    {
     "data": {
      "text/plain": [
       "dict_keys(['data', 'target', 'feature_names', 'DESCR', 'filename', 'data_module'])"
      ]
     },
     "execution_count": 55,
     "metadata": {},
     "output_type": "execute_result"
    }
   ],
   "source": [
    "datasets.load_boston().keys()"
   ]
  },
  {
   "cell_type": "code",
   "execution_count": 57,
   "id": "b77ebd2d",
   "metadata": {
    "ExecuteTime": {
     "end_time": "2022-07-06T12:25:36.007025Z",
     "start_time": "2022-07-06T12:25:36.001148Z"
    }
   },
   "outputs": [],
   "source": [
    "# print(datasets.load_boston()['DESCR'])"
   ]
  },
  {
   "cell_type": "code",
   "execution_count": 58,
   "id": "567f4117",
   "metadata": {
    "ExecuteTime": {
     "end_time": "2022-07-06T12:26:12.099378Z",
     "start_time": "2022-07-06T12:26:12.074968Z"
    }
   },
   "outputs": [
    {
     "data": {
      "text/html": [
       "<div>\n",
       "<style scoped>\n",
       "    .dataframe tbody tr th:only-of-type {\n",
       "        vertical-align: middle;\n",
       "    }\n",
       "\n",
       "    .dataframe tbody tr th {\n",
       "        vertical-align: top;\n",
       "    }\n",
       "\n",
       "    .dataframe thead th {\n",
       "        text-align: right;\n",
       "    }\n",
       "</style>\n",
       "<table border=\"1\" class=\"dataframe\">\n",
       "  <thead>\n",
       "    <tr style=\"text-align: right;\">\n",
       "      <th></th>\n",
       "      <th>0</th>\n",
       "      <th>1</th>\n",
       "      <th>2</th>\n",
       "      <th>3</th>\n",
       "      <th>4</th>\n",
       "      <th>5</th>\n",
       "      <th>6</th>\n",
       "      <th>7</th>\n",
       "      <th>8</th>\n",
       "      <th>9</th>\n",
       "      <th>10</th>\n",
       "      <th>11</th>\n",
       "      <th>12</th>\n",
       "    </tr>\n",
       "  </thead>\n",
       "  <tbody>\n",
       "    <tr>\n",
       "      <th>0</th>\n",
       "      <td>0.00632</td>\n",
       "      <td>18.0</td>\n",
       "      <td>2.31</td>\n",
       "      <td>0.0</td>\n",
       "      <td>0.538</td>\n",
       "      <td>6.575</td>\n",
       "      <td>65.2</td>\n",
       "      <td>4.0900</td>\n",
       "      <td>1.0</td>\n",
       "      <td>296.0</td>\n",
       "      <td>15.3</td>\n",
       "      <td>396.9</td>\n",
       "      <td>4.98</td>\n",
       "    </tr>\n",
       "    <tr>\n",
       "      <th>1</th>\n",
       "      <td>0.02731</td>\n",
       "      <td>0.0</td>\n",
       "      <td>7.07</td>\n",
       "      <td>0.0</td>\n",
       "      <td>0.469</td>\n",
       "      <td>6.421</td>\n",
       "      <td>78.9</td>\n",
       "      <td>4.9671</td>\n",
       "      <td>2.0</td>\n",
       "      <td>242.0</td>\n",
       "      <td>17.8</td>\n",
       "      <td>396.9</td>\n",
       "      <td>9.14</td>\n",
       "    </tr>\n",
       "  </tbody>\n",
       "</table>\n",
       "</div>"
      ],
      "text/plain": [
       "        0     1     2    3      4      5     6       7    8      9     10  \\\n",
       "0  0.00632  18.0  2.31  0.0  0.538  6.575  65.2  4.0900  1.0  296.0  15.3   \n",
       "1  0.02731   0.0  7.07  0.0  0.469  6.421  78.9  4.9671  2.0  242.0  17.8   \n",
       "\n",
       "      11    12  \n",
       "0  396.9  4.98  \n",
       "1  396.9  9.14  "
      ]
     },
     "execution_count": 58,
     "metadata": {},
     "output_type": "execute_result"
    }
   ],
   "source": [
    "boston_df = pd.DataFrame(datasets.load_boston().data)\n",
    "boston_df.head(2)"
   ]
  },
  {
   "cell_type": "code",
   "execution_count": 60,
   "id": "1fece057",
   "metadata": {
    "ExecuteTime": {
     "end_time": "2022-07-06T12:26:49.970762Z",
     "start_time": "2022-07-06T12:26:49.950356Z"
    }
   },
   "outputs": [
    {
     "data": {
      "text/plain": [
       "((506, 13), (506,))"
      ]
     },
     "execution_count": 60,
     "metadata": {},
     "output_type": "execute_result"
    }
   ],
   "source": [
    "X = datasets.load_boston().data\n",
    "y = datasets.load_boston().target\n",
    "\n",
    "X.shape, y.shape"
   ]
  },
  {
   "cell_type": "markdown",
   "id": "e8c4ad42",
   "metadata": {},
   "source": [
    "## Devide dataframe into X & Y -> Train X / Test X / Train Y / Test Y"
   ]
  },
  {
   "cell_type": "code",
   "execution_count": 64,
   "id": "4ef068f2",
   "metadata": {
    "ExecuteTime": {
     "end_time": "2022-07-06T12:29:58.664422Z",
     "start_time": "2022-07-06T12:29:58.650412Z"
    }
   },
   "outputs": [
    {
     "data": {
      "text/plain": [
       "((354, 13), (152, 13), (354,), (152,))"
      ]
     },
     "execution_count": 64,
     "metadata": {},
     "output_type": "execute_result"
    }
   ],
   "source": [
    "train_data, test_data, train_label, test_label = model_selection.train_test_split(X, y,\n",
    "                                                                                 test_size=0.3,\n",
    "                                                                                 random_state=42)\n",
    "train_data.shape, test_data.shape, train_label.shape, test_label.shape"
   ]
  },
  {
   "cell_type": "code",
   "execution_count": 66,
   "id": "c36f8e35",
   "metadata": {
    "ExecuteTime": {
     "end_time": "2022-07-06T12:30:44.307636Z",
     "start_time": "2022-07-06T12:30:44.293355Z"
    }
   },
   "outputs": [
    {
     "data": {
      "text/plain": [
       "((354, 13), (152, 13))"
      ]
     },
     "execution_count": 66,
     "metadata": {},
     "output_type": "execute_result"
    }
   ],
   "source": [
    "# Apply standard scaling on x_data (Standardization)\n",
    "sc = preprocessing.StandardScaler()\n",
    "\n",
    "sc.fit_transform(train_data)\n",
    "train_data = sc.transform(train_data)\n",
    "test_data = sc.transform(test_data)\n",
    "\n",
    "train_data.shape, test_data.shape"
   ]
  },
  {
   "cell_type": "markdown",
   "id": "e7b27ae0",
   "metadata": {},
   "source": [
    "## Bulid & Train the model"
   ]
  },
  {
   "cell_type": "code",
   "execution_count": 81,
   "id": "58ff72df",
   "metadata": {
    "ExecuteTime": {
     "end_time": "2022-07-06T12:40:49.820013Z",
     "start_time": "2022-07-06T12:40:49.784651Z"
    }
   },
   "outputs": [],
   "source": [
    "model = models.Sequential() # Build up the \"Sequence\" of layers (Linear stack of layers)\n",
    "\n",
    "# Dense-layer (with he-initialization)\n",
    "model.add(layers.Dense(input_dim=13, units=64, activation=None, kernel_initializer=initializers.he_uniform())) # he-uniform initialization\n",
    "# model.add(layers.BatchNormalization()) # Use this line as if needed\n",
    "model.add(layers.Activation('elu')) # elu or relu (or layers.ELU / layers.LeakyReLU)\n",
    "\n",
    "model.add(layers.Dense(units=64, activation=None, kernel_initializer=initializers.he_uniform())) \n",
    "model.add(layers.Activation('elu'))\n",
    "\n",
    "model.add(layers.Dense(units=32, activation=None, kernel_initializer=initializers.he_uniform())) \n",
    "model.add(layers.Activation('elu'))\n",
    "model.add(layers.Dropout(rate=0.4)) # Dropout-layer\n",
    "\n",
    "model.add(layers.Dense(units=1, activation=None)) "
   ]
  },
  {
   "cell_type": "code",
   "execution_count": 82,
   "id": "a1e810f0",
   "metadata": {
    "ExecuteTime": {
     "end_time": "2022-07-06T12:40:50.915032Z",
     "start_time": "2022-07-06T12:40:50.900094Z"
    }
   },
   "outputs": [],
   "source": [
    "model.compile(optimizer=optimizers.Adam(),\n",
    "             loss = losses.mean_squared_error, # MSE\n",
    "             metrics=[metrics.mean_squared_error])"
   ]
  },
  {
   "cell_type": "code",
   "execution_count": 83,
   "id": "51c1895a",
   "metadata": {
    "ExecuteTime": {
     "end_time": "2022-07-06T12:41:01.226351Z",
     "start_time": "2022-07-06T12:40:51.165422Z"
    }
   },
   "outputs": [],
   "source": [
    "# verbose = 0 : 실행단계를 보여주지 않음\n",
    "history = model.fit(train_data, train_label,\n",
    "                   batch_size=100, epochs=1000,\n",
    "                   validation_split=0.3, verbose = 0)"
   ]
  },
  {
   "cell_type": "code",
   "execution_count": 84,
   "id": "8ee5a8c9",
   "metadata": {
    "ExecuteTime": {
     "end_time": "2022-07-06T12:41:01.229452Z",
     "start_time": "2022-07-06T12:41:01.227388Z"
    }
   },
   "outputs": [
    {
     "data": {
      "text/plain": [
       "dict_keys(['loss', 'mean_squared_error', 'val_loss', 'val_mean_squared_error'])"
      ]
     },
     "execution_count": 84,
     "metadata": {},
     "output_type": "execute_result"
    }
   ],
   "source": [
    "history.history.keys()"
   ]
  },
  {
   "cell_type": "markdown",
   "id": "b4804e92",
   "metadata": {},
   "source": [
    "## Evaluate"
   ]
  },
  {
   "cell_type": "code",
   "execution_count": 85,
   "id": "638ac19c",
   "metadata": {
    "ExecuteTime": {
     "end_time": "2022-07-06T12:41:01.253139Z",
     "start_time": "2022-07-06T12:41:01.230221Z"
    }
   },
   "outputs": [
    {
     "name": "stdout",
     "output_type": "stream",
     "text": [
      "5/5 [==============================] - 0s 636us/step - loss: 10.7764 - mean_squared_error: 10.7764\n",
      "loss (mean_squared_error): 10.776436805725098\n"
     ]
    }
   ],
   "source": [
    "result = model.evaluate(test_data, test_label)\n",
    "\n",
    "print('loss (mean_squared_error):', result[0])"
   ]
  },
  {
   "cell_type": "code",
   "execution_count": 86,
   "id": "e4151daa",
   "metadata": {
    "ExecuteTime": {
     "end_time": "2022-07-06T12:41:01.308871Z",
     "start_time": "2022-07-06T12:41:01.255083Z"
    }
   },
   "outputs": [
    {
     "data": {
      "image/png": "[encoded data removed]",
      "text/plain": [
       "<Figure size 432x288 with 1 Axes>"
      ]
     },
     "metadata": {
      "needs_background": "light"
     },
     "output_type": "display_data"
    }
   ],
   "source": [
    "loss = history.history['mean_squared_error']\n",
    "val_loss = history.history['val_mean_squared_error']\n",
    "\n",
    "x_len = np.arange(len(loss))\n",
    "\n",
    "plt.plot(x_len, loss, marker = '.', c='black', label='Train-set loss.')\n",
    "plt.plot(x_len, val_loss, marker ='.', c='pink', label = 'Validation-set loss.')\n",
    "\n",
    "plt.legend(loc = 'upper right')\n",
    "plt.grid()\n",
    "plt.xlabel('epoch')\n",
    "plt.ylabel('Loss(MSE)')\n",
    "plt.show()"
   ]
  },
  {
   "cell_type": "code",
   "execution_count": 90,
   "id": "5dfd91bf",
   "metadata": {
    "ExecuteTime": {
     "end_time": "2022-07-06T12:42:19.254656Z",
     "start_time": "2022-07-06T12:42:19.163503Z"
    }
   },
   "outputs": [
    {
     "data": {
      "image/png": "[encoded data removed]",
      "text/plain": [
       "<Figure size 432x288 with 1 Axes>"
      ]
     },
     "metadata": {
      "needs_background": "light"
     },
     "output_type": "display_data"
    }
   ],
   "source": [
    "loss = history.history['mean_squared_error']\n",
    "val_loss = history.history['val_mean_squared_error']\n",
    "\n",
    "x_len = np.arange(len(loss))\n",
    "\n",
    "# epoch 200 ~ epoch 1000\n",
    "plt.plot(x_len[600:], loss[600:], marker='.', c='black', label=\"Train-set loss.\")\n",
    "plt.plot(x_len[600:], val_loss[600:], marker='.', c='pink', label=\"Validation-set loss.\")\n",
    "\n",
    "plt.legend(loc = 'upper right')\n",
    "plt.grid()\n",
    "plt.xlabel('epoch')\n",
    "plt.ylabel('Loss(MSE)')\n",
    "plt.show()"
   ]
  },
  {
   "cell_type": "code",
   "execution_count": 92,
   "id": "bfd24013",
   "metadata": {
    "ExecuteTime": {
     "end_time": "2022-07-06T12:42:35.978254Z",
     "start_time": "2022-07-06T12:42:35.968182Z"
    }
   },
   "outputs": [
    {
     "data": {
      "text/plain": [
       "(152, 13)"
      ]
     },
     "execution_count": 92,
     "metadata": {},
     "output_type": "execute_result"
    }
   ],
   "source": [
    "test_data.shape"
   ]
  },
  {
   "cell_type": "markdown",
   "id": "48a63a55",
   "metadata": {},
   "source": [
    "## Predict"
   ]
  },
  {
   "cell_type": "code",
   "execution_count": 93,
   "id": "a20f207a",
   "metadata": {
    "ExecuteTime": {
     "end_time": "2022-07-06T12:42:54.980514Z",
     "start_time": "2022-07-06T12:42:54.919658Z"
    },
    "collapsed": true
   },
   "outputs": [
    {
     "data": {
      "text/plain": [
       "array([[26.21493  ],\n",
       "       [32.762695 ],\n",
       "       [14.874659 ],\n",
       "       [22.618387 ],\n",
       "       [15.721954 ],\n",
       "       [20.008669 ],\n",
       "       [19.442842 ],\n",
       "       [13.939386 ],\n",
       "       [22.293558 ],\n",
       "       [19.54935  ],\n",
       "       [20.434725 ],\n",
       "       [20.462593 ],\n",
       "       [ 5.812163 ],\n",
       "       [19.89794  ],\n",
       "       [17.90909  ],\n",
       "       [21.534395 ],\n",
       "       [19.575617 ],\n",
       "       [11.019358 ],\n",
       "       [47.227924 ],\n",
       "       [12.022556 ],\n",
       "       [22.653193 ],\n",
       "       [24.94913  ],\n",
       "       [15.356491 ],\n",
       "       [23.125387 ],\n",
       "       [18.124166 ],\n",
       "       [15.646181 ],\n",
       "       [19.906721 ],\n",
       "       [11.88488  ],\n",
       "       [17.924265 ],\n",
       "       [18.619139 ],\n",
       "       [23.563322 ],\n",
       "       [23.23477  ],\n",
       "       [17.827944 ],\n",
       "       [26.857868 ],\n",
       "       [14.309525 ],\n",
       "       [15.954964 ],\n",
       "       [32.198067 ],\n",
       "       [19.894762 ],\n",
       "       [19.909666 ],\n",
       "       [23.534803 ],\n",
       "       [19.593697 ],\n",
       "       [30.197622 ],\n",
       "       [51.94737  ],\n",
       "       [18.453188 ],\n",
       "       [24.672253 ],\n",
       "       [13.838093 ],\n",
       "       [15.524668 ],\n",
       "       [24.913555 ],\n",
       "       [18.23588  ],\n",
       "       [24.286562 ],\n",
       "       [22.01055  ],\n",
       "       [33.75349  ],\n",
       "       [16.575203 ],\n",
       "       [25.067728 ],\n",
       "       [43.22328  ],\n",
       "       [20.883213 ],\n",
       "       [14.3160515],\n",
       "       [31.35389  ],\n",
       "       [24.115408 ],\n",
       "       [15.735903 ],\n",
       "       [25.291046 ],\n",
       "       [35.447235 ],\n",
       "       [30.174559 ],\n",
       "       [15.3057575],\n",
       "       [22.911787 ],\n",
       "       [15.975588 ],\n",
       "       [15.368574 ],\n",
       "       [21.69178  ],\n",
       "       [27.569695 ],\n",
       "       [12.585756 ],\n",
       "       [22.281612 ],\n",
       "       [25.111864 ],\n",
       "       [ 9.816336 ],\n",
       "       [19.41058  ],\n",
       "       [21.418707 ],\n",
       "       [ 6.2647233],\n",
       "       [20.082796 ],\n",
       "       [48.99419  ],\n",
       "       [13.017263 ],\n",
       "       [ 9.062796 ],\n",
       "       [19.01306  ],\n",
       "       [11.6522255],\n",
       "       [18.404608 ],\n",
       "       [12.105846 ],\n",
       "       [20.454548 ],\n",
       "       [24.953281 ],\n",
       "       [17.398268 ],\n",
       "       [23.542238 ],\n",
       "       [22.905733 ],\n",
       "       [19.143589 ],\n",
       "       [23.066347 ],\n",
       "       [ 8.06831  ],\n",
       "       [19.216398 ],\n",
       "       [19.100786 ],\n",
       "       [37.8334   ],\n",
       "       [20.233961 ],\n",
       "       [30.872852 ],\n",
       "       [ 7.7613716],\n",
       "       [11.104143 ],\n",
       "       [11.199059 ],\n",
       "       [22.70491  ],\n",
       "       [22.17758  ],\n",
       "       [10.477383 ],\n",
       "       [18.14704  ],\n",
       "       [16.621464 ],\n",
       "       [ 9.900961 ],\n",
       "       [16.988777 ],\n",
       "       [24.496206 ],\n",
       "       [20.76953  ],\n",
       "       [23.001272 ],\n",
       "       [ 7.811539 ],\n",
       "       [14.558159 ],\n",
       "       [21.934252 ],\n",
       "       [26.453638 ],\n",
       "       [31.042292 ],\n",
       "       [14.718679 ],\n",
       "       [38.256737 ],\n",
       "       [14.036106 ],\n",
       "       [19.891388 ],\n",
       "       [23.693874 ],\n",
       "       [16.17327  ],\n",
       "       [23.879385 ],\n",
       "       [ 7.7217207],\n",
       "       [18.906887 ],\n",
       "       [22.125498 ],\n",
       "       [20.368616 ],\n",
       "       [24.11672  ],\n",
       "       [33.920338 ],\n",
       "       [15.223244 ],\n",
       "       [41.904144 ],\n",
       "       [15.857359 ],\n",
       "       [20.419146 ],\n",
       "       [16.642944 ],\n",
       "       [17.79356  ],\n",
       "       [13.178274 ],\n",
       "       [19.199291 ],\n",
       "       [21.174028 ],\n",
       "       [30.706278 ],\n",
       "       [26.517576 ],\n",
       "       [15.89469  ],\n",
       "       [16.775099 ],\n",
       "       [22.176035 ],\n",
       "       [16.668074 ],\n",
       "       [15.975607 ],\n",
       "       [ 7.764619 ],\n",
       "       [19.850462 ],\n",
       "       [16.268503 ],\n",
       "       [12.398394 ],\n",
       "       [15.748056 ],\n",
       "       [45.092514 ],\n",
       "       [15.975218 ],\n",
       "       [13.257902 ]], dtype=float32)"
      ]
     },
     "execution_count": 93,
     "metadata": {},
     "output_type": "execute_result"
    }
   ],
   "source": [
    "model.predict(test_data)"
   ]
  },
  {
   "cell_type": "code",
   "execution_count": 94,
   "id": "72c69ce7",
   "metadata": {
    "ExecuteTime": {
     "end_time": "2022-07-06T12:43:10.961359Z",
     "start_time": "2022-07-06T12:43:10.918532Z"
    }
   },
   "outputs": [
    {
     "data": {
      "text/plain": [
       "array([0, 0, 0, 0, 0, 0, 0, 0, 0, 0, 0, 0, 0, 0, 0, 0, 0, 0, 0, 0, 0, 0,\n",
       "       0, 0, 0, 0, 0, 0, 0, 0, 0, 0, 0, 0, 0, 0, 0, 0, 0, 0, 0, 0, 0, 0,\n",
       "       0, 0, 0, 0, 0, 0, 0, 0, 0, 0, 0, 0, 0, 0, 0, 0, 0, 0, 0, 0, 0, 0,\n",
       "       0, 0, 0, 0, 0, 0, 0, 0, 0, 0, 0, 0, 0, 0, 0, 0, 0, 0, 0, 0, 0, 0,\n",
       "       0, 0, 0, 0, 0, 0, 0, 0, 0, 0, 0, 0, 0, 0, 0, 0, 0, 0, 0, 0, 0, 0,\n",
       "       0, 0, 0, 0, 0, 0, 0, 0, 0, 0, 0, 0, 0, 0, 0, 0, 0, 0, 0, 0, 0, 0,\n",
       "       0, 0, 0, 0, 0, 0, 0, 0, 0, 0, 0, 0, 0, 0, 0, 0, 0, 0, 0, 0])"
      ]
     },
     "execution_count": 94,
     "metadata": {},
     "output_type": "execute_result"
    }
   ],
   "source": [
    "np.argmax(model.predict(test_data), axis = 1)"
   ]
  },
  {
   "cell_type": "code",
   "execution_count": 95,
   "id": "6e89f224",
   "metadata": {
    "ExecuteTime": {
     "end_time": "2022-07-06T12:43:40.543435Z",
     "start_time": "2022-07-06T12:43:40.535116Z"
    }
   },
   "outputs": [],
   "source": [
    "# new user data update sample\n",
    "sample_data = np.array([[0.02731, 0.0, 7.07, 0.0, 0.469, 6.421, 78.9, 4.9671, 2.0, 242.0, 17.8, 396.90, 9.14]])"
   ]
  },
  {
   "cell_type": "code",
   "execution_count": 97,
   "id": "d144708a",
   "metadata": {
    "ExecuteTime": {
     "end_time": "2022-07-06T12:45:07.806120Z",
     "start_time": "2022-07-06T12:45:07.752642Z"
    }
   },
   "outputs": [
    {
     "name": "stdout",
     "output_type": "stream",
     "text": [
      "(1, 13)\n",
      "[[559.08093]]\n",
      "[0]\n"
     ]
    }
   ],
   "source": [
    "sample_data = sc.transform(sample_data)\n",
    "\n",
    "print(sample_data.shape)\n",
    "print(model.predict(sample_data))\n",
    "print(np.argmax(model.predict(sample_data),axis = 1))"
   ]
  },
  {
   "cell_type": "code",
   "execution_count": null,
   "id": "c0cc7d50",
   "metadata": {},
   "outputs": [],
   "source": []
  }
 ],
 "metadata": {
  "kernelspec": {
   "display_name": "Python 3.8.13 ('tf')",
   "language": "python",
   "name": "python3813jvsc74a57bd052ee2977380704a66854748a73250e0671a9318bd5b3fd45a3df9f851ae61629"
  },
  "language_info": {
   "codemirror_mode": {
    "name": "ipython",
    "version": 3
   },
   "file_extension": ".py",
   "mimetype": "text/x-python",
   "name": "python",
   "nbconvert_exporter": "python",
   "pygments_lexer": "ipython3",
   "version": "3.8.13"
  },
  "toc": {
   "base_numbering": 1,
   "nav_menu": {},
   "number_sections": true,
   "sideBar": true,
   "skip_h1_title": false,
   "title_cell": "Table of Contents",
   "title_sidebar": "Contents",
   "toc_cell": false,
   "toc_position": {},
   "toc_section_display": true,
   "toc_window_display": false
  }
 },
 "nbformat": 4,
 "nbformat_minor": 5
}
