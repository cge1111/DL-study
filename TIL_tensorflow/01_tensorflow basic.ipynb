{
 "cells": [
  {
   "cell_type": "markdown",
   "id": "c53ae62c",
   "metadata": {},
   "source": [
    "## ver1으로 사용해보기!"
   ]
  },
  {
   "cell_type": "code",
   "execution_count": 1,
   "id": "44c7d4cf",
   "metadata": {
    "ExecuteTime": {
     "end_time": "2022-06-28T06:35:05.118263Z",
     "start_time": "2022-06-28T06:35:03.745315Z"
    }
   },
   "outputs": [
    {
     "name": "stdout",
     "output_type": "stream",
     "text": [
      "WARNING:tensorflow:From /opt/homebrew/Caskroom/miniforge/base/envs/tf/lib/python3.8/site-packages/tensorflow/python/compat/v2_compat.py:107: disable_resource_variables (from tensorflow.python.ops.variable_scope) is deprecated and will be removed in a future version.\n",
      "Instructions for updating:\n",
      "non-resource variables are not supported in the long term\n"
     ]
    }
   ],
   "source": [
    "import tensorflow.compat.v1 as tf\n",
    "tf.disable_v2_behavior()"
   ]
  },
  {
   "cell_type": "code",
   "execution_count": 2,
   "id": "0a912894",
   "metadata": {
    "ExecuteTime": {
     "end_time": "2022-06-28T06:35:07.458812Z",
     "start_time": "2022-06-28T06:35:07.451039Z"
    }
   },
   "outputs": [],
   "source": [
    "import numpy as np\n",
    "import pandas as pd\n",
    "import warnings\n",
    "warnings.filterwarnings('ignore')"
   ]
  },
  {
   "cell_type": "code",
   "execution_count": 4,
   "id": "091d878d",
   "metadata": {
    "ExecuteTime": {
     "end_time": "2022-06-28T00:22:30.841338Z",
     "start_time": "2022-06-28T00:22:30.838557Z"
    }
   },
   "outputs": [
    {
     "name": "stdout",
     "output_type": "stream",
     "text": [
      "Tensor(\"Add:0\", shape=(), dtype=int32)\n"
     ]
    }
   ],
   "source": [
    "a1 = tf.add(3, 5, name = 'a')\n",
    "print(a)"
   ]
  },
  {
   "cell_type": "markdown",
   "id": "ab18b2da",
   "metadata": {},
   "source": [
    "ver1 -> 0 실행되지 않고 저장만한 상태!(대기, fit) <br>\n",
    "ver2 -> 8"
   ]
  },
  {
   "cell_type": "code",
   "execution_count": 7,
   "id": "09e3e250",
   "metadata": {
    "ExecuteTime": {
     "end_time": "2022-06-28T00:24:21.557722Z",
     "start_time": "2022-06-28T00:24:21.540822Z"
    }
   },
   "outputs": [
    {
     "name": "stdout",
     "output_type": "stream",
     "text": [
      "8\n"
     ]
    }
   ],
   "source": [
    "a = tf.add(3, 5)\n",
    "sess = tf.Session() # 세션에 저장(열어두면 영향을 받을 수 있으니 사용하고 close)\n",
    "print(sess.run(a)) "
   ]
  },
  {
   "cell_type": "code",
   "execution_count": 4,
   "id": "93cae568",
   "metadata": {
    "ExecuteTime": {
     "end_time": "2022-06-28T06:35:25.276436Z",
     "start_time": "2022-06-28T06:35:25.271133Z"
    }
   },
   "outputs": [],
   "source": [
    "sess.close() "
   ]
  },
  {
   "cell_type": "code",
   "execution_count": 11,
   "id": "7f191e7e",
   "metadata": {
    "ExecuteTime": {
     "end_time": "2022-06-28T00:27:28.165498Z",
     "start_time": "2022-06-28T00:27:28.147078Z"
    }
   },
   "outputs": [
    {
     "name": "stdout",
     "output_type": "stream",
     "text": [
      "8\n"
     ]
    }
   ],
   "source": [
    "a = tf.add(3, 5)\n",
    "with tf.Session() as sess:\n",
    "    print(sess.run(a))"
   ]
  },
  {
   "cell_type": "code",
   "execution_count": 11,
   "id": "1ad8a14b",
   "metadata": {
    "ExecuteTime": {
     "end_time": "2022-06-28T06:38:07.852604Z",
     "start_time": "2022-06-28T06:38:07.829671Z"
    }
   },
   "outputs": [
    {
     "name": "stdout",
     "output_type": "stream",
     "text": [
      "7776\n"
     ]
    }
   ],
   "source": [
    "x = 2\n",
    "y = 3\n",
    "op1 = tf.add(x, y)\n",
    "op2 = tf.multiply(x, y)\n",
    "op3 = tf.pow(op2, op1) # 제곱\n",
    "\n",
    "with tf.Session() as sess:\n",
    "    op3 = sess.run(op3)\n",
    "    print(op3)"
   ]
  },
  {
   "cell_type": "code",
   "execution_count": 10,
   "id": "4dcc0032",
   "metadata": {
    "ExecuteTime": {
     "end_time": "2022-06-28T06:37:39.708090Z",
     "start_time": "2022-06-28T06:37:39.682505Z"
    }
   },
   "outputs": [
    {
     "name": "stdout",
     "output_type": "stream",
     "text": [
      "10000000\n"
     ]
    }
   ],
   "source": [
    "x = 2\n",
    "y = 5\n",
    "op1 = tf.add(x,y)\n",
    "op2 = tf.multiply(x,y)\n",
    "op3 = tf.pow(op2, op1)\n",
    "with tf.Session() as sess:\n",
    "    op3 = sess.run(op3)\n",
    "    print(op3)"
   ]
  },
  {
   "cell_type": "code",
   "execution_count": null,
   "id": "5ef40b34",
   "metadata": {},
   "outputs": [],
   "source": []
  }
 ],
 "metadata": {
  "kernelspec": {
   "display_name": "Python 3.8.13 ('tf')",
   "language": "python",
   "name": "python3813jvsc74a57bd052ee2977380704a66854748a73250e0671a9318bd5b3fd45a3df9f851ae61629"
  },
  "language_info": {
   "codemirror_mode": {
    "name": "ipython",
    "version": 3
   },
   "file_extension": ".py",
   "mimetype": "text/x-python",
   "name": "python",
   "nbconvert_exporter": "python",
   "pygments_lexer": "ipython3",
   "version": "3.8.13"
  },
  "toc": {
   "base_numbering": 1,
   "nav_menu": {},
   "number_sections": true,
   "sideBar": true,
   "skip_h1_title": false,
   "title_cell": "Table of Contents",
   "title_sidebar": "Contents",
   "toc_cell": false,
   "toc_position": {},
   "toc_section_display": true,
   "toc_window_display": false
  }
 },
 "nbformat": 4,
 "nbformat_minor": 5
}
