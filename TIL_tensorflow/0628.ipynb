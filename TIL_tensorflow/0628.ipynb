{
 "cells": [
  {
   "cell_type": "markdown",
   "id": "acc5a039",
   "metadata": {},
   "source": [
    "# Regression (in lecture slides, Linear) - boston"
   ]
  },
  {
   "cell_type": "code",
   "execution_count": 1,
   "id": "727314e1",
   "metadata": {
    "ExecuteTime": {
     "end_time": "2022-06-28T01:10:12.043533Z",
     "start_time": "2022-06-28T01:10:10.554411Z"
    }
   },
   "outputs": [
    {
     "name": "stdout",
     "output_type": "stream",
     "text": [
      "WARNING:tensorflow:From /opt/homebrew/Caskroom/miniforge/base/envs/tf/lib/python3.8/site-packages/tensorflow/python/compat/v2_compat.py:107: disable_resource_variables (from tensorflow.python.ops.variable_scope) is deprecated and will be removed in a future version.\n",
      "Instructions for updating:\n",
      "non-resource variables are not supported in the long term\n"
     ]
    }
   ],
   "source": [
    "import tensorflow.compat.v1 as tf\n",
    "tf.disable_v2_behavior()\n",
    "\n",
    "import pandas as pd\n",
    "import numpy as np\n",
    "import matplotlib.pyplot as plt\n",
    "from sklearn import datasets\n",
    "import warnings\n",
    "warnings.filterwarnings('ignore')"
   ]
  },
  {
   "cell_type": "code",
   "execution_count": 2,
   "id": "91920ccb",
   "metadata": {
    "ExecuteTime": {
     "end_time": "2022-06-28T01:10:12.059991Z",
     "start_time": "2022-06-28T01:10:12.044664Z"
    }
   },
   "outputs": [
    {
     "data": {
      "text/html": [
       "<div>\n",
       "<style scoped>\n",
       "    .dataframe tbody tr th:only-of-type {\n",
       "        vertical-align: middle;\n",
       "    }\n",
       "\n",
       "    .dataframe tbody tr th {\n",
       "        vertical-align: top;\n",
       "    }\n",
       "\n",
       "    .dataframe thead th {\n",
       "        text-align: right;\n",
       "    }\n",
       "</style>\n",
       "<table border=\"1\" class=\"dataframe\">\n",
       "  <thead>\n",
       "    <tr style=\"text-align: right;\">\n",
       "      <th></th>\n",
       "      <th>0</th>\n",
       "      <th>1</th>\n",
       "    </tr>\n",
       "  </thead>\n",
       "  <tbody>\n",
       "    <tr>\n",
       "      <th>0</th>\n",
       "      <td>4.98</td>\n",
       "      <td>24.0</td>\n",
       "    </tr>\n",
       "    <tr>\n",
       "      <th>1</th>\n",
       "      <td>9.14</td>\n",
       "      <td>21.6</td>\n",
       "    </tr>\n",
       "    <tr>\n",
       "      <th>2</th>\n",
       "      <td>4.03</td>\n",
       "      <td>34.7</td>\n",
       "    </tr>\n",
       "    <tr>\n",
       "      <th>3</th>\n",
       "      <td>2.94</td>\n",
       "      <td>33.4</td>\n",
       "    </tr>\n",
       "    <tr>\n",
       "      <th>4</th>\n",
       "      <td>5.33</td>\n",
       "      <td>36.2</td>\n",
       "    </tr>\n",
       "  </tbody>\n",
       "</table>\n",
       "</div>"
      ],
      "text/plain": [
       "      0     1\n",
       "0  4.98  24.0\n",
       "1  9.14  21.6\n",
       "2  4.03  34.7\n",
       "3  2.94  33.4\n",
       "4  5.33  36.2"
      ]
     },
     "execution_count": 2,
     "metadata": {},
     "output_type": "execute_result"
    }
   ],
   "source": [
    "x_data = datasets.load_boston().data[:,12]\n",
    "y_data = datasets.load_boston().target \n",
    "df = pd.DataFrame([x_data, y_data]).transpose()\n",
    "df.head()"
   ]
  },
  {
   "cell_type": "markdown",
   "id": "18c33992",
   "metadata": {},
   "source": [
    "## Bulid the model\n",
    "Gradient Descent : θ초기화"
   ]
  },
  {
   "cell_type": "code",
   "execution_count": 3,
   "id": "69f8190c",
   "metadata": {
    "ExecuteTime": {
     "end_time": "2022-06-28T01:10:12.067312Z",
     "start_time": "2022-06-28T01:10:12.060792Z"
    }
   },
   "outputs": [],
   "source": [
    "w = tf.Variable(tf.random_normal([1])) # 가중치, parameter θ, [1]: 값 하나만 꺼내줘,[2,3]:2행3열=6개 랜덤하게 값 대체\n",
    "b = tf.Variable(tf.random_normal([1]))\n",
    "\n",
    "y_predicted = w*x_data + b # model"
   ]
  },
  {
   "cell_type": "markdown",
   "id": "d4377fe9",
   "metadata": {},
   "source": [
    "## Set the criterion\n",
    "Cost function(loss) & Gradient Descent method"
   ]
  },
  {
   "cell_type": "code",
   "execution_count": 4,
   "id": "70840ee9",
   "metadata": {
    "ExecuteTime": {
     "end_time": "2022-06-28T01:10:12.080068Z",
     "start_time": "2022-06-28T01:10:12.069222Z"
    }
   },
   "outputs": [],
   "source": [
    "loss = tf.reduce_mean(tf.square(y_predicted - y_data)) # square:거듭제곱\n",
    "optimizer = tf.train.GradientDescentOptimizer(0.001)  # 0.001 : learning rate\n",
    "train = optimizer.minimize(loss)                      # train만 run!"
   ]
  },
  {
   "cell_type": "markdown",
   "id": "e3105dd9",
   "metadata": {},
   "source": [
    "## Train the model "
   ]
  },
  {
   "cell_type": "code",
   "execution_count": 5,
   "id": "57542327",
   "metadata": {
    "ExecuteTime": {
     "end_time": "2022-06-28T01:10:13.210965Z",
     "start_time": "2022-06-28T01:10:12.621739Z"
    }
   },
   "outputs": [
    {
     "name": "stderr",
     "output_type": "stream",
     "text": [
      "2022-06-28 10:10:12.636934: W tensorflow/core/platform/profile_utils/cpu_utils.cc:128] Failed to get CPU frequency: 0 Hz\n"
     ]
    },
    {
     "name": "stdout",
     "output_type": "stream",
     "text": [
      "Step 0: w[1.2588954] b[0.9964176]\n",
      "loss 318.2610168457031\n",
      "\n",
      "Step 1000: w[0.2960371] b[13.79861]\n",
      "loss 142.39198303222656\n",
      "\n",
      "Step 2000: w[-0.1796127] b[21.721191]\n",
      "loss 78.2049331665039\n",
      "\n",
      "Step 3000: w[-0.47369966] b[26.619602]\n",
      "loss 53.66775131225586\n",
      "\n",
      "Step 4000: w[-0.6555303] b[29.648233]\n",
      "loss 44.287723541259766\n",
      "\n",
      "Step 5000: w[-0.7679526] b[31.520777]\n",
      "loss 40.70198059082031\n",
      "\n",
      "Step 6000: w[-0.8374621] b[32.67855]\n",
      "loss 39.33123779296875\n",
      "\n",
      "Step 7000: w[-0.8804384] b[33.394375]\n",
      "loss 38.80724334716797\n",
      "\n",
      "Step 8000: w[-0.90700996] b[33.83696]\n",
      "loss 38.606929779052734\n",
      "\n",
      "Step 9000: w[-0.92343765] b[34.110588]\n",
      "loss 38.53036117553711\n",
      "\n"
     ]
    }
   ],
   "source": [
    "with tf.Session() as sess:\n",
    "    sess.run(tf.global_variables_initializer()) # tf.Variable 초기화\n",
    "    \n",
    "    for step in range(10000): # epoch, iteration\n",
    "        sess.run(train) # 실제로 Gradient Descent가 실행되는 코드\n",
    "        if step % 1000 == 0: # interval\n",
    "            print('Step {}: w{} b{}'.format(step, sess.run(w), sess.run(b)))\n",
    "            print('loss {}'.format(sess.run(loss)))\n",
    "            print()\n",
    "            \n",
    "    w_out, b_out = sess.run([w, b])"
   ]
  },
  {
   "cell_type": "code",
   "execution_count": null,
   "id": "f704e8bf",
   "metadata": {},
   "outputs": [],
   "source": []
  },
  {
   "cell_type": "code",
   "execution_count": null,
   "id": "a1aac59a",
   "metadata": {},
   "outputs": [],
   "source": []
  }
 ],
 "metadata": {
  "kernelspec": {
   "display_name": "Python 3.8.13 ('tf')",
   "language": "python",
   "name": "python3813jvsc74a57bd052ee2977380704a66854748a73250e0671a9318bd5b3fd45a3df9f851ae61629"
  },
  "language_info": {
   "codemirror_mode": {
    "name": "ipython",
    "version": 3
   },
   "file_extension": ".py",
   "mimetype": "text/x-python",
   "name": "python",
   "nbconvert_exporter": "python",
   "pygments_lexer": "ipython3",
   "version": "3.8.13"
  },
  "toc": {
   "base_numbering": 1,
   "nav_menu": {},
   "number_sections": true,
   "sideBar": true,
   "skip_h1_title": false,
   "title_cell": "Table of Contents",
   "title_sidebar": "Contents",
   "toc_cell": false,
   "toc_position": {},
   "toc_section_display": true,
   "toc_window_display": false
  }
 },
 "nbformat": 4,
 "nbformat_minor": 5
}
