{
 "cells": [
  {
   "cell_type": "markdown",
   "id": "7e41a868",
   "metadata": {
    "ExecuteTime": {
     "end_time": "2022-06-28T06:49:46.645292Z",
     "start_time": "2022-06-28T06:49:46.630966Z"
    }
   },
   "source": [
    "<font size=\"5\">TensorFlow basic - Linear Regression</font>\n",
    "1. Prepare the data\n",
    "2. Build the model\n",
    "3. Set the criterion\n",
    "4. Train the model\n",
    "5. Visualize the result\n"
   ]
  },
  {
   "cell_type": "markdown",
   "id": "acc5a039",
   "metadata": {},
   "source": [
    "# Regression (in lecture slides, Linear) - boston housing data"
   ]
  },
  {
   "cell_type": "code",
   "execution_count": 2,
   "id": "727314e1",
   "metadata": {
    "ExecuteTime": {
     "end_time": "2022-06-28T06:54:54.864490Z",
     "start_time": "2022-06-28T06:54:53.355080Z"
    }
   },
   "outputs": [
    {
     "name": "stdout",
     "output_type": "stream",
     "text": [
      "WARNING:tensorflow:From /opt/homebrew/Caskroom/miniforge/base/envs/tf/lib/python3.8/site-packages/tensorflow/python/compat/v2_compat.py:107: disable_resource_variables (from tensorflow.python.ops.variable_scope) is deprecated and will be removed in a future version.\n",
      "Instructions for updating:\n",
      "non-resource variables are not supported in the long term\n"
     ]
    }
   ],
   "source": [
    "import tensorflow.compat.v1 as tf\n",
    "tf.disable_v2_behavior()\n",
    "\n",
    "import pandas as pd\n",
    "import numpy as np\n",
    "import matplotlib.pyplot as plt\n",
    "from sklearn import datasets\n",
    "import warnings\n",
    "warnings.filterwarnings('ignore')"
   ]
  },
  {
   "cell_type": "code",
   "execution_count": 3,
   "id": "91920ccb",
   "metadata": {
    "ExecuteTime": {
     "end_time": "2022-06-28T06:54:54.880195Z",
     "start_time": "2022-06-28T06:54:54.865514Z"
    }
   },
   "outputs": [
    {
     "data": {
      "text/html": [
       "<div>\n",
       "<style scoped>\n",
       "    .dataframe tbody tr th:only-of-type {\n",
       "        vertical-align: middle;\n",
       "    }\n",
       "\n",
       "    .dataframe tbody tr th {\n",
       "        vertical-align: top;\n",
       "    }\n",
       "\n",
       "    .dataframe thead th {\n",
       "        text-align: right;\n",
       "    }\n",
       "</style>\n",
       "<table border=\"1\" class=\"dataframe\">\n",
       "  <thead>\n",
       "    <tr style=\"text-align: right;\">\n",
       "      <th></th>\n",
       "      <th>0</th>\n",
       "      <th>1</th>\n",
       "    </tr>\n",
       "  </thead>\n",
       "  <tbody>\n",
       "    <tr>\n",
       "      <th>0</th>\n",
       "      <td>4.98</td>\n",
       "      <td>24.0</td>\n",
       "    </tr>\n",
       "    <tr>\n",
       "      <th>1</th>\n",
       "      <td>9.14</td>\n",
       "      <td>21.6</td>\n",
       "    </tr>\n",
       "    <tr>\n",
       "      <th>2</th>\n",
       "      <td>4.03</td>\n",
       "      <td>34.7</td>\n",
       "    </tr>\n",
       "    <tr>\n",
       "      <th>3</th>\n",
       "      <td>2.94</td>\n",
       "      <td>33.4</td>\n",
       "    </tr>\n",
       "    <tr>\n",
       "      <th>4</th>\n",
       "      <td>5.33</td>\n",
       "      <td>36.2</td>\n",
       "    </tr>\n",
       "  </tbody>\n",
       "</table>\n",
       "</div>"
      ],
      "text/plain": [
       "      0     1\n",
       "0  4.98  24.0\n",
       "1  9.14  21.6\n",
       "2  4.03  34.7\n",
       "3  2.94  33.4\n",
       "4  5.33  36.2"
      ]
     },
     "execution_count": 3,
     "metadata": {},
     "output_type": "execute_result"
    }
   ],
   "source": [
    "x_data = datasets.load_boston().data[:,12]\n",
    "y_data = datasets.load_boston().target \n",
    "df = pd.DataFrame([x_data, y_data]).transpose()\n",
    "df.head()"
   ]
  },
  {
   "cell_type": "markdown",
   "id": "18c33992",
   "metadata": {},
   "source": [
    "## Bulid the model\n",
    "Gradient Descent : θ초기화"
   ]
  },
  {
   "cell_type": "code",
   "execution_count": 7,
   "id": "69f8190c",
   "metadata": {
    "ExecuteTime": {
     "end_time": "2022-06-28T06:58:38.946389Z",
     "start_time": "2022-06-28T06:58:38.923473Z"
    }
   },
   "outputs": [],
   "source": [
    "w = tf.Variable(tf.random_normal([1])) # 가중치, parameter θ, [1]: 값 하나만 꺼내줘, tf.Variable(초기화 방법)\n",
    "b = tf.Variable(tf.random_normal([1]))\n",
    "\n",
    "y_predicted = w * x_data + b # model"
   ]
  },
  {
   "cell_type": "markdown",
   "id": "d4377fe9",
   "metadata": {},
   "source": [
    "## Set the criterion\n",
    "Cost function(loss) & Gradient Descent method"
   ]
  },
  {
   "cell_type": "code",
   "execution_count": 6,
   "id": "70840ee9",
   "metadata": {
    "ExecuteTime": {
     "end_time": "2022-06-28T06:58:35.468370Z",
     "start_time": "2022-06-28T06:58:35.436833Z"
    }
   },
   "outputs": [],
   "source": [
    "loss = tf.reduce_mean(tf.square(y_predicted - y_data)) # square:거듭제곱\n",
    "optimizer = tf.train.GradientDescentOptimizer(0.001)  # 0.001 : learning rate\n",
    "train = optimizer.minimize(loss)                      # train만 run!"
   ]
  },
  {
   "cell_type": "markdown",
   "id": "e3105dd9",
   "metadata": {},
   "source": [
    "## Train the model "
   ]
  },
  {
   "cell_type": "code",
   "execution_count": 5,
   "id": "57542327",
   "metadata": {
    "ExecuteTime": {
     "end_time": "2022-06-28T01:10:13.210965Z",
     "start_time": "2022-06-28T01:10:12.621739Z"
    }
   },
   "outputs": [
    {
     "name": "stderr",
     "output_type": "stream",
     "text": [
      "2022-06-28 10:10:12.636934: W tensorflow/core/platform/profile_utils/cpu_utils.cc:128] Failed to get CPU frequency: 0 Hz\n"
     ]
    },
    {
     "name": "stdout",
     "output_type": "stream",
     "text": [
      "Step 0: w[1.2588954] b[0.9964176]\n",
      "loss 318.2610168457031\n",
      "\n",
      "Step 1000: w[0.2960371] b[13.79861]\n",
      "loss 142.39198303222656\n",
      "\n",
      "Step 2000: w[-0.1796127] b[21.721191]\n",
      "loss 78.2049331665039\n",
      "\n",
      "Step 3000: w[-0.47369966] b[26.619602]\n",
      "loss 53.66775131225586\n",
      "\n",
      "Step 4000: w[-0.6555303] b[29.648233]\n",
      "loss 44.287723541259766\n",
      "\n",
      "Step 5000: w[-0.7679526] b[31.520777]\n",
      "loss 40.70198059082031\n",
      "\n",
      "Step 6000: w[-0.8374621] b[32.67855]\n",
      "loss 39.33123779296875\n",
      "\n",
      "Step 7000: w[-0.8804384] b[33.394375]\n",
      "loss 38.80724334716797\n",
      "\n",
      "Step 8000: w[-0.90700996] b[33.83696]\n",
      "loss 38.606929779052734\n",
      "\n",
      "Step 9000: w[-0.92343765] b[34.110588]\n",
      "loss 38.53036117553711\n",
      "\n"
     ]
    }
   ],
   "source": [
    "with tf.Session() as sess:\n",
    "    sess.run(tf.global_variables_initializer()) # tf.Variable 초기화\n",
    "    \n",
    "    for step in range(10000): # epoch, iteration\n",
    "        sess.run(train) # 실제로 Gradient Descent가 실행되는 코드\n",
    "        if step % 1000 == 0: # interval\n",
    "            print('Step {}: w{} b{}'.format(step, sess.run(w), sess.run(b)))\n",
    "            print('loss {}'.format(sess.run(loss)))\n",
    "            print()\n",
    "            \n",
    "    w_out, b_out = sess.run([w, b])"
   ]
  },
  {
   "cell_type": "markdown",
   "id": "2ee9b233",
   "metadata": {},
   "source": [
    "## Visualize the result"
   ]
  },
  {
   "cell_type": "code",
   "execution_count": 7,
   "id": "f704e8bf",
   "metadata": {
    "ExecuteTime": {
     "end_time": "2022-06-28T01:23:27.967292Z",
     "start_time": "2022-06-28T01:23:27.869650Z"
    }
   },
   "outputs": [
    {
     "data": {
      "image/png": "[encoded data removed]",
      "text/plain": [
       "<Figure size 720x720 with 1 Axes>"
      ]
     },
     "metadata": {
      "needs_background": "light"
     },
     "output_type": "display_data"
    }
   ],
   "source": [
    "plt.figure(figsize=(10,10))\n",
    "plt.plot(x_data, y_data, 'bo', label = 'Real data')\n",
    "plt.plot(x_data, x_data*w_out + b_out, 'ro', label = 'Prediction') # Prediction = x_data*w_out + b_out\n",
    "plt.legend()\n",
    "plt.show()"
   ]
  },
  {
   "cell_type": "markdown",
   "id": "e556d2e4",
   "metadata": {},
   "source": [
    "----"
   ]
  },
  {
   "cell_type": "markdown",
   "id": "1711a266",
   "metadata": {},
   "source": [
    "# Regression (in lecture slides, 1-layer NN)"
   ]
  },
  {
   "cell_type": "markdown",
   "id": "314c0d59",
   "metadata": {},
   "source": [
    "## Prepare the data"
   ]
  },
  {
   "cell_type": "code",
   "execution_count": 8,
   "id": "9f463081",
   "metadata": {
    "ExecuteTime": {
     "end_time": "2022-06-28T06:59:44.011267Z",
     "start_time": "2022-06-28T06:59:43.985302Z"
    }
   },
   "outputs": [
    {
     "data": {
      "text/html": [
       "<div>\n",
       "<style scoped>\n",
       "    .dataframe tbody tr th:only-of-type {\n",
       "        vertical-align: middle;\n",
       "    }\n",
       "\n",
       "    .dataframe tbody tr th {\n",
       "        vertical-align: top;\n",
       "    }\n",
       "\n",
       "    .dataframe thead th {\n",
       "        text-align: right;\n",
       "    }\n",
       "</style>\n",
       "<table border=\"1\" class=\"dataframe\">\n",
       "  <thead>\n",
       "    <tr style=\"text-align: right;\">\n",
       "      <th></th>\n",
       "      <th>0</th>\n",
       "      <th>1</th>\n",
       "    </tr>\n",
       "  </thead>\n",
       "  <tbody>\n",
       "    <tr>\n",
       "      <th>0</th>\n",
       "      <td>4.98</td>\n",
       "      <td>24.0</td>\n",
       "    </tr>\n",
       "    <tr>\n",
       "      <th>1</th>\n",
       "      <td>9.14</td>\n",
       "      <td>21.6</td>\n",
       "    </tr>\n",
       "    <tr>\n",
       "      <th>2</th>\n",
       "      <td>4.03</td>\n",
       "      <td>34.7</td>\n",
       "    </tr>\n",
       "    <tr>\n",
       "      <th>3</th>\n",
       "      <td>2.94</td>\n",
       "      <td>33.4</td>\n",
       "    </tr>\n",
       "    <tr>\n",
       "      <th>4</th>\n",
       "      <td>5.33</td>\n",
       "      <td>36.2</td>\n",
       "    </tr>\n",
       "  </tbody>\n",
       "</table>\n",
       "</div>"
      ],
      "text/plain": [
       "      0     1\n",
       "0  4.98  24.0\n",
       "1  9.14  21.6\n",
       "2  4.03  34.7\n",
       "3  2.94  33.4\n",
       "4  5.33  36.2"
      ]
     },
     "execution_count": 8,
     "metadata": {},
     "output_type": "execute_result"
    }
   ],
   "source": [
    "x_data = datasets.load_boston().data[:,12]\n",
    "y_data = datasets.load_boston().target \n",
    "\n",
    "df = pd.DataFrame([x_data, y_data]).transpose()\n",
    "df.head()"
   ]
  },
  {
   "cell_type": "markdown",
   "id": "63b92234",
   "metadata": {},
   "source": [
    "## Build the model"
   ]
  },
  {
   "cell_type": "code",
   "execution_count": 9,
   "id": "db9188c5",
   "metadata": {
    "ExecuteTime": {
     "end_time": "2022-06-28T06:59:45.052985Z",
     "start_time": "2022-06-28T06:59:45.028259Z"
    }
   },
   "outputs": [],
   "source": [
    "_x_data = tf.reshape(x_data, [len(x_data), 1])\n",
    "\n",
    "W = tf.Variable(tf.random_normal([1, 5], dtype = tf.float64))\n",
    "W_out = tf.Variable(tf.random_normal([5, 1], dtype = tf.float64))\n",
    "\n",
    "hidden = tf.nn.sigmoid(tf.matmul(_x_data, W))\n",
    "output = tf.matmul(hidden, W_out)    # Prediction = output"
   ]
  },
  {
   "cell_type": "markdown",
   "id": "e582bdab",
   "metadata": {},
   "source": [
    "## Set the criterion\n",
    "Cost function(loss) & Gradient Descent method"
   ]
  },
  {
   "cell_type": "code",
   "execution_count": 10,
   "id": "cf263785",
   "metadata": {
    "ExecuteTime": {
     "end_time": "2022-06-28T06:59:46.274732Z",
     "start_time": "2022-06-28T06:59:46.243938Z"
    }
   },
   "outputs": [],
   "source": [
    "loss = tf.reduce_mean(tf.square(output - y_data))\n",
    "optimizer = tf.train.GradientDescentOptimizer(0.001) # lr\n",
    "train = optimizer.minimize(loss) "
   ]
  },
  {
   "cell_type": "markdown",
   "id": "f9bc245a",
   "metadata": {},
   "source": [
    "## Train the model\n"
   ]
  },
  {
   "cell_type": "code",
   "execution_count": 11,
   "id": "bf47f86a",
   "metadata": {
    "ExecuteTime": {
     "end_time": "2022-06-28T07:00:06.418628Z",
     "start_time": "2022-06-28T06:59:47.208879Z"
    }
   },
   "outputs": [
    {
     "name": "stderr",
     "output_type": "stream",
     "text": [
      "2022-06-28 15:59:47.224743: W tensorflow/core/platform/profile_utils/cpu_utils.cc:128] Failed to get CPU frequency: 0 Hz\n"
     ]
    },
    {
     "name": "stdout",
     "output_type": "stream",
     "text": [
      "Step 0 || Loss : 590.3042316074258\n",
      "Step 5000 || Loss : 84.44998610362157\n",
      "Step 10000 || Loss : 84.43886334316566\n",
      "Step 15000 || Loss : 84.433892367363\n",
      "Step 20000 || Loss : 84.43103035667663\n",
      "Step 25000 || Loss : 84.42915535411383\n",
      "Step 30000 || Loss : 84.42782569574146\n",
      "Step 35000 || Loss : 84.42683065180621\n",
      "Step 40000 || Loss : 84.42605639364525\n",
      "Step 45000 || Loss : 84.4254358189411\n"
     ]
    }
   ],
   "source": [
    "with tf.Session() as sess:\n",
    "    sess.run(tf.global_variables_initializer())\n",
    "    \n",
    "    for step in range(50000):\n",
    "        sess.run(train)\n",
    "        if step % 5000 == 0:\n",
    "            print('Step {} || Loss : {}'.format(step, sess.run(loss)))\n",
    "    \n",
    "    output = sess.run(output)"
   ]
  },
  {
   "cell_type": "markdown",
   "id": "f8f0ed49",
   "metadata": {},
   "source": [
    "## Visualize the result\n"
   ]
  },
  {
   "cell_type": "code",
   "execution_count": 45,
   "id": "c04c7993",
   "metadata": {
    "ExecuteTime": {
     "end_time": "2022-06-28T02:28:34.017563Z",
     "start_time": "2022-06-28T02:28:33.958848Z"
    }
   },
   "outputs": [
    {
     "data": {
      "image/png": "[encoded data removed]",
      "text/plain": [
       "<Figure size 720x720 with 1 Axes>"
      ]
     },
     "metadata": {
      "needs_background": "light"
     },
     "output_type": "display_data"
    }
   ],
   "source": [
    "plt.figure(figsize=(10, 10))\n",
    "plt.plot(x_data, y_data, 'bo', label = 'Real data')\n",
    "plt.plot(x_data, output, 'ro', label = 'Prediction')  # Prediction = output\n",
    "plt.legend()\n",
    "plt.show()"
   ]
  },
  {
   "cell_type": "markdown",
   "id": "d24d7c5c",
   "metadata": {},
   "source": [
    "----"
   ]
  },
  {
   "cell_type": "markdown",
   "id": "9d7be877",
   "metadata": {},
   "source": [
    "# Regression (in lecture slides, 2-layers NN)"
   ]
  },
  {
   "cell_type": "markdown",
   "id": "98fd28e7",
   "metadata": {
    "ExecuteTime": {
     "end_time": "2022-06-28T01:25:57.789637Z",
     "start_time": "2022-06-28T01:25:57.780449Z"
    }
   },
   "source": [
    "## Prepare the data"
   ]
  },
  {
   "cell_type": "code",
   "execution_count": 9,
   "id": "67822129",
   "metadata": {
    "ExecuteTime": {
     "end_time": "2022-06-28T01:45:58.776316Z",
     "start_time": "2022-06-28T01:45:58.743208Z"
    }
   },
   "outputs": [
    {
     "data": {
      "text/html": [
       "<div>\n",
       "<style scoped>\n",
       "    .dataframe tbody tr th:only-of-type {\n",
       "        vertical-align: middle;\n",
       "    }\n",
       "\n",
       "    .dataframe tbody tr th {\n",
       "        vertical-align: top;\n",
       "    }\n",
       "\n",
       "    .dataframe thead th {\n",
       "        text-align: right;\n",
       "    }\n",
       "</style>\n",
       "<table border=\"1\" class=\"dataframe\">\n",
       "  <thead>\n",
       "    <tr style=\"text-align: right;\">\n",
       "      <th></th>\n",
       "      <th>0</th>\n",
       "      <th>1</th>\n",
       "    </tr>\n",
       "  </thead>\n",
       "  <tbody>\n",
       "    <tr>\n",
       "      <th>0</th>\n",
       "      <td>4.98</td>\n",
       "      <td>24.0</td>\n",
       "    </tr>\n",
       "    <tr>\n",
       "      <th>1</th>\n",
       "      <td>9.14</td>\n",
       "      <td>21.6</td>\n",
       "    </tr>\n",
       "    <tr>\n",
       "      <th>2</th>\n",
       "      <td>4.03</td>\n",
       "      <td>34.7</td>\n",
       "    </tr>\n",
       "    <tr>\n",
       "      <th>3</th>\n",
       "      <td>2.94</td>\n",
       "      <td>33.4</td>\n",
       "    </tr>\n",
       "    <tr>\n",
       "      <th>4</th>\n",
       "      <td>5.33</td>\n",
       "      <td>36.2</td>\n",
       "    </tr>\n",
       "  </tbody>\n",
       "</table>\n",
       "</div>"
      ],
      "text/plain": [
       "      0     1\n",
       "0  4.98  24.0\n",
       "1  9.14  21.6\n",
       "2  4.03  34.7\n",
       "3  2.94  33.4\n",
       "4  5.33  36.2"
      ]
     },
     "execution_count": 9,
     "metadata": {},
     "output_type": "execute_result"
    }
   ],
   "source": [
    "x_data = datasets.load_boston().data[:,12]\n",
    "y_data = datasets.load_boston().target \n",
    "\n",
    "df = pd.DataFrame([x_data, y_data]).transpose()\n",
    "df.head()"
   ]
  },
  {
   "cell_type": "markdown",
   "id": "dc1f53df",
   "metadata": {},
   "source": [
    "## Build the model\n",
    "Networ(Neural network architercture)"
   ]
  },
  {
   "cell_type": "code",
   "execution_count": 27,
   "id": "738832b3",
   "metadata": {
    "ExecuteTime": {
     "end_time": "2022-06-28T02:21:38.834705Z",
     "start_time": "2022-06-28T02:21:38.808124Z"
    }
   },
   "outputs": [],
   "source": [
    "_x_data = tf.reshape(x_data, [len(x_data), 1])  # placeholder\n",
    "_y_data = tf.reshape(y_data, [len(y_data), 1])\n",
    "\n",
    "W1 = tf.Variable(tf.random_normal([1, 5], dtype = tf.float64))\n",
    "W2 = tf.Variable(tf.random_normal([5, 10], dtype = tf.float64))\n",
    "W_out = tf.Variable(tf.random_normal([10, 1], dtype = tf.float64))\n",
    "\n",
    "hidden1 = tf.nn.elu(tf.matmul(_x_data, W1))\n",
    "hidden2 = tf.nn.elu(tf.matmul(hidden1, W2))\n",
    "output = tf.matmul(hidden2, W_out) # Regression, Prediction"
   ]
  },
  {
   "cell_type": "markdown",
   "id": "147e2989",
   "metadata": {},
   "source": [
    "## Set the criterion\n",
    "Cost function(loss) & Gradient Descent method"
   ]
  },
  {
   "cell_type": "code",
   "execution_count": 30,
   "id": "845dfe3e",
   "metadata": {
    "ExecuteTime": {
     "end_time": "2022-06-28T02:22:48.030348Z",
     "start_time": "2022-06-28T02:22:47.964710Z"
    }
   },
   "outputs": [],
   "source": [
    "loss = tf.losses.mean_squared_error(output, _y_data) # Cost function(loss) \n",
    "optimizer = tf.train.AdamOptimizer(0.001) # lr:0.001 # optimizer( Gradient Descent method)\n",
    "train = optimizer.minimize(loss) # train만 run! "
   ]
  },
  {
   "cell_type": "markdown",
   "id": "26036e04",
   "metadata": {},
   "source": [
    "## Train the model"
   ]
  },
  {
   "cell_type": "code",
   "execution_count": 31,
   "id": "14d81f73",
   "metadata": {
    "ExecuteTime": {
     "end_time": "2022-06-28T02:22:57.564825Z",
     "start_time": "2022-06-28T02:22:50.088014Z"
    }
   },
   "outputs": [
    {
     "name": "stdout",
     "output_type": "stream",
     "text": [
      "Step 0 || Loss : 6498.83935546875\n",
      "Step 5000 || Loss : 202.7757110595703\n",
      "Step 10000 || Loss : 107.73607635498047\n",
      "Step 15000 || Loss : 54.98625946044922\n",
      "Step 20000 || Loss : 37.42253112792969\n",
      "Step 25000 || Loss : 30.416248321533203\n",
      "Step 30000 || Loss : 28.549800872802734\n",
      "Step 35000 || Loss : 27.674436569213867\n",
      "Step 40000 || Loss : 27.334928512573242\n",
      "Step 45000 || Loss : 27.185670852661133\n"
     ]
    }
   ],
   "source": [
    "with tf.Session() as sess:\n",
    "    sess.run(tf.global_variables_initializer())\n",
    "    \n",
    "    for step in range(50000):\n",
    "        sess.run(train) # train, test\n",
    "        if step % 5000 == 0:\n",
    "            print('Step {} || Loss : {}'.format(step, sess.run(loss)))\n",
    "    \n",
    "    output = sess.run(output)"
   ]
  },
  {
   "cell_type": "markdown",
   "id": "1001d655",
   "metadata": {},
   "source": [
    "## Visualize the result"
   ]
  },
  {
   "cell_type": "code",
   "execution_count": 32,
   "id": "5030bd9b",
   "metadata": {
    "ExecuteTime": {
     "end_time": "2022-06-28T02:22:57.623202Z",
     "start_time": "2022-06-28T02:22:57.565844Z"
    }
   },
   "outputs": [
    {
     "data": {
      "image/png": "[encoded data removed]",
      "text/plain": [
       "<Figure size 720x720 with 1 Axes>"
      ]
     },
     "metadata": {
      "needs_background": "light"
     },
     "output_type": "display_data"
    }
   ],
   "source": [
    "plt.figure(figsize=(10, 10))\n",
    "plt.plot(x_data, y_data, 'bo', label = 'Real data')\n",
    "plt.plot(x_data, output, 'ro', label = 'Prediction')  # Prediction = output\n",
    "plt.legend()\n",
    "plt.show()"
   ]
  }
 ],
 "metadata": {
  "kernelspec": {
   "display_name": "Python 3.8.13 ('tf')",
   "language": "python",
   "name": "python3813jvsc74a57bd052ee2977380704a66854748a73250e0671a9318bd5b3fd45a3df9f851ae61629"
  },
  "language_info": {
   "codemirror_mode": {
    "name": "ipython",
    "version": 3
   },
   "file_extension": ".py",
   "mimetype": "text/x-python",
   "name": "python",
   "nbconvert_exporter": "python",
   "pygments_lexer": "ipython3",
   "version": "3.8.13"
  },
  "toc": {
   "base_numbering": 1,
   "nav_menu": {},
   "number_sections": true,
   "sideBar": true,
   "skip_h1_title": false,
   "title_cell": "Table of Contents",
   "title_sidebar": "Contents",
   "toc_cell": false,
   "toc_position": {},
   "toc_section_display": true,
   "toc_window_display": false
  }
 },
 "nbformat": 4,
 "nbformat_minor": 5
}
