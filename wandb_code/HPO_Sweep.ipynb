{
  "cells": [
    {
      "cell_type": "code",
      "execution_count": null,
      "metadata": {
        "id": "Y0V30lwihl6O",
        "outputId": "b114e2cb-ad5f-4ecf-bc99-ffcc0e21325a"
      },
      "outputs": [
        {
          "name": "stdout",
          "output_type": "stream",
          "text": []
        }
      ],
      "source": [
        "# %pip install -q wandb\n",
        "# 깔끔하게 설치"
      ]
    },
    {
      "cell_type": "code",
      "execution_count": 8,
      "metadata": {},
      "outputs": [
        {
          "name": "stderr",
          "output_type": "stream",
          "text": [
            "\u001b[34m\u001b[1mwandb\u001b[0m: Currently logged in as: \u001b[33mgoeun\u001b[0m. Use \u001b[1m`wandb login --relogin`\u001b[0m to force relogin\n"
          ]
        },
        {
          "data": {
            "text/plain": [
              "True"
            ]
          },
          "execution_count": 8,
          "metadata": {},
          "output_type": "execute_result"
        }
      ],
      "source": [
        "import wandb\n",
        "wandb.login()"
      ]
    },
    {
      "cell_type": "code",
      "execution_count": 13,
      "metadata": {
        "id": "tAb0f8gihl6R"
      },
      "outputs": [],
      "source": [
        "# %load train_lib.py\n",
        "\n",
        "def train():\n",
        "    import numpy as np\n",
        "    import tensorflow as tf\n",
        "    import wandb\n",
        "    config_defaults = {\n",
        "        'layers': 128,\n",
        "        'activation': 'relu'\n",
        "    }\n",
        "    wandb.init(project=\"sweep-intro\", config=config_defaults, magic=True)\n",
        "\n",
        "    fashion_mnist = tf.keras.datasets.fashion_mnist\n",
        "    (train_images, train_labels), (test_images, test_labels) = fashion_mnist.load_data()\n",
        "    class_names = ['T-shirt/top', 'Trouser', 'Pullover', 'Dress', 'Coat',\n",
        "                   'Sandal', 'Shirt', 'Sneaker', 'Bag', 'Ankle boot']\n",
        "\n",
        "    train_images.shape\n",
        "    train_images = train_images / 255.0\n",
        "    test_images = test_images / 255.0\n",
        "\n",
        "    model = tf.keras.Sequential([\n",
        "        tf.keras.layers.Flatten(input_shape=(28, 28)),\n",
        "        tf.keras.layers.Dense(wandb.config.layers, activation=wandb.config.activation),\n",
        "        tf.keras.layers.Dense(10, activation=tf.nn.softmax)\n",
        "    ])\n",
        "\n",
        "    model.compile(optimizer='adam',\n",
        "                  loss='sparse_categorical_crossentropy',\n",
        "                  metrics=['accuracy'])\n",
        "    \n",
        "    model.fit(train_images, train_labels, epochs=5,\n",
        "                  validation_data=(test_images, test_labels))\n"
      ]
    },
    {
      "cell_type": "code",
      "execution_count": 14,
      "metadata": {
        "id": "pRXL7bGfhl6T"
      },
      "outputs": [],
      "source": [
        "sweep_config = {\n",
        "    'project': 'sweep-intro',\n",
        "    'method': 'grid',\n",
        "    'parameters': {\n",
        "        'layers': {\n",
        "            'values': [32, 64, 96, 128, 256]\n",
        "        },\n",
        "        'activation': {\n",
        "            'values': ['relu', 'sigmoid', 'tanh']\n",
        "        }\n",
        "\n",
        "    }\n",
        "}"
      ]
    },
    {
      "cell_type": "code",
      "execution_count": 15,
      "metadata": {
        "id": "CLlYWSQghl6T",
        "outputId": "97f833eb-2509-49c8-bf4c-5e3d790e5e8f"
      },
      "outputs": [
        {
          "name": "stdout",
          "output_type": "stream",
          "text": [
            "Create sweep with ID: 1k5gf5h8\n",
            "Sweep URL: https://wandb.ai/goeun/sweep-intro/sweeps/1k5gf5h8\n"
          ]
        }
      ],
      "source": [
        "sweep_id = wandb.sweep(sweep_config)"
      ]
    },
    {
      "cell_type": "code",
      "execution_count": 17,
      "metadata": {
        "id": "OAYT7DvAhl6U",
        "outputId": "5e44967c-7bca-4cc9-85cc-69f566d69d3c"
      },
      "outputs": [
        {
          "data": {
            "text/html": [
              "<style>\n",
              "    table.wandb td:nth-child(1) { padding: 0 10px; text-align: left ; width: auto;} td:nth-child(2) {text-align: left ; width: 100%}\n",
              "    .wandb-row { display: flex; flex-direction: row; flex-wrap: wrap; justify-content: flex-start; width: 100% }\n",
              "    .wandb-col { display: flex; flex-direction: column; flex-basis: 100%; flex: 1; padding: 10px; }\n",
              "    </style>\n",
              "<div class=\"wandb-row\"><div class=\"wandb-col\"><h3>Run summary:</h3><br/><table class=\"wandb\"><tr><td>GFLOPs</td><td>5e-05</td></tr></table><br/></div></div>"
            ],
            "text/plain": [
              "<IPython.core.display.HTML object>"
            ]
          },
          "metadata": {},
          "output_type": "display_data"
        },
        {
          "data": {
            "text/html": [
              "Synced <strong style=\"color:#cdcd00\">dulcet-sweep-12</strong>: <a href=\"https://wandb.ai/goeun/sweep-intro/runs/1w07d6do\" target=\"_blank\">https://wandb.ai/goeun/sweep-intro/runs/1w07d6do</a><br/>Synced 6 W&B file(s), 0 media file(s), 0 artifact file(s) and 1 other file(s)"
            ],
            "text/plain": [
              "<IPython.core.display.HTML object>"
            ]
          },
          "metadata": {},
          "output_type": "display_data"
        },
        {
          "data": {
            "text/html": [
              "Find logs at: <code>./wandb/run-20220831_105416-1w07d6do/logs</code>"
            ],
            "text/plain": [
              "<IPython.core.display.HTML object>"
            ]
          },
          "metadata": {},
          "output_type": "display_data"
        }
      ],
      "source": [
        "wandb.agent(sweep_id, function=train)"
      ]
    },
    {
      "cell_type": "code",
      "execution_count": 18,
      "metadata": {},
      "outputs": [],
      "source": [
        "wandb.finish()"
      ]
    },
    {
      "cell_type": "code",
      "execution_count": null,
      "metadata": {},
      "outputs": [],
      "source": []
    }
  ],
  "metadata": {
    "colab": {
      "provenance": []
    },
    "kernelspec": {
      "display_name": "Python 3.8.13 ('tf')",
      "language": "python",
      "name": "python3"
    },
    "language_info": {
      "codemirror_mode": {
        "name": "ipython",
        "version": 3
      },
      "file_extension": ".py",
      "mimetype": "text/x-python",
      "name": "python",
      "nbconvert_exporter": "python",
      "pygments_lexer": "ipython3",
      "version": "3.8.13"
    },
    "vscode": {
      "interpreter": {
        "hash": "7587b50de7af4570f14b9a7d90fb36f4140ebaa7b451de97d8e7fcd113e5d41f"
      }
    }
  },
  "nbformat": 4,
  "nbformat_minor": 0
}
