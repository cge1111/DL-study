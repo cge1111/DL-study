{
 "cells": [
  {
   "cell_type": "markdown",
   "id": "6b8d9aeb",
   "metadata": {},
   "source": [
    "## 참고: https://hleecaster.com/ml-linear-regression-example/"
   ]
  },
  {
   "cell_type": "markdown",
   "id": "d24584ff",
   "metadata": {},
   "source": [
    "## 라이브러리 설치, 호출"
   ]
  },
  {
   "cell_type": "markdown",
   "id": "18631f15",
   "metadata": {},
   "source": [
    "!pip3 install -U scikit-learn<br>\n",
    "!pip3 install pandas<br>\n",
    "!pip3 install numpy<br>\n",
    "!pip3 install matplotlib<br>\n",
    "!pip3 install statsmodels<br>"
   ]
  },
  {
   "cell_type": "code",
   "execution_count": 1,
   "id": "4a912728",
   "metadata": {
    "ExecuteTime": {
     "end_time": "2022-07-07T02:52:24.232366Z",
     "start_time": "2022-07-07T02:52:22.726791Z"
    }
   },
   "outputs": [],
   "source": [
    "import tensorflow as tf\n",
    "import pandas as pd\n",
    "import numpy as np\n",
    "import matplotlib.pyplot as plt\n",
    "import statsmodels.api as sm\n",
    "\n",
    "from tensorflow.keras.models import Sequential, load_model\n",
    "from tensorflow.keras.layers import Dense\n",
    "from tensorflow.keras.optimizers import SGD, Adam\n",
    "from tensorflow.keras.callbacks import ModelCheckpoint, TensorBoard, ReduceLROnPlateau"
   ]
  },
  {
   "cell_type": "markdown",
   "id": "774d835d",
   "metadata": {},
   "source": [
    "## 데이터 다운로드 (특별할인 판매)"
   ]
  },
  {
   "cell_type": "code",
   "execution_count": 2,
   "id": "3b6fe09e",
   "metadata": {
    "ExecuteTime": {
     "end_time": "2022-07-07T02:48:23.790110Z",
     "start_time": "2022-07-07T02:48:23.632506Z"
    }
   },
   "outputs": [
    {
     "name": "stdout",
     "output_type": "stream",
     "text": [
      "         date weekday  busy_day  high_temperature  special_sales\n",
      "0  2002-08-05     Mon         0                28              1\n",
      "1  2002-08-06     Tue         0                24              0\n",
      "2  2002-08-07     Wed         1                26              0\n",
      "3  2002-08-08     Thu         0                24              0\n",
      "4  2002-08-09     Fri         0                23              0\n",
      "(21, 5)\n"
     ]
    }
   ],
   "source": [
    "import pandas as pd\n",
    "df = pd.read_csv('https://raw.githubusercontent.com/jmnote/zdata/master/logistic-regression/special-sales.csv')\n",
    "print(df.head())\n",
    "print(df.shape)"
   ]
  },
  {
   "cell_type": "markdown",
   "id": "fae03042",
   "metadata": {},
   "source": [
    "## Input, Feature 설정"
   ]
  },
  {
   "cell_type": "code",
   "execution_count": 3,
   "id": "cbcf321e",
   "metadata": {
    "ExecuteTime": {
     "end_time": "2022-07-07T01:31:22.069172Z",
     "start_time": "2022-07-07T01:31:22.056456Z"
    }
   },
   "outputs": [],
   "source": [
    "Label = df['special_sales']\n",
    "InputFeature = df[['busy_day','high_temperature']]"
   ]
  },
  {
   "cell_type": "markdown",
   "id": "6b9edb19",
   "metadata": {},
   "source": [
    "## Keras Logit 모델 fitting"
   ]
  },
  {
   "cell_type": "code",
   "execution_count": 2,
   "id": "121e6d12",
   "metadata": {
    "ExecuteTime": {
     "end_time": "2022-07-07T02:52:24.249809Z",
     "start_time": "2022-07-07T02:52:24.234897Z"
    }
   },
   "outputs": [],
   "source": [
    "model = Sequential()\n",
    "model.add(Dense(3, activation='linear', input_shape=(2,)))\n",
    "model.add(Dense(1, activation='sigmoid'))\n",
    "\n",
    "model.compile(loss='binary_crossentropy',\n",
    "              optimizer=Adam(learning_rate=0.01), metrics=['accuracy'])"
   ]
  },
  {
   "cell_type": "markdown",
   "id": "7d2abf85",
   "metadata": {},
   "source": [
    "## Keras 모델 살펴보기"
   ]
  },
  {
   "cell_type": "code",
   "execution_count": 15,
   "id": "b2b1df1f",
   "metadata": {
    "ExecuteTime": {
     "end_time": "2022-07-07T01:58:21.392204Z",
     "start_time": "2022-07-07T01:58:21.377753Z"
    }
   },
   "outputs": [
    {
     "name": "stdout",
     "output_type": "stream",
     "text": [
      "Model: \"sequential_3\"\n",
      "_________________________________________________________________\n",
      " Layer (type)                Output Shape              Param #   \n",
      "=================================================================\n",
      " dense_6 (Dense)             (None, 3)                 9         \n",
      "                                                                 \n",
      " dense_7 (Dense)             (None, 1)                 4         \n",
      "                                                                 \n",
      "=================================================================\n",
      "Total params: 13\n",
      "Trainable params: 13\n",
      "Non-trainable params: 0\n",
      "_________________________________________________________________\n"
     ]
    }
   ],
   "source": [
    "model.summary()"
   ]
  },
  {
   "cell_type": "markdown",
   "id": "fef88762",
   "metadata": {},
   "source": [
    "## Call-back 함수\n",
    "## 모델 학습"
   ]
  },
  {
   "cell_type": "code",
   "execution_count": 16,
   "id": "e84e8e7b",
   "metadata": {
    "ExecuteTime": {
     "end_time": "2022-07-07T01:58:21.398610Z",
     "start_time": "2022-07-07T01:58:21.395900Z"
    }
   },
   "outputs": [],
   "source": [
    "# Call-back 함수\n",
    "# CheckPoint: Epoch 마다 validation 성능을 검증하여, best performance 일 경우 저장\n",
    "CP = ModelCheckpoint(filepath='-{epoch:03d}-{loss:.4f}-{accuracy:.4f}.hdf5',\n",
    "            monitor='loss', verbose=1, save_best_only=True, mode='min')\n",
    "\n",
    "# Learning Rate 줄여나가기\n",
    "LR = ReduceLROnPlateau(monitor='loss',factor=0.8,patience=3, verbose=1, min_lr=1e-8)\n",
    "\n",
    "CALLBACK = [CP, LR]"
   ]
  },
  {
   "cell_type": "code",
   "execution_count": 17,
   "id": "f681b6f8",
   "metadata": {
    "ExecuteTime": {
     "end_time": "2022-07-07T01:58:22.281107Z",
     "start_time": "2022-07-07T01:58:21.399853Z"
    },
    "collapsed": true
   },
   "outputs": [
    {
     "name": "stdout",
     "output_type": "stream",
     "text": [
      "Epoch 1/100\n",
      "1/7 [===>..........................] - ETA: 0s - loss: 10.3231 - accuracy: 0.0000e+00\n",
      "Epoch 1: loss improved from inf to 5.27593, saving model to -001-5.2759-0.3810.hdf5\n",
      "7/7 [==============================] - 0s 2ms/step - loss: 5.2759 - accuracy: 0.3810 - lr: 0.0100\n",
      "Epoch 2/100\n",
      "1/7 [===>..........................] - ETA: 0s - loss: 3.8030 - accuracy: 0.3333\n",
      "Epoch 2: loss improved from 5.27593 to 2.32095, saving model to -002-2.3210-0.3810.hdf5\n",
      "7/7 [==============================] - 0s 2ms/step - loss: 2.3210 - accuracy: 0.3810 - lr: 0.0100\n",
      "Epoch 3/100\n",
      "1/7 [===>..........................] - ETA: 0s - loss: 0.6386 - accuracy: 0.6667\n",
      "Epoch 3: loss improved from 2.32095 to 0.91405, saving model to -003-0.9140-0.5238.hdf5\n",
      "7/7 [==============================] - 0s 2ms/step - loss: 0.9140 - accuracy: 0.5238 - lr: 0.0100\n",
      "Epoch 4/100\n",
      "1/7 [===>..........................] - ETA: 0s - loss: 1.0635 - accuracy: 0.6667\n",
      "Epoch 4: loss did not improve from 0.91405\n",
      "7/7 [==============================] - 0s 581us/step - loss: 1.1963 - accuracy: 0.6190 - lr: 0.0100\n",
      "Epoch 5/100\n",
      "1/7 [===>..........................] - ETA: 0s - loss: 0.8916 - accuracy: 0.6667\n",
      "Epoch 5: loss improved from 0.91405 to 0.89178, saving model to -005-0.8918-0.6190.hdf5\n",
      "7/7 [==============================] - 0s 2ms/step - loss: 0.8918 - accuracy: 0.6190 - lr: 0.0100\n",
      "Epoch 6/100\n",
      "1/7 [===>..........................] - ETA: 0s - loss: 0.6274 - accuracy: 1.0000\n",
      "Epoch 6: loss improved from 0.89178 to 0.73348, saving model to -006-0.7335-0.3810.hdf5\n",
      "7/7 [==============================] - 0s 2ms/step - loss: 0.7335 - accuracy: 0.3810 - lr: 0.0100\n",
      "Epoch 7/100\n",
      "1/7 [===>..........................] - ETA: 0s - loss: 0.7501 - accuracy: 0.3333"
     ]
    },
    {
     "name": "stderr",
     "output_type": "stream",
     "text": [
      "2022-07-07 10:58:21.425764: W tensorflow/core/platform/profile_utils/cpu_utils.cc:128] Failed to get CPU frequency: 0 Hz\n"
     ]
    },
    {
     "name": "stdout",
     "output_type": "stream",
     "text": [
      "\n",
      "Epoch 7: loss did not improve from 0.73348\n",
      "7/7 [==============================] - 0s 687us/step - loss: 0.7340 - accuracy: 0.3333 - lr: 0.0100\n",
      "Epoch 8/100\n",
      "1/7 [===>..........................] - ETA: 0s - loss: 0.8861 - accuracy: 0.0000e+00\n",
      "Epoch 8: loss improved from 0.73348 to 0.70911, saving model to -008-0.7091-0.6190.hdf5\n",
      "7/7 [==============================] - 0s 2ms/step - loss: 0.7091 - accuracy: 0.6190 - lr: 0.0100\n",
      "Epoch 9/100\n",
      "1/7 [===>..........................] - ETA: 0s - loss: 0.6530 - accuracy: 0.6667\n",
      "Epoch 9: loss did not improve from 0.70911\n",
      "7/7 [==============================] - 0s 616us/step - loss: 0.7231 - accuracy: 0.6190 - lr: 0.0100\n",
      "Epoch 10/100\n",
      "1/7 [===>..........................] - ETA: 0s - loss: 0.8084 - accuracy: 0.3333\n",
      "Epoch 10: loss improved from 0.70911 to 0.70116, saving model to -010-0.7012-0.6190.hdf5\n",
      "7/7 [==============================] - 0s 2ms/step - loss: 0.7012 - accuracy: 0.6190 - lr: 0.0100\n",
      "Epoch 11/100\n",
      "1/7 [===>..........................] - ETA: 0s - loss: 0.6423 - accuracy: 0.6667\n",
      "Epoch 11: loss did not improve from 0.70116\n",
      "7/7 [==============================] - 0s 606us/step - loss: 0.7240 - accuracy: 0.6190 - lr: 0.0100\n",
      "Epoch 12/100\n",
      "1/7 [===>..........................] - ETA: 0s - loss: 0.6522 - accuracy: 0.6667\n",
      "Epoch 12: loss improved from 0.70116 to 0.68680, saving model to -012-0.6868-0.6190.hdf5\n",
      "7/7 [==============================] - 0s 2ms/step - loss: 0.6868 - accuracy: 0.6190 - lr: 0.0100\n",
      "Epoch 13/100\n",
      "1/7 [===>..........................] - ETA: 0s - loss: 0.6675 - accuracy: 0.6667\n",
      "Epoch 13: loss improved from 0.68680 to 0.68388, saving model to -013-0.6839-0.6190.hdf5\n",
      "7/7 [==============================] - 0s 1ms/step - loss: 0.6839 - accuracy: 0.6190 - lr: 0.0100\n",
      "Epoch 14/100\n",
      "1/7 [===>..........................] - ETA: 0s - loss: 0.7331 - accuracy: 0.3333\n",
      "Epoch 14: loss improved from 0.68388 to 0.68265, saving model to -014-0.6827-0.6190.hdf5\n",
      "7/7 [==============================] - 0s 2ms/step - loss: 0.6827 - accuracy: 0.6190 - lr: 0.0100\n",
      "Epoch 15/100\n",
      "1/7 [===>..........................] - ETA: 0s - loss: 0.5503 - accuracy: 1.0000\n",
      "Epoch 15: loss did not improve from 0.68265\n",
      "7/7 [==============================] - 0s 569us/step - loss: 0.6870 - accuracy: 0.6190 - lr: 0.0100\n",
      "Epoch 16/100\n",
      "1/7 [===>..........................] - ETA: 0s - loss: 0.6370 - accuracy: 0.6667\n",
      "Epoch 16: loss did not improve from 0.68265\n",
      "7/7 [==============================] - 0s 585us/step - loss: 0.6984 - accuracy: 0.6190 - lr: 0.0100\n",
      "Epoch 17/100\n",
      "1/7 [===>..........................] - ETA: 0s - loss: 0.8724 - accuracy: 0.3333\n",
      "Epoch 17: loss improved from 0.68265 to 0.66878, saving model to -017-0.6688-0.6190.hdf5\n",
      "7/7 [==============================] - 0s 2ms/step - loss: 0.6688 - accuracy: 0.6190 - lr: 0.0100\n",
      "Epoch 18/100\n",
      "1/7 [===>..........................] - ETA: 0s - loss: 0.8185 - accuracy: 0.0000e+00\n",
      "Epoch 18: loss did not improve from 0.66878\n",
      "7/7 [==============================] - 0s 620us/step - loss: 0.6948 - accuracy: 0.5714 - lr: 0.0100\n",
      "Epoch 19/100\n",
      "1/7 [===>..........................] - ETA: 0s - loss: 0.6702 - accuracy: 0.6667\n",
      "Epoch 19: loss improved from 0.66878 to 0.66527, saving model to -019-0.6653-0.6190.hdf5\n",
      "7/7 [==============================] - 0s 2ms/step - loss: 0.6653 - accuracy: 0.6190 - lr: 0.0100\n",
      "Epoch 20/100\n",
      "1/7 [===>..........................] - ETA: 0s - loss: 0.8093 - accuracy: 0.3333\n",
      "Epoch 20: loss improved from 0.66527 to 0.66156, saving model to -020-0.6616-0.6190.hdf5\n",
      "7/7 [==============================] - 0s 2ms/step - loss: 0.6616 - accuracy: 0.6190 - lr: 0.0100\n",
      "Epoch 21/100\n",
      "1/7 [===>..........................] - ETA: 0s - loss: 0.7666 - accuracy: 0.3333\n",
      "Epoch 21: loss did not improve from 0.66156\n",
      "7/7 [==============================] - 0s 622us/step - loss: 0.6844 - accuracy: 0.6190 - lr: 0.0100\n",
      "Epoch 22/100\n",
      "1/7 [===>..........................] - ETA: 0s - loss: 0.5361 - accuracy: 1.0000\n",
      "Epoch 22: loss did not improve from 0.66156\n",
      "7/7 [==============================] - 0s 616us/step - loss: 0.6960 - accuracy: 0.6190 - lr: 0.0100\n",
      "Epoch 23/100\n",
      "1/7 [===>..........................] - ETA: 0s - loss: 0.6234 - accuracy: 0.6667\n",
      "Epoch 23: loss improved from 0.66156 to 0.64662, saving model to -023-0.6466-0.6190.hdf5\n",
      "7/7 [==============================] - 0s 2ms/step - loss: 0.6466 - accuracy: 0.6190 - lr: 0.0100\n",
      "Epoch 24/100\n",
      "1/7 [===>..........................] - ETA: 0s - loss: 0.6282 - accuracy: 0.6667\n",
      "Epoch 24: loss improved from 0.64662 to 0.64040, saving model to -024-0.6404-0.6190.hdf5\n",
      "7/7 [==============================] - 0s 2ms/step - loss: 0.6404 - accuracy: 0.6190 - lr: 0.0100\n",
      "Epoch 25/100\n",
      "1/7 [===>..........................] - ETA: 0s - loss: 0.4854 - accuracy: 1.0000\n",
      "Epoch 25: loss did not improve from 0.64040\n",
      "7/7 [==============================] - 0s 609us/step - loss: 0.6582 - accuracy: 0.6190 - lr: 0.0100\n",
      "Epoch 26/100\n",
      "1/7 [===>..........................] - ETA: 0s - loss: 0.8655 - accuracy: 0.3333\n",
      "Epoch 26: loss did not improve from 0.64040\n",
      "7/7 [==============================] - 0s 580us/step - loss: 0.6439 - accuracy: 0.6190 - lr: 0.0100\n",
      "Epoch 27/100\n",
      "1/7 [===>..........................] - ETA: 0s - loss: 0.5907 - accuracy: 0.6667\n",
      "Epoch 27: loss did not improve from 0.64040\n",
      "\n",
      "Epoch 27: ReduceLROnPlateau reducing learning rate to 0.007999999821186066.\n",
      "7/7 [==============================] - 0s 577us/step - loss: 0.6590 - accuracy: 0.5714 - lr: 0.0100\n",
      "Epoch 28/100\n",
      "1/7 [===>..........................] - ETA: 0s - loss: 0.5861 - accuracy: 1.0000\n",
      "Epoch 28: loss did not improve from 0.64040\n",
      "7/7 [==============================] - 0s 623us/step - loss: 0.6724 - accuracy: 0.6190 - lr: 0.0080\n",
      "Epoch 29/100\n",
      "1/7 [===>..........................] - ETA: 0s - loss: 0.3925 - accuracy: 1.0000\n",
      "Epoch 29: loss did not improve from 0.64040\n",
      "7/7 [==============================] - 0s 690us/step - loss: 0.6468 - accuracy: 0.6190 - lr: 0.0080\n",
      "Epoch 30/100\n",
      "1/7 [===>..........................] - ETA: 0s - loss: 0.4019 - accuracy: 1.0000\n",
      "Epoch 30: loss improved from 0.64040 to 0.61740, saving model to -030-0.6174-0.6190.hdf5\n",
      "7/7 [==============================] - 0s 2ms/step - loss: 0.6174 - accuracy: 0.6190 - lr: 0.0080\n",
      "Epoch 31/100\n",
      "1/7 [===>..........................] - ETA: 0s - loss: 0.6447 - accuracy: 0.6667\n",
      "Epoch 31: loss did not improve from 0.61740\n",
      "7/7 [==============================] - 0s 553us/step - loss: 0.6339 - accuracy: 0.8095 - lr: 0.0080\n",
      "Epoch 32/100\n",
      "1/7 [===>..........................] - ETA: 0s - loss: 0.5788 - accuracy: 0.6667\n",
      "Epoch 32: loss did not improve from 0.61740\n",
      "7/7 [==============================] - 0s 516us/step - loss: 0.6570 - accuracy: 0.5714 - lr: 0.0080\n",
      "Epoch 33/100\n",
      "1/7 [===>..........................] - ETA: 0s - loss: 0.5561 - accuracy: 0.6667\n",
      "Epoch 33: loss did not improve from 0.61740\n",
      "\n",
      "Epoch 33: ReduceLROnPlateau reducing learning rate to 0.006399999558925629.\n",
      "7/7 [==============================] - 0s 707us/step - loss: 0.6236 - accuracy: 0.6667 - lr: 0.0080\n",
      "Epoch 34/100\n",
      "1/7 [===>..........................] - ETA: 0s - loss: 0.7038 - accuracy: 0.6667\n",
      "Epoch 34: loss did not improve from 0.61740\n",
      "7/7 [==============================] - 0s 552us/step - loss: 0.6292 - accuracy: 0.7619 - lr: 0.0064\n",
      "Epoch 35/100\n",
      "1/7 [===>..........................] - ETA: 0s - loss: 0.6406 - accuracy: 0.6667\n",
      "Epoch 35: loss did not improve from 0.61740\n",
      "7/7 [==============================] - 0s 582us/step - loss: 0.6238 - accuracy: 0.6190 - lr: 0.0064\n",
      "Epoch 36/100\n",
      "1/7 [===>..........................] - ETA: 0s - loss: 0.6053 - accuracy: 0.6667\n",
      "Epoch 36: loss did not improve from 0.61740\n",
      "\n",
      "Epoch 36: ReduceLROnPlateau reducing learning rate to 0.0051199994981288915.\n",
      "7/7 [==============================] - 0s 618us/step - loss: 0.6215 - accuracy: 0.6190 - lr: 0.0064\n",
      "Epoch 37/100\n",
      "1/7 [===>..........................] - ETA: 0s - loss: 0.5937 - accuracy: 0.6667\n",
      "Epoch 37: loss did not improve from 0.61740\n",
      "7/7 [==============================] - 0s 542us/step - loss: 0.6187 - accuracy: 0.6190 - lr: 0.0051\n",
      "Epoch 38/100\n",
      "1/7 [===>..........................] - ETA: 0s - loss: 0.5315 - accuracy: 0.6667\n",
      "Epoch 38: loss improved from 0.61740 to 0.61623, saving model to -038-0.6162-0.6190.hdf5\n",
      "7/7 [==============================] - 0s 2ms/step - loss: 0.6162 - accuracy: 0.6190 - lr: 0.0051\n"
     ]
    },
    {
     "name": "stdout",
     "output_type": "stream",
     "text": [
      "Epoch 39/100\n",
      "1/7 [===>..........................] - ETA: 0s - loss: 0.7161 - accuracy: 0.6667\n",
      "Epoch 39: loss improved from 0.61623 to 0.61622, saving model to -039-0.6162-0.7143.hdf5\n",
      "7/7 [==============================] - 0s 1ms/step - loss: 0.6162 - accuracy: 0.7143 - lr: 0.0051\n",
      "Epoch 40/100\n",
      "1/7 [===>..........................] - ETA: 0s - loss: 0.4855 - accuracy: 1.0000\n",
      "Epoch 40: loss did not improve from 0.61622\n",
      "7/7 [==============================] - 0s 485us/step - loss: 0.6475 - accuracy: 0.6667 - lr: 0.0051\n",
      "Epoch 41/100\n",
      "1/7 [===>..........................] - ETA: 0s - loss: 0.3632 - accuracy: 1.0000\n",
      "Epoch 41: loss improved from 0.61622 to 0.61253, saving model to -041-0.6125-0.6190.hdf5\n",
      "7/7 [==============================] - 0s 2ms/step - loss: 0.6125 - accuracy: 0.6190 - lr: 0.0051\n",
      "Epoch 42/100\n",
      "1/7 [===>..........................] - ETA: 0s - loss: 0.5128 - accuracy: 0.6667\n",
      "Epoch 42: loss did not improve from 0.61253\n",
      "7/7 [==============================] - 0s 537us/step - loss: 0.6128 - accuracy: 0.6190 - lr: 0.0051\n",
      "Epoch 43/100\n",
      "1/7 [===>..........................] - ETA: 0s - loss: 0.5832 - accuracy: 1.0000\n",
      "Epoch 43: loss did not improve from 0.61253\n",
      "7/7 [==============================] - 0s 570us/step - loss: 0.6140 - accuracy: 0.7619 - lr: 0.0051\n",
      "Epoch 44/100\n",
      "1/7 [===>..........................] - ETA: 0s - loss: 0.4596 - accuracy: 1.0000\n",
      "Epoch 44: loss did not improve from 0.61253\n",
      "\n",
      "Epoch 44: ReduceLROnPlateau reducing learning rate to 0.004095999523997307.\n",
      "7/7 [==============================] - 0s 552us/step - loss: 0.6158 - accuracy: 0.6190 - lr: 0.0051\n",
      "Epoch 45/100\n",
      "1/7 [===>..........................] - ETA: 0s - loss: 0.3868 - accuracy: 1.0000\n",
      "Epoch 45: loss improved from 0.61253 to 0.60993, saving model to -045-0.6099-0.6190.hdf5\n",
      "7/7 [==============================] - 0s 2ms/step - loss: 0.6099 - accuracy: 0.6190 - lr: 0.0041\n",
      "Epoch 46/100\n",
      "1/7 [===>..........................] - ETA: 0s - loss: 0.5946 - accuracy: 0.6667\n",
      "Epoch 46: loss improved from 0.60993 to 0.60719, saving model to -046-0.6072-0.6190.hdf5\n",
      "7/7 [==============================] - 0s 2ms/step - loss: 0.6072 - accuracy: 0.6190 - lr: 0.0041\n",
      "Epoch 47/100\n",
      "1/7 [===>..........................] - ETA: 0s - loss: 0.4791 - accuracy: 1.0000\n",
      "Epoch 47: loss improved from 0.60719 to 0.60315, saving model to -047-0.6032-0.6190.hdf5\n",
      "7/7 [==============================] - 0s 1ms/step - loss: 0.6032 - accuracy: 0.6190 - lr: 0.0041\n",
      "Epoch 48/100\n",
      "1/7 [===>..........................] - ETA: 0s - loss: 0.5131 - accuracy: 0.6667\n",
      "Epoch 48: loss did not improve from 0.60315\n",
      "7/7 [==============================] - 0s 558us/step - loss: 0.6167 - accuracy: 0.6667 - lr: 0.0041\n",
      "Epoch 49/100\n",
      "1/7 [===>..........................] - ETA: 0s - loss: 0.5692 - accuracy: 0.6667\n",
      "Epoch 49: loss did not improve from 0.60315\n",
      "7/7 [==============================] - 0s 582us/step - loss: 0.6105 - accuracy: 0.6190 - lr: 0.0041\n",
      "Epoch 50/100\n",
      "1/7 [===>..........................] - ETA: 0s - loss: 0.5999 - accuracy: 0.6667\n",
      "Epoch 50: loss improved from 0.60315 to 0.60228, saving model to -050-0.6023-0.6190.hdf5\n",
      "7/7 [==============================] - 0s 2ms/step - loss: 0.6023 - accuracy: 0.6190 - lr: 0.0041\n",
      "Epoch 51/100\n",
      "1/7 [===>..........................] - ETA: 0s - loss: 0.3926 - accuracy: 1.0000\n",
      "Epoch 51: loss did not improve from 0.60228\n",
      "7/7 [==============================] - 0s 520us/step - loss: 0.6038 - accuracy: 0.6190 - lr: 0.0041\n",
      "Epoch 52/100\n",
      "1/7 [===>..........................] - ETA: 0s - loss: 0.6926 - accuracy: 0.6667\n",
      "Epoch 52: loss did not improve from 0.60228\n",
      "7/7 [==============================] - 0s 535us/step - loss: 0.6114 - accuracy: 0.7143 - lr: 0.0041\n",
      "Epoch 53/100\n",
      "1/7 [===>..........................] - ETA: 0s - loss: 0.5126 - accuracy: 1.0000\n",
      "Epoch 53: loss improved from 0.60228 to 0.60010, saving model to -053-0.6001-0.6667.hdf5\n",
      "7/7 [==============================] - 0s 1ms/step - loss: 0.6001 - accuracy: 0.6667 - lr: 0.0041\n",
      "Epoch 54/100\n",
      "1/7 [===>..........................] - ETA: 0s - loss: 0.6115 - accuracy: 0.3333\n",
      "Epoch 54: loss improved from 0.60010 to 0.59932, saving model to -054-0.5993-0.6190.hdf5\n",
      "7/7 [==============================] - 0s 1ms/step - loss: 0.5993 - accuracy: 0.6190 - lr: 0.0041\n",
      "Epoch 55/100\n",
      "1/7 [===>..........................] - ETA: 0s - loss: 0.7504 - accuracy: 0.3333\n",
      "Epoch 55: loss did not improve from 0.59932\n",
      "7/7 [==============================] - 0s 516us/step - loss: 0.6008 - accuracy: 0.5714 - lr: 0.0041\n",
      "Epoch 56/100\n",
      "1/7 [===>..........................] - ETA: 0s - loss: 0.8651 - accuracy: 0.3333\n",
      "Epoch 56: loss did not improve from 0.59932\n",
      "7/7 [==============================] - 0s 500us/step - loss: 0.6089 - accuracy: 0.5714 - lr: 0.0041\n",
      "Epoch 57/100\n",
      "1/7 [===>..........................] - ETA: 0s - loss: 0.8020 - accuracy: 0.6667\n",
      "Epoch 57: loss did not improve from 0.59932\n",
      "\n",
      "Epoch 57: ReduceLROnPlateau reducing learning rate to 0.0032767996191978457.\n",
      "7/7 [==============================] - 0s 650us/step - loss: 0.6038 - accuracy: 0.7619 - lr: 0.0041\n",
      "Epoch 58/100\n",
      "1/7 [===>..........................] - ETA: 0s - loss: 0.4924 - accuracy: 0.6667\n",
      "Epoch 58: loss did not improve from 0.59932\n",
      "7/7 [==============================] - 0s 558us/step - loss: 0.6058 - accuracy: 0.6190 - lr: 0.0033\n",
      "Epoch 59/100\n",
      "1/7 [===>..........................] - ETA: 0s - loss: 0.6450 - accuracy: 0.3333\n",
      "Epoch 59: loss did not improve from 0.59932\n",
      "7/7 [==============================] - 0s 608us/step - loss: 0.5994 - accuracy: 0.6190 - lr: 0.0033\n",
      "Epoch 60/100\n",
      "1/7 [===>..........................] - ETA: 0s - loss: 0.4881 - accuracy: 0.6667\n",
      "Epoch 60: loss did not improve from 0.59932\n",
      "\n",
      "Epoch 60: ReduceLROnPlateau reducing learning rate to 0.0026214396581053737.\n",
      "7/7 [==============================] - 0s 600us/step - loss: 0.6099 - accuracy: 0.6190 - lr: 0.0033\n",
      "Epoch 61/100\n",
      "1/7 [===>..........................] - ETA: 0s - loss: 0.5536 - accuracy: 0.6667\n",
      "Epoch 61: loss did not improve from 0.59932\n",
      "7/7 [==============================] - 0s 532us/step - loss: 0.6009 - accuracy: 0.7619 - lr: 0.0026\n",
      "Epoch 62/100\n",
      "1/7 [===>..........................] - ETA: 0s - loss: 0.7435 - accuracy: 0.6667\n",
      "Epoch 62: loss improved from 0.59932 to 0.59459, saving model to -062-0.5946-0.6190.hdf5\n",
      "7/7 [==============================] - 0s 2ms/step - loss: 0.5946 - accuracy: 0.6190 - lr: 0.0026\n",
      "Epoch 63/100\n",
      "1/7 [===>..........................] - ETA: 0s - loss: 0.5894 - accuracy: 0.6667\n",
      "Epoch 63: loss did not improve from 0.59459\n",
      "7/7 [==============================] - 0s 561us/step - loss: 0.5958 - accuracy: 0.6190 - lr: 0.0026\n",
      "Epoch 64/100\n",
      "1/7 [===>..........................] - ETA: 0s - loss: 0.5669 - accuracy: 1.0000\n",
      "Epoch 64: loss improved from 0.59459 to 0.59135, saving model to -064-0.5914-0.6667.hdf5\n",
      "7/7 [==============================] - 0s 2ms/step - loss: 0.5914 - accuracy: 0.6667 - lr: 0.0026\n",
      "Epoch 65/100\n",
      "1/7 [===>..........................] - ETA: 0s - loss: 0.6734 - accuracy: 1.0000\n",
      "Epoch 65: loss did not improve from 0.59135\n",
      "7/7 [==============================] - 0s 561us/step - loss: 0.6043 - accuracy: 0.7619 - lr: 0.0026\n",
      "Epoch 66/100\n",
      "1/7 [===>..........................] - ETA: 0s - loss: 0.6667 - accuracy: 0.6667\n",
      "Epoch 66: loss improved from 0.59135 to 0.59100, saving model to -066-0.5910-0.7619.hdf5\n",
      "7/7 [==============================] - 0s 1ms/step - loss: 0.5910 - accuracy: 0.7619 - lr: 0.0026\n",
      "Epoch 67/100\n",
      "1/7 [===>..........................] - ETA: 0s - loss: 0.5637 - accuracy: 1.0000\n",
      "Epoch 67: loss improved from 0.59100 to 0.58992, saving model to -067-0.5899-0.7619.hdf5\n",
      "7/7 [==============================] - 0s 1ms/step - loss: 0.5899 - accuracy: 0.7619 - lr: 0.0026\n",
      "Epoch 68/100\n",
      "1/7 [===>..........................] - ETA: 0s - loss: 0.5988 - accuracy: 0.3333\n",
      "Epoch 68: loss did not improve from 0.58992\n",
      "7/7 [==============================] - 0s 507us/step - loss: 0.5955 - accuracy: 0.5238 - lr: 0.0026\n",
      "Epoch 69/100\n",
      "1/7 [===>..........................] - ETA: 0s - loss: 0.3614 - accuracy: 1.0000\n",
      "Epoch 69: loss did not improve from 0.58992\n",
      "7/7 [==============================] - 0s 491us/step - loss: 0.5967 - accuracy: 0.6190 - lr: 0.0026\n",
      "Epoch 70/100\n",
      "1/7 [===>..........................] - ETA: 0s - loss: 0.7928 - accuracy: 0.3333\n",
      "Epoch 70: loss did not improve from 0.58992\n",
      "\n",
      "Epoch 70: ReduceLROnPlateau reducing learning rate to 0.0020971518009901048.\n",
      "7/7 [==============================] - 0s 646us/step - loss: 0.5901 - accuracy: 0.6667 - lr: 0.0026\n",
      "Epoch 71/100\n",
      "1/7 [===>..........................] - ETA: 0s - loss: 0.5815 - accuracy: 1.0000\n",
      "Epoch 71: loss improved from 0.58992 to 0.58966, saving model to -071-0.5897-0.7619.hdf5\n",
      "7/7 [==============================] - 0s 2ms/step - loss: 0.5897 - accuracy: 0.7619 - lr: 0.0021\n",
      "Epoch 72/100\n",
      "1/7 [===>..........................] - ETA: 0s - loss: 0.5967 - accuracy: 0.6667\n",
      "Epoch 72: loss improved from 0.58966 to 0.58928, saving model to -072-0.5893-0.7619.hdf5\n",
      "7/7 [==============================] - 0s 1ms/step - loss: 0.5893 - accuracy: 0.7619 - lr: 0.0021\n",
      "Epoch 73/100\n",
      "1/7 [===>..........................] - ETA: 0s - loss: 0.6317 - accuracy: 1.0000\n",
      "Epoch 73: loss did not improve from 0.58928\n",
      "7/7 [==============================] - 0s 500us/step - loss: 0.5952 - accuracy: 0.7619 - lr: 0.0021\n",
      "Epoch 74/100\n",
      "1/7 [===>..........................] - ETA: 0s - loss: 0.5463 - accuracy: 1.0000\n",
      "Epoch 74: loss did not improve from 0.58928\n",
      "7/7 [==============================] - 0s 484us/step - loss: 0.5899 - accuracy: 0.7619 - lr: 0.0021\n",
      "Epoch 75/100\n",
      "1/7 [===>..........................] - ETA: 0s - loss: 0.6379 - accuracy: 0.6667\n",
      "Epoch 75: loss improved from 0.58928 to 0.58522, saving model to -075-0.5852-0.7619.hdf5\n",
      "7/7 [==============================] - 0s 2ms/step - loss: 0.5852 - accuracy: 0.7619 - lr: 0.0021\n",
      "Epoch 76/100\n",
      "1/7 [===>..........................] - ETA: 0s - loss: 0.4759 - accuracy: 1.0000\n",
      "Epoch 76: loss did not improve from 0.58522\n",
      "7/7 [==============================] - 0s 558us/step - loss: 0.5950 - accuracy: 0.5714 - lr: 0.0021\n",
      "Epoch 77/100\n",
      "1/7 [===>..........................] - ETA: 0s - loss: 0.8659 - accuracy: 0.3333\n",
      "Epoch 77: loss did not improve from 0.58522\n",
      "7/7 [==============================] - 0s 480us/step - loss: 0.5878 - accuracy: 0.7619 - lr: 0.0021\n",
      "Epoch 78/100\n",
      "1/7 [===>..........................] - ETA: 0s - loss: 0.5939 - accuracy: 0.6667\n",
      "Epoch 78: loss did not improve from 0.58522\n",
      "\n",
      "Epoch 78: ReduceLROnPlateau reducing learning rate to 0.0016777213662862779.\n",
      "7/7 [==============================] - 0s 596us/step - loss: 0.5884 - accuracy: 0.6190 - lr: 0.0021\n",
      "Epoch 79/100\n",
      "1/7 [===>..........................] - ETA: 0s - loss: 0.3628 - accuracy: 1.0000\n",
      "Epoch 79: loss did not improve from 0.58522\n",
      "7/7 [==============================] - 0s 543us/step - loss: 0.5890 - accuracy: 0.6190 - lr: 0.0017\n",
      "Epoch 80/100\n",
      "1/7 [===>..........................] - ETA: 0s - loss: 0.5857 - accuracy: 0.3333\n",
      "Epoch 80: loss did not improve from 0.58522\n",
      "7/7 [==============================] - 0s 625us/step - loss: 0.5887 - accuracy: 0.6667 - lr: 0.0017\n",
      "Epoch 81/100\n",
      "1/7 [===>..........................] - ETA: 0s - loss: 0.4949 - accuracy: 0.6667\n",
      "Epoch 81: loss did not improve from 0.58522\n",
      "\n",
      "Epoch 81: ReduceLROnPlateau reducing learning rate to 0.0013421771116554739.\n",
      "7/7 [==============================] - 0s 597us/step - loss: 0.5854 - accuracy: 0.7619 - lr: 0.0017\n",
      "Epoch 82/100\n",
      "1/7 [===>..........................] - ETA: 0s - loss: 0.5686 - accuracy: 1.0000\n",
      "Epoch 82: loss improved from 0.58522 to 0.58506, saving model to -082-0.5851-0.7619.hdf5\n",
      "7/7 [==============================] - 0s 2ms/step - loss: 0.5851 - accuracy: 0.7619 - lr: 0.0013\n",
      "Epoch 83/100\n",
      "1/7 [===>..........................] - ETA: 0s - loss: 0.7420 - accuracy: 0.6667\n",
      "Epoch 83: loss did not improve from 0.58506\n",
      "7/7 [==============================] - 0s 507us/step - loss: 0.5873 - accuracy: 0.7619 - lr: 0.0013\n",
      "Epoch 84/100\n",
      "1/7 [===>..........................] - ETA: 0s - loss: 0.7639 - accuracy: 0.3333\n",
      "Epoch 84: loss improved from 0.58506 to 0.58384, saving model to -084-0.5838-0.7619.hdf5\n",
      "7/7 [==============================] - 0s 1ms/step - loss: 0.5838 - accuracy: 0.7619 - lr: 0.0013\n",
      "Epoch 85/100\n",
      "1/7 [===>..........................] - ETA: 0s - loss: 0.5937 - accuracy: 0.6667\n",
      "Epoch 85: loss did not improve from 0.58384\n",
      "7/7 [==============================] - 0s 497us/step - loss: 0.5841 - accuracy: 0.7619 - lr: 0.0013\n",
      "Epoch 86/100\n",
      "1/7 [===>..........................] - ETA: 0s - loss: 0.4706 - accuracy: 1.0000\n",
      "Epoch 86: loss improved from 0.58384 to 0.58297, saving model to -086-0.5830-0.7619.hdf5\n",
      "7/7 [==============================] - 0s 2ms/step - loss: 0.5830 - accuracy: 0.7619 - lr: 0.0013\n",
      "Epoch 87/100\n",
      "1/7 [===>..........................] - ETA: 0s - loss: 0.8433 - accuracy: 0.6667\n",
      "Epoch 87: loss did not improve from 0.58297\n",
      "7/7 [==============================] - 0s 602us/step - loss: 0.5870 - accuracy: 0.7619 - lr: 0.0013\n",
      "Epoch 88/100\n",
      "1/7 [===>..........................] - ETA: 0s - loss: 0.7302 - accuracy: 0.6667\n",
      "Epoch 88: loss did not improve from 0.58297\n",
      "7/7 [==============================] - 0s 503us/step - loss: 0.5836 - accuracy: 0.7619 - lr: 0.0013\n",
      "Epoch 89/100\n",
      "1/7 [===>..........................] - ETA: 0s - loss: 0.4945 - accuracy: 0.6667\n",
      "Epoch 89: loss did not improve from 0.58297\n",
      "\n",
      "Epoch 89: ReduceLROnPlateau reducing learning rate to 0.001073741726577282.\n",
      "7/7 [==============================] - 0s 623us/step - loss: 0.5873 - accuracy: 0.6190 - lr: 0.0013\n",
      "Epoch 90/100\n",
      "1/7 [===>..........................] - ETA: 0s - loss: 0.7625 - accuracy: 0.3333\n",
      "Epoch 90: loss did not improve from 0.58297\n",
      "7/7 [==============================] - 0s 553us/step - loss: 0.5835 - accuracy: 0.6667 - lr: 0.0011\n",
      "Epoch 91/100\n",
      "1/7 [===>..........................] - ETA: 0s - loss: 0.8878 - accuracy: 0.0000e+00\n",
      "Epoch 91: loss did not improve from 0.58297\n",
      "7/7 [==============================] - 0s 570us/step - loss: 0.5837 - accuracy: 0.7619 - lr: 0.0011\n",
      "Epoch 92/100\n",
      "1/7 [===>..........................] - ETA: 0s - loss: 0.5676 - accuracy: 1.0000\n",
      "Epoch 92: loss improved from 0.58297 to 0.58247, saving model to -092-0.5825-0.7619.hdf5\n",
      "7/7 [==============================] - 0s 2ms/step - loss: 0.5825 - accuracy: 0.7619 - lr: 0.0011\n",
      "Epoch 93/100\n",
      "1/7 [===>..........................] - ETA: 0s - loss: 0.7346 - accuracy: 0.6667\n",
      "Epoch 93: loss improved from 0.58247 to 0.58230, saving model to -093-0.5823-0.7619.hdf5\n",
      "7/7 [==============================] - 0s 1ms/step - loss: 0.5823 - accuracy: 0.7619 - lr: 0.0011\n",
      "Epoch 94/100\n",
      "1/7 [===>..........................] - ETA: 0s - loss: 0.4669 - accuracy: 1.0000\n",
      "Epoch 94: loss did not improve from 0.58230\n",
      "7/7 [==============================] - 0s 539us/step - loss: 0.5825 - accuracy: 0.7619 - lr: 0.0011\n",
      "Epoch 95/100\n",
      "1/7 [===>..........................] - ETA: 0s - loss: 0.3726 - accuracy: 1.0000\n",
      "Epoch 95: loss did not improve from 0.58230\n",
      "7/7 [==============================] - 0s 574us/step - loss: 0.5828 - accuracy: 0.7619 - lr: 0.0011\n",
      "Epoch 96/100\n",
      "1/7 [===>..........................] - ETA: 0s - loss: 0.3652 - accuracy: 1.0000\n",
      "Epoch 96: loss did not improve from 0.58230\n",
      "\n",
      "Epoch 96: ReduceLROnPlateau reducing learning rate to 0.0008589933626353742.\n",
      "7/7 [==============================] - 0s 584us/step - loss: 0.5885 - accuracy: 0.6667 - lr: 0.0011\n",
      "Epoch 97/100\n",
      "1/7 [===>..........................] - ETA: 0s - loss: 0.8654 - accuracy: 0.6667\n",
      "Epoch 97: loss did not improve from 0.58230\n",
      "7/7 [==============================] - 0s 601us/step - loss: 0.5855 - accuracy: 0.7619 - lr: 8.5899e-04\n",
      "Epoch 98/100\n",
      "1/7 [===>..........................] - ETA: 0s - loss: 0.4641 - accuracy: 1.0000\n",
      "Epoch 98: loss improved from 0.58230 to 0.58081, saving model to -098-0.5808-0.7619.hdf5\n",
      "7/7 [==============================] - 0s 2ms/step - loss: 0.5808 - accuracy: 0.7619 - lr: 8.5899e-04\n",
      "Epoch 99/100\n",
      "1/7 [===>..........................] - ETA: 0s - loss: 0.4977 - accuracy: 0.6667\n",
      "Epoch 99: loss did not improve from 0.58081\n",
      "7/7 [==============================] - 0s 578us/step - loss: 0.5824 - accuracy: 0.7619 - lr: 8.5899e-04\n",
      "Epoch 100/100\n",
      "1/7 [===>..........................] - ETA: 0s - loss: 0.5042 - accuracy: 0.6667\n",
      "Epoch 100: loss did not improve from 0.58081\n",
      "7/7 [==============================] - 0s 476us/step - loss: 0.5811 - accuracy: 0.7619 - lr: 8.5899e-04\n"
     ]
    },
    {
     "data": {
      "text/plain": [
       "<keras.callbacks.History at 0x29a0ad580>"
      ]
     },
     "execution_count": 17,
     "metadata": {},
     "output_type": "execute_result"
    }
   ],
   "source": [
    "model.fit(x=InputFeature, y=Label, epochs=100, shuffle=True, batch_size=3, callbacks=CALLBACK)"
   ]
  },
  {
   "cell_type": "markdown",
   "id": "13beca2c",
   "metadata": {},
   "source": [
    "# Model Load 하기 전, hdf5 파일 이름 꼭 확인하기"
   ]
  },
  {
   "cell_type": "code",
   "execution_count": 3,
   "id": "13bdffe6",
   "metadata": {
    "ExecuteTime": {
     "end_time": "2022-07-07T02:52:27.035166Z",
     "start_time": "2022-07-07T02:52:27.015411Z"
    }
   },
   "outputs": [],
   "source": [
    "model.load_weights(\"-100-0.5564-0.7619.hdf5\")"
   ]
  },
  {
   "cell_type": "markdown",
   "id": "facab60a",
   "metadata": {},
   "source": [
    "## FLASK 셋팅하기"
   ]
  },
  {
   "cell_type": "code",
   "execution_count": 4,
   "id": "9874dd6d",
   "metadata": {
    "ExecuteTime": {
     "end_time": "2022-07-07T02:52:27.742940Z",
     "start_time": "2022-07-07T02:52:27.654790Z"
    }
   },
   "outputs": [],
   "source": [
    "from flask import Flask\n",
    "from flask import render_template\n",
    "from flask import request"
   ]
  },
  {
   "cell_type": "code",
   "execution_count": 5,
   "id": "0ae241b9",
   "metadata": {
    "ExecuteTime": {
     "end_time": "2022-07-07T02:52:28.231266Z",
     "start_time": "2022-07-07T02:52:28.221089Z"
    }
   },
   "outputs": [],
   "source": [
    "app = Flask(__name__)"
   ]
  },
  {
   "cell_type": "markdown",
   "id": "8553c0c4",
   "metadata": {},
   "source": [
    "# FLASK API 구현부분"
   ]
  },
  {
   "cell_type": "code",
   "execution_count": 6,
   "id": "1a8d0352",
   "metadata": {
    "ExecuteTime": {
     "end_time": "2022-07-07T02:52:29.498166Z",
     "start_time": "2022-07-07T02:52:29.481927Z"
    }
   },
   "outputs": [],
   "source": [
    "@app.route('/')\n",
    "@app.route('/SpecialSale')\n",
    "def PredictionSpecialSale():\n",
    "    busy_day = request.args.get('busy_day')\n",
    "    high_temperature = request.args.get('high_temperature')\n",
    "    \n",
    "    print(busy_day, high_temperature)\n",
    "    \n",
    "    if busy_day == None or high_temperature == None:\n",
    "        return render_template('SpecialSale2.html', Output = '')\n",
    "    \n",
    "    Input = pd.DataFrame({\n",
    "        'busy_day':[int(busy_day)],\n",
    "        'high_temperature':[float(high_temperature)]\n",
    "    })\n",
    "    ModelOutput = model.predict(Input)[0][0]\n",
    "\n",
    "    return render_template('SpecialSale2.html', Output = ModelOutput)"
   ]
  },
  {
   "cell_type": "markdown",
   "id": "7f1437e7",
   "metadata": {},
   "source": [
    "# Flask, port 5000으로 실행"
   ]
  },
  {
   "cell_type": "code",
   "execution_count": 7,
   "id": "55b97941",
   "metadata": {
    "ExecuteTime": {
     "start_time": "2022-07-07T02:52:30.846Z"
    }
   },
   "outputs": [
    {
     "name": "stdout",
     "output_type": "stream",
     "text": [
      " * Serving Flask app '__main__' (lazy loading)\n",
      " * Environment: production\n",
      "\u001b[31m   WARNING: This is a development server. Do not use it in a production deployment.\u001b[0m\n",
      "\u001b[2m   Use a production WSGI server instead.\u001b[0m\n",
      " * Debug mode: off\n"
     ]
    },
    {
     "name": "stderr",
     "output_type": "stream",
     "text": [
      " * Running on http://127.0.0.1:5000/ (Press CTRL+C to quit)\n",
      "127.0.0.1 - - [07/Jul/2022 13:12:50] \"GET / HTTP/1.1\" 200 -\n"
     ]
    },
    {
     "name": "stdout",
     "output_type": "stream",
     "text": [
      "None None\n"
     ]
    },
    {
     "name": "stderr",
     "output_type": "stream",
     "text": [
      "2022-07-07 13:12:55.615519: W tensorflow/core/platform/profile_utils/cpu_utils.cc:128] Failed to get CPU frequency: 0 Hz\n",
      "127.0.0.1 - - [07/Jul/2022 13:12:55] \"GET /SpecialSale?busy_day=1&high_temperature=34 HTTP/1.1\" 200 -\n"
     ]
    },
    {
     "name": "stdout",
     "output_type": "stream",
     "text": [
      "1 34\n"
     ]
    }
   ],
   "source": [
    "app.run(host='127.0.0.1', port=5000)"
   ]
  },
  {
   "cell_type": "code",
   "execution_count": null,
   "id": "93c30112",
   "metadata": {
    "ExecuteTime": {
     "start_time": "2022-07-06T08:41:22.006Z"
    }
   },
   "outputs": [],
   "source": [
    "# http://127.0.0.1:5000/SpecialSale/1/38"
   ]
  },
  {
   "cell_type": "code",
   "execution_count": null,
   "id": "4043ea72",
   "metadata": {},
   "outputs": [],
   "source": []
  }
 ],
 "metadata": {
  "kernelspec": {
   "display_name": "Python 3 (ipykernel)",
   "language": "python",
   "name": "python3"
  },
  "language_info": {
   "codemirror_mode": {
    "name": "ipython",
    "version": 3
   },
   "file_extension": ".py",
   "mimetype": "text/x-python",
   "name": "python",
   "nbconvert_exporter": "python",
   "pygments_lexer": "ipython3",
   "version": "3.8.13"
  },
  "toc": {
   "base_numbering": 1,
   "nav_menu": {},
   "number_sections": true,
   "sideBar": true,
   "skip_h1_title": false,
   "title_cell": "Table of Contents",
   "title_sidebar": "Contents",
   "toc_cell": false,
   "toc_position": {},
   "toc_section_display": true,
   "toc_window_display": false
  }
 },
 "nbformat": 4,
 "nbformat_minor": 5
}
